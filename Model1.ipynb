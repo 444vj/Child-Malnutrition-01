{
  "nbformat": 4,
  "nbformat_minor": 0,
  "metadata": {
    "colab": {
      "provenance": []
    },
    "kernelspec": {
      "name": "python3",
      "display_name": "Python 3"
    },
    "language_info": {
      "name": "python"
    }
  },
  "cells": [
    {
      "cell_type": "code",
      "execution_count": 1,
      "metadata": {
        "id": "3L0xGc6s8E71"
      },
      "outputs": [],
      "source": [
        "import numpy as np\n",
        "import pandas as pd\n",
        "import matplotlib.pyplot as plt\n",
        "import seaborn as sns\n",
        "%matplotlib inline"
      ]
    },
    {
      "cell_type": "code",
      "source": [
        "data = pd.read_csv('/content/drive/MyDrive/Preprocessed_Data.csv')\n",
        "predictors = data.iloc[:, :7]\n",
        "target = data.iloc[:, 7]\n",
        "data.head()"
      ],
      "metadata": {
        "colab": {
          "base_uri": "https://localhost:8080/",
          "height": 206
        },
        "id": "XAajVDk38OJk",
        "outputId": "54f6a2cb-13fd-4f1f-c328-322f586d93cd"
      },
      "execution_count": 2,
      "outputs": [
        {
          "output_type": "execute_result",
          "data": {
            "text/plain": [
              "   Sex  Age  Height  Weight  Low Income  Lower Middle Income  \\\n",
              "0    1    5      75      17           1                    0   \n",
              "1    0    4     101      13           1                    0   \n",
              "2    0    4      71      17           1                    0   \n",
              "3    0    3      81      13           0                    0   \n",
              "4    0    1      79      16           0                    0   \n",
              "\n",
              "   Upper Middle Income    Status  \n",
              "0                    0  Stunting  \n",
              "1                    0  Stunting  \n",
              "2                    0  Stunting  \n",
              "3                    1  Stunting  \n",
              "4                    1  Stunting  "
            ],
            "text/html": [
              "\n",
              "  <div id=\"df-d4029aa5-c2f9-4dc1-8514-1be01fd6c791\" class=\"colab-df-container\">\n",
              "    <div>\n",
              "<style scoped>\n",
              "    .dataframe tbody tr th:only-of-type {\n",
              "        vertical-align: middle;\n",
              "    }\n",
              "\n",
              "    .dataframe tbody tr th {\n",
              "        vertical-align: top;\n",
              "    }\n",
              "\n",
              "    .dataframe thead th {\n",
              "        text-align: right;\n",
              "    }\n",
              "</style>\n",
              "<table border=\"1\" class=\"dataframe\">\n",
              "  <thead>\n",
              "    <tr style=\"text-align: right;\">\n",
              "      <th></th>\n",
              "      <th>Sex</th>\n",
              "      <th>Age</th>\n",
              "      <th>Height</th>\n",
              "      <th>Weight</th>\n",
              "      <th>Low Income</th>\n",
              "      <th>Lower Middle Income</th>\n",
              "      <th>Upper Middle Income</th>\n",
              "      <th>Status</th>\n",
              "    </tr>\n",
              "  </thead>\n",
              "  <tbody>\n",
              "    <tr>\n",
              "      <th>0</th>\n",
              "      <td>1</td>\n",
              "      <td>5</td>\n",
              "      <td>75</td>\n",
              "      <td>17</td>\n",
              "      <td>1</td>\n",
              "      <td>0</td>\n",
              "      <td>0</td>\n",
              "      <td>Stunting</td>\n",
              "    </tr>\n",
              "    <tr>\n",
              "      <th>1</th>\n",
              "      <td>0</td>\n",
              "      <td>4</td>\n",
              "      <td>101</td>\n",
              "      <td>13</td>\n",
              "      <td>1</td>\n",
              "      <td>0</td>\n",
              "      <td>0</td>\n",
              "      <td>Stunting</td>\n",
              "    </tr>\n",
              "    <tr>\n",
              "      <th>2</th>\n",
              "      <td>0</td>\n",
              "      <td>4</td>\n",
              "      <td>71</td>\n",
              "      <td>17</td>\n",
              "      <td>1</td>\n",
              "      <td>0</td>\n",
              "      <td>0</td>\n",
              "      <td>Stunting</td>\n",
              "    </tr>\n",
              "    <tr>\n",
              "      <th>3</th>\n",
              "      <td>0</td>\n",
              "      <td>3</td>\n",
              "      <td>81</td>\n",
              "      <td>13</td>\n",
              "      <td>0</td>\n",
              "      <td>0</td>\n",
              "      <td>1</td>\n",
              "      <td>Stunting</td>\n",
              "    </tr>\n",
              "    <tr>\n",
              "      <th>4</th>\n",
              "      <td>0</td>\n",
              "      <td>1</td>\n",
              "      <td>79</td>\n",
              "      <td>16</td>\n",
              "      <td>0</td>\n",
              "      <td>0</td>\n",
              "      <td>1</td>\n",
              "      <td>Stunting</td>\n",
              "    </tr>\n",
              "  </tbody>\n",
              "</table>\n",
              "</div>\n",
              "    <div class=\"colab-df-buttons\">\n",
              "\n",
              "  <div class=\"colab-df-container\">\n",
              "    <button class=\"colab-df-convert\" onclick=\"convertToInteractive('df-d4029aa5-c2f9-4dc1-8514-1be01fd6c791')\"\n",
              "            title=\"Convert this dataframe to an interactive table.\"\n",
              "            style=\"display:none;\">\n",
              "\n",
              "  <svg xmlns=\"http://www.w3.org/2000/svg\" height=\"24px\" viewBox=\"0 -960 960 960\">\n",
              "    <path d=\"M120-120v-720h720v720H120Zm60-500h600v-160H180v160Zm220 220h160v-160H400v160Zm0 220h160v-160H400v160ZM180-400h160v-160H180v160Zm440 0h160v-160H620v160ZM180-180h160v-160H180v160Zm440 0h160v-160H620v160Z\"/>\n",
              "  </svg>\n",
              "    </button>\n",
              "\n",
              "  <style>\n",
              "    .colab-df-container {\n",
              "      display:flex;\n",
              "      gap: 12px;\n",
              "    }\n",
              "\n",
              "    .colab-df-convert {\n",
              "      background-color: #E8F0FE;\n",
              "      border: none;\n",
              "      border-radius: 50%;\n",
              "      cursor: pointer;\n",
              "      display: none;\n",
              "      fill: #1967D2;\n",
              "      height: 32px;\n",
              "      padding: 0 0 0 0;\n",
              "      width: 32px;\n",
              "    }\n",
              "\n",
              "    .colab-df-convert:hover {\n",
              "      background-color: #E2EBFA;\n",
              "      box-shadow: 0px 1px 2px rgba(60, 64, 67, 0.3), 0px 1px 3px 1px rgba(60, 64, 67, 0.15);\n",
              "      fill: #174EA6;\n",
              "    }\n",
              "\n",
              "    .colab-df-buttons div {\n",
              "      margin-bottom: 4px;\n",
              "    }\n",
              "\n",
              "    [theme=dark] .colab-df-convert {\n",
              "      background-color: #3B4455;\n",
              "      fill: #D2E3FC;\n",
              "    }\n",
              "\n",
              "    [theme=dark] .colab-df-convert:hover {\n",
              "      background-color: #434B5C;\n",
              "      box-shadow: 0px 1px 3px 1px rgba(0, 0, 0, 0.15);\n",
              "      filter: drop-shadow(0px 1px 2px rgba(0, 0, 0, 0.3));\n",
              "      fill: #FFFFFF;\n",
              "    }\n",
              "  </style>\n",
              "\n",
              "    <script>\n",
              "      const buttonEl =\n",
              "        document.querySelector('#df-d4029aa5-c2f9-4dc1-8514-1be01fd6c791 button.colab-df-convert');\n",
              "      buttonEl.style.display =\n",
              "        google.colab.kernel.accessAllowed ? 'block' : 'none';\n",
              "\n",
              "      async function convertToInteractive(key) {\n",
              "        const element = document.querySelector('#df-d4029aa5-c2f9-4dc1-8514-1be01fd6c791');\n",
              "        const dataTable =\n",
              "          await google.colab.kernel.invokeFunction('convertToInteractive',\n",
              "                                                    [key], {});\n",
              "        if (!dataTable) return;\n",
              "\n",
              "        const docLinkHtml = 'Like what you see? Visit the ' +\n",
              "          '<a target=\"_blank\" href=https://colab.research.google.com/notebooks/data_table.ipynb>data table notebook</a>'\n",
              "          + ' to learn more about interactive tables.';\n",
              "        element.innerHTML = '';\n",
              "        dataTable['output_type'] = 'display_data';\n",
              "        await google.colab.output.renderOutput(dataTable, element);\n",
              "        const docLink = document.createElement('div');\n",
              "        docLink.innerHTML = docLinkHtml;\n",
              "        element.appendChild(docLink);\n",
              "      }\n",
              "    </script>\n",
              "  </div>\n",
              "\n",
              "\n",
              "<div id=\"df-1a09e828-bb29-40ec-8b9d-04b8d26a59ee\">\n",
              "  <button class=\"colab-df-quickchart\" onclick=\"quickchart('df-1a09e828-bb29-40ec-8b9d-04b8d26a59ee')\"\n",
              "            title=\"Suggest charts\"\n",
              "            style=\"display:none;\">\n",
              "\n",
              "<svg xmlns=\"http://www.w3.org/2000/svg\" height=\"24px\"viewBox=\"0 0 24 24\"\n",
              "     width=\"24px\">\n",
              "    <g>\n",
              "        <path d=\"M19 3H5c-1.1 0-2 .9-2 2v14c0 1.1.9 2 2 2h14c1.1 0 2-.9 2-2V5c0-1.1-.9-2-2-2zM9 17H7v-7h2v7zm4 0h-2V7h2v10zm4 0h-2v-4h2v4z\"/>\n",
              "    </g>\n",
              "</svg>\n",
              "  </button>\n",
              "\n",
              "<style>\n",
              "  .colab-df-quickchart {\n",
              "      --bg-color: #E8F0FE;\n",
              "      --fill-color: #1967D2;\n",
              "      --hover-bg-color: #E2EBFA;\n",
              "      --hover-fill-color: #174EA6;\n",
              "      --disabled-fill-color: #AAA;\n",
              "      --disabled-bg-color: #DDD;\n",
              "  }\n",
              "\n",
              "  [theme=dark] .colab-df-quickchart {\n",
              "      --bg-color: #3B4455;\n",
              "      --fill-color: #D2E3FC;\n",
              "      --hover-bg-color: #434B5C;\n",
              "      --hover-fill-color: #FFFFFF;\n",
              "      --disabled-bg-color: #3B4455;\n",
              "      --disabled-fill-color: #666;\n",
              "  }\n",
              "\n",
              "  .colab-df-quickchart {\n",
              "    background-color: var(--bg-color);\n",
              "    border: none;\n",
              "    border-radius: 50%;\n",
              "    cursor: pointer;\n",
              "    display: none;\n",
              "    fill: var(--fill-color);\n",
              "    height: 32px;\n",
              "    padding: 0;\n",
              "    width: 32px;\n",
              "  }\n",
              "\n",
              "  .colab-df-quickchart:hover {\n",
              "    background-color: var(--hover-bg-color);\n",
              "    box-shadow: 0 1px 2px rgba(60, 64, 67, 0.3), 0 1px 3px 1px rgba(60, 64, 67, 0.15);\n",
              "    fill: var(--button-hover-fill-color);\n",
              "  }\n",
              "\n",
              "  .colab-df-quickchart-complete:disabled,\n",
              "  .colab-df-quickchart-complete:disabled:hover {\n",
              "    background-color: var(--disabled-bg-color);\n",
              "    fill: var(--disabled-fill-color);\n",
              "    box-shadow: none;\n",
              "  }\n",
              "\n",
              "  .colab-df-spinner {\n",
              "    border: 2px solid var(--fill-color);\n",
              "    border-color: transparent;\n",
              "    border-bottom-color: var(--fill-color);\n",
              "    animation:\n",
              "      spin 1s steps(1) infinite;\n",
              "  }\n",
              "\n",
              "  @keyframes spin {\n",
              "    0% {\n",
              "      border-color: transparent;\n",
              "      border-bottom-color: var(--fill-color);\n",
              "      border-left-color: var(--fill-color);\n",
              "    }\n",
              "    20% {\n",
              "      border-color: transparent;\n",
              "      border-left-color: var(--fill-color);\n",
              "      border-top-color: var(--fill-color);\n",
              "    }\n",
              "    30% {\n",
              "      border-color: transparent;\n",
              "      border-left-color: var(--fill-color);\n",
              "      border-top-color: var(--fill-color);\n",
              "      border-right-color: var(--fill-color);\n",
              "    }\n",
              "    40% {\n",
              "      border-color: transparent;\n",
              "      border-right-color: var(--fill-color);\n",
              "      border-top-color: var(--fill-color);\n",
              "    }\n",
              "    60% {\n",
              "      border-color: transparent;\n",
              "      border-right-color: var(--fill-color);\n",
              "    }\n",
              "    80% {\n",
              "      border-color: transparent;\n",
              "      border-right-color: var(--fill-color);\n",
              "      border-bottom-color: var(--fill-color);\n",
              "    }\n",
              "    90% {\n",
              "      border-color: transparent;\n",
              "      border-bottom-color: var(--fill-color);\n",
              "    }\n",
              "  }\n",
              "</style>\n",
              "\n",
              "  <script>\n",
              "    async function quickchart(key) {\n",
              "      const quickchartButtonEl =\n",
              "        document.querySelector('#' + key + ' button');\n",
              "      quickchartButtonEl.disabled = true;  // To prevent multiple clicks.\n",
              "      quickchartButtonEl.classList.add('colab-df-spinner');\n",
              "      try {\n",
              "        const charts = await google.colab.kernel.invokeFunction(\n",
              "            'suggestCharts', [key], {});\n",
              "      } catch (error) {\n",
              "        console.error('Error during call to suggestCharts:', error);\n",
              "      }\n",
              "      quickchartButtonEl.classList.remove('colab-df-spinner');\n",
              "      quickchartButtonEl.classList.add('colab-df-quickchart-complete');\n",
              "    }\n",
              "    (() => {\n",
              "      let quickchartButtonEl =\n",
              "        document.querySelector('#df-1a09e828-bb29-40ec-8b9d-04b8d26a59ee button');\n",
              "      quickchartButtonEl.style.display =\n",
              "        google.colab.kernel.accessAllowed ? 'block' : 'none';\n",
              "    })();\n",
              "  </script>\n",
              "</div>\n",
              "\n",
              "    </div>\n",
              "  </div>\n"
            ],
            "application/vnd.google.colaboratory.intrinsic+json": {
              "type": "dataframe",
              "variable_name": "data",
              "summary": "{\n  \"name\": \"data\",\n  \"rows\": 837,\n  \"fields\": [\n    {\n      \"column\": \"Sex\",\n      \"properties\": {\n        \"dtype\": \"number\",\n        \"std\": 0,\n        \"min\": 0,\n        \"max\": 1,\n        \"num_unique_values\": 2,\n        \"samples\": [\n          0,\n          1\n        ],\n        \"semantic_type\": \"\",\n        \"description\": \"\"\n      }\n    },\n    {\n      \"column\": \"Age\",\n      \"properties\": {\n        \"dtype\": \"number\",\n        \"std\": 1,\n        \"min\": 1,\n        \"max\": 5,\n        \"num_unique_values\": 5,\n        \"samples\": [\n          4,\n          2\n        ],\n        \"semantic_type\": \"\",\n        \"description\": \"\"\n      }\n    },\n    {\n      \"column\": \"Height\",\n      \"properties\": {\n        \"dtype\": \"number\",\n        \"std\": 10,\n        \"min\": 70,\n        \"max\": 107,\n        \"num_unique_values\": 38,\n        \"samples\": [\n          84,\n          85\n        ],\n        \"semantic_type\": \"\",\n        \"description\": \"\"\n      }\n    },\n    {\n      \"column\": \"Weight\",\n      \"properties\": {\n        \"dtype\": \"number\",\n        \"std\": 3,\n        \"min\": 9,\n        \"max\": 20,\n        \"num_unique_values\": 12,\n        \"samples\": [\n          18,\n          11\n        ],\n        \"semantic_type\": \"\",\n        \"description\": \"\"\n      }\n    },\n    {\n      \"column\": \"Low Income\",\n      \"properties\": {\n        \"dtype\": \"number\",\n        \"std\": 0,\n        \"min\": 0,\n        \"max\": 1,\n        \"num_unique_values\": 2,\n        \"samples\": [\n          0,\n          1\n        ],\n        \"semantic_type\": \"\",\n        \"description\": \"\"\n      }\n    },\n    {\n      \"column\": \"Lower Middle Income\",\n      \"properties\": {\n        \"dtype\": \"number\",\n        \"std\": 0,\n        \"min\": 0,\n        \"max\": 1,\n        \"num_unique_values\": 2,\n        \"samples\": [\n          1,\n          0\n        ],\n        \"semantic_type\": \"\",\n        \"description\": \"\"\n      }\n    },\n    {\n      \"column\": \"Upper Middle Income\",\n      \"properties\": {\n        \"dtype\": \"number\",\n        \"std\": 0,\n        \"min\": 0,\n        \"max\": 1,\n        \"num_unique_values\": 2,\n        \"samples\": [\n          1,\n          0\n        ],\n        \"semantic_type\": \"\",\n        \"description\": \"\"\n      }\n    },\n    {\n      \"column\": \"Status\",\n      \"properties\": {\n        \"dtype\": \"category\",\n        \"num_unique_values\": 4,\n        \"samples\": [\n          \"Overweight\",\n          \"Wasting\"\n        ],\n        \"semantic_type\": \"\",\n        \"description\": \"\"\n      }\n    }\n  ]\n}"
            }
          },
          "metadata": {},
          "execution_count": 2
        }
      ]
    },
    {
      "cell_type": "code",
      "source": [
        "print(predictors.head())\n",
        "print(target.head())"
      ],
      "metadata": {
        "colab": {
          "base_uri": "https://localhost:8080/"
        },
        "id": "kFZs2JKc9qfO",
        "outputId": "68ae6c1e-19a2-4ae5-9a85-486e5d856376"
      },
      "execution_count": 3,
      "outputs": [
        {
          "output_type": "stream",
          "name": "stdout",
          "text": [
            "   Sex  Age  Height  Weight  Low Income  Lower Middle Income  \\\n",
            "0    1    5      75      17           1                    0   \n",
            "1    0    4     101      13           1                    0   \n",
            "2    0    4      71      17           1                    0   \n",
            "3    0    3      81      13           0                    0   \n",
            "4    0    1      79      16           0                    0   \n",
            "\n",
            "   Upper Middle Income  \n",
            "0                    0  \n",
            "1                    0  \n",
            "2                    0  \n",
            "3                    1  \n",
            "4                    1  \n",
            "0    Stunting\n",
            "1    Stunting\n",
            "2    Stunting\n",
            "3    Stunting\n",
            "4    Stunting\n",
            "Name: Status, dtype: object\n"
          ]
        }
      ]
    },
    {
      "cell_type": "code",
      "source": [
        "from sklearn.model_selection import train_test_split\n",
        "xtrain, xtest, ytrain, ytest = train_test_split(predictors, target, test_size = 0.3)"
      ],
      "metadata": {
        "id": "iPEZCyvN9q6L"
      },
      "execution_count": 4,
      "outputs": []
    },
    {
      "cell_type": "code",
      "source": [
        "\n",
        "from sklearn.svm import SVC\n",
        "model = SVC()\n",
        "model.fit(xtrain, ytrain)"
      ],
      "metadata": {
        "colab": {
          "base_uri": "https://localhost:8080/",
          "height": 74
        },
        "id": "lOFjGM7Y9uN-",
        "outputId": "5ea88349-4d66-457e-ea41-0f78526dbf0d"
      },
      "execution_count": 5,
      "outputs": [
        {
          "output_type": "execute_result",
          "data": {
            "text/plain": [
              "SVC()"
            ],
            "text/html": [
              "<style>#sk-container-id-1 {color: black;background-color: white;}#sk-container-id-1 pre{padding: 0;}#sk-container-id-1 div.sk-toggleable {background-color: white;}#sk-container-id-1 label.sk-toggleable__label {cursor: pointer;display: block;width: 100%;margin-bottom: 0;padding: 0.3em;box-sizing: border-box;text-align: center;}#sk-container-id-1 label.sk-toggleable__label-arrow:before {content: \"▸\";float: left;margin-right: 0.25em;color: #696969;}#sk-container-id-1 label.sk-toggleable__label-arrow:hover:before {color: black;}#sk-container-id-1 div.sk-estimator:hover label.sk-toggleable__label-arrow:before {color: black;}#sk-container-id-1 div.sk-toggleable__content {max-height: 0;max-width: 0;overflow: hidden;text-align: left;background-color: #f0f8ff;}#sk-container-id-1 div.sk-toggleable__content pre {margin: 0.2em;color: black;border-radius: 0.25em;background-color: #f0f8ff;}#sk-container-id-1 input.sk-toggleable__control:checked~div.sk-toggleable__content {max-height: 200px;max-width: 100%;overflow: auto;}#sk-container-id-1 input.sk-toggleable__control:checked~label.sk-toggleable__label-arrow:before {content: \"▾\";}#sk-container-id-1 div.sk-estimator input.sk-toggleable__control:checked~label.sk-toggleable__label {background-color: #d4ebff;}#sk-container-id-1 div.sk-label input.sk-toggleable__control:checked~label.sk-toggleable__label {background-color: #d4ebff;}#sk-container-id-1 input.sk-hidden--visually {border: 0;clip: rect(1px 1px 1px 1px);clip: rect(1px, 1px, 1px, 1px);height: 1px;margin: -1px;overflow: hidden;padding: 0;position: absolute;width: 1px;}#sk-container-id-1 div.sk-estimator {font-family: monospace;background-color: #f0f8ff;border: 1px dotted black;border-radius: 0.25em;box-sizing: border-box;margin-bottom: 0.5em;}#sk-container-id-1 div.sk-estimator:hover {background-color: #d4ebff;}#sk-container-id-1 div.sk-parallel-item::after {content: \"\";width: 100%;border-bottom: 1px solid gray;flex-grow: 1;}#sk-container-id-1 div.sk-label:hover label.sk-toggleable__label {background-color: #d4ebff;}#sk-container-id-1 div.sk-serial::before {content: \"\";position: absolute;border-left: 1px solid gray;box-sizing: border-box;top: 0;bottom: 0;left: 50%;z-index: 0;}#sk-container-id-1 div.sk-serial {display: flex;flex-direction: column;align-items: center;background-color: white;padding-right: 0.2em;padding-left: 0.2em;position: relative;}#sk-container-id-1 div.sk-item {position: relative;z-index: 1;}#sk-container-id-1 div.sk-parallel {display: flex;align-items: stretch;justify-content: center;background-color: white;position: relative;}#sk-container-id-1 div.sk-item::before, #sk-container-id-1 div.sk-parallel-item::before {content: \"\";position: absolute;border-left: 1px solid gray;box-sizing: border-box;top: 0;bottom: 0;left: 50%;z-index: -1;}#sk-container-id-1 div.sk-parallel-item {display: flex;flex-direction: column;z-index: 1;position: relative;background-color: white;}#sk-container-id-1 div.sk-parallel-item:first-child::after {align-self: flex-end;width: 50%;}#sk-container-id-1 div.sk-parallel-item:last-child::after {align-self: flex-start;width: 50%;}#sk-container-id-1 div.sk-parallel-item:only-child::after {width: 0;}#sk-container-id-1 div.sk-dashed-wrapped {border: 1px dashed gray;margin: 0 0.4em 0.5em 0.4em;box-sizing: border-box;padding-bottom: 0.4em;background-color: white;}#sk-container-id-1 div.sk-label label {font-family: monospace;font-weight: bold;display: inline-block;line-height: 1.2em;}#sk-container-id-1 div.sk-label-container {text-align: center;}#sk-container-id-1 div.sk-container {/* jupyter's `normalize.less` sets `[hidden] { display: none; }` but bootstrap.min.css set `[hidden] { display: none !important; }` so we also need the `!important` here to be able to override the default hidden behavior on the sphinx rendered scikit-learn.org. See: https://github.com/scikit-learn/scikit-learn/issues/21755 */display: inline-block !important;position: relative;}#sk-container-id-1 div.sk-text-repr-fallback {display: none;}</style><div id=\"sk-container-id-1\" class=\"sk-top-container\"><div class=\"sk-text-repr-fallback\"><pre>SVC()</pre><b>In a Jupyter environment, please rerun this cell to show the HTML representation or trust the notebook. <br />On GitHub, the HTML representation is unable to render, please try loading this page with nbviewer.org.</b></div><div class=\"sk-container\" hidden><div class=\"sk-item\"><div class=\"sk-estimator sk-toggleable\"><input class=\"sk-toggleable__control sk-hidden--visually\" id=\"sk-estimator-id-1\" type=\"checkbox\" checked><label for=\"sk-estimator-id-1\" class=\"sk-toggleable__label sk-toggleable__label-arrow\">SVC</label><div class=\"sk-toggleable__content\"><pre>SVC()</pre></div></div></div></div></div>"
            ]
          },
          "metadata": {},
          "execution_count": 5
        }
      ]
    },
    {
      "cell_type": "code",
      "source": [
        "predict = model.predict(xtest)"
      ],
      "metadata": {
        "id": "XE13nTNl94Me"
      },
      "execution_count": 6,
      "outputs": []
    },
    {
      "cell_type": "code",
      "source": [
        "\n",
        "from sklearn.metrics import confusion_matrix, accuracy_score, classification_report\n",
        "print(confusion_matrix(ytest, predict))\n",
        "print(accuracy_score(ytest, predict))\n",
        "print(classification_report(ytest, predict))"
      ],
      "metadata": {
        "colab": {
          "base_uri": "https://localhost:8080/"
        },
        "id": "YjKr9BiY96lI",
        "outputId": "4aa77643-e4d1-4add-c227-579be58d5110"
      },
      "execution_count": 7,
      "outputs": [
        {
          "output_type": "stream",
          "name": "stdout",
          "text": [
            "[[  0  28   0]\n",
            " [  0 211   0]\n",
            " [  0  13   0]]\n",
            "0.8373015873015873\n",
            "              precision    recall  f1-score   support\n",
            "\n",
            "  Overweight       0.00      0.00      0.00        28\n",
            "    Stunting       0.84      1.00      0.91       211\n",
            " Underweight       0.00      0.00      0.00        13\n",
            "\n",
            "    accuracy                           0.84       252\n",
            "   macro avg       0.28      0.33      0.30       252\n",
            "weighted avg       0.70      0.84      0.76       252\n",
            "\n"
          ]
        },
        {
          "output_type": "stream",
          "name": "stderr",
          "text": [
            "/usr/local/lib/python3.10/dist-packages/sklearn/metrics/_classification.py:1344: UndefinedMetricWarning: Precision and F-score are ill-defined and being set to 0.0 in labels with no predicted samples. Use `zero_division` parameter to control this behavior.\n",
            "  _warn_prf(average, modifier, msg_start, len(result))\n",
            "/usr/local/lib/python3.10/dist-packages/sklearn/metrics/_classification.py:1344: UndefinedMetricWarning: Precision and F-score are ill-defined and being set to 0.0 in labels with no predicted samples. Use `zero_division` parameter to control this behavior.\n",
            "  _warn_prf(average, modifier, msg_start, len(result))\n",
            "/usr/local/lib/python3.10/dist-packages/sklearn/metrics/_classification.py:1344: UndefinedMetricWarning: Precision and F-score are ill-defined and being set to 0.0 in labels with no predicted samples. Use `zero_division` parameter to control this behavior.\n",
            "  _warn_prf(average, modifier, msg_start, len(result))\n"
          ]
        }
      ]
    },
    {
      "cell_type": "code",
      "source": [
        "from sklearn.model_selection import GridSearchCV\n",
        "parameter = {'C' : [0.1,1,10,100, 1000], 'gamma': [1,0.1,0.01,0.001, 0.00001]}\n",
        "grid = GridSearchCV(SVC(), param_grid=parameter, verbose=10)\n",
        "grid.fit(xtrain, ytrain)"
      ],
      "metadata": {
        "colab": {
          "base_uri": "https://localhost:8080/",
          "height": 1000
        },
        "id": "Dkv3aMB499T_",
        "outputId": "5fd5dec2-39cb-4795-cbff-a9a8c4d67b9a"
      },
      "execution_count": 8,
      "outputs": [
        {
          "output_type": "stream",
          "name": "stdout",
          "text": [
            "Fitting 5 folds for each of 25 candidates, totalling 125 fits\n",
            "[CV 1/5; 1/25] START C=0.1, gamma=1.............................................\n",
            "[CV 1/5; 1/25] END ..............C=0.1, gamma=1;, score=0.829 total time=   0.1s\n",
            "[CV 2/5; 1/25] START C=0.1, gamma=1.............................................\n",
            "[CV 2/5; 1/25] END ..............C=0.1, gamma=1;, score=0.829 total time=   0.1s\n",
            "[CV 3/5; 1/25] START C=0.1, gamma=1.............................................\n"
          ]
        },
        {
          "output_type": "stream",
          "name": "stderr",
          "text": [
            "/usr/local/lib/python3.10/dist-packages/sklearn/model_selection/_split.py:700: UserWarning: The least populated class in y has only 4 members, which is less than n_splits=5.\n",
            "  warnings.warn(\n"
          ]
        },
        {
          "output_type": "stream",
          "name": "stdout",
          "text": [
            "[CV 3/5; 1/25] END ..............C=0.1, gamma=1;, score=0.829 total time=   0.1s\n",
            "[CV 4/5; 1/25] START C=0.1, gamma=1.............................................\n",
            "[CV 4/5; 1/25] END ..............C=0.1, gamma=1;, score=0.829 total time=   0.1s\n",
            "[CV 5/5; 1/25] START C=0.1, gamma=1.............................................\n",
            "[CV 5/5; 1/25] END ..............C=0.1, gamma=1;, score=0.829 total time=   0.1s\n",
            "[CV 1/5; 2/25] START C=0.1, gamma=0.1...........................................\n",
            "[CV 1/5; 2/25] END ............C=0.1, gamma=0.1;, score=0.829 total time=   0.0s\n",
            "[CV 2/5; 2/25] START C=0.1, gamma=0.1...........................................\n",
            "[CV 2/5; 2/25] END ............C=0.1, gamma=0.1;, score=0.829 total time=   0.0s\n",
            "[CV 3/5; 2/25] START C=0.1, gamma=0.1...........................................\n",
            "[CV 3/5; 2/25] END ............C=0.1, gamma=0.1;, score=0.829 total time=   0.0s\n",
            "[CV 4/5; 2/25] START C=0.1, gamma=0.1...........................................\n",
            "[CV 4/5; 2/25] END ............C=0.1, gamma=0.1;, score=0.829 total time=   0.0s\n",
            "[CV 5/5; 2/25] START C=0.1, gamma=0.1...........................................\n",
            "[CV 5/5; 2/25] END ............C=0.1, gamma=0.1;, score=0.829 total time=   0.0s\n",
            "[CV 1/5; 3/25] START C=0.1, gamma=0.01..........................................\n",
            "[CV 1/5; 3/25] END ...........C=0.1, gamma=0.01;, score=0.829 total time=   0.0s\n",
            "[CV 2/5; 3/25] START C=0.1, gamma=0.01..........................................\n",
            "[CV 2/5; 3/25] END ...........C=0.1, gamma=0.01;, score=0.829 total time=   0.0s\n",
            "[CV 3/5; 3/25] START C=0.1, gamma=0.01..........................................\n",
            "[CV 3/5; 3/25] END ...........C=0.1, gamma=0.01;, score=0.829 total time=   0.0s\n",
            "[CV 4/5; 3/25] START C=0.1, gamma=0.01..........................................\n",
            "[CV 4/5; 3/25] END ...........C=0.1, gamma=0.01;, score=0.829 total time=   0.0s\n",
            "[CV 5/5; 3/25] START C=0.1, gamma=0.01..........................................\n",
            "[CV 5/5; 3/25] END ...........C=0.1, gamma=0.01;, score=0.829 total time=   0.0s\n",
            "[CV 1/5; 4/25] START C=0.1, gamma=0.001.........................................\n",
            "[CV 1/5; 4/25] END ..........C=0.1, gamma=0.001;, score=0.829 total time=   0.0s\n",
            "[CV 2/5; 4/25] START C=0.1, gamma=0.001.........................................\n",
            "[CV 2/5; 4/25] END ..........C=0.1, gamma=0.001;, score=0.829 total time=   0.0s\n",
            "[CV 3/5; 4/25] START C=0.1, gamma=0.001.........................................\n",
            "[CV 3/5; 4/25] END ..........C=0.1, gamma=0.001;, score=0.829 total time=   0.0s\n",
            "[CV 4/5; 4/25] START C=0.1, gamma=0.001.........................................\n",
            "[CV 4/5; 4/25] END ..........C=0.1, gamma=0.001;, score=0.829 total time=   0.0s\n",
            "[CV 5/5; 4/25] START C=0.1, gamma=0.001.........................................\n",
            "[CV 5/5; 4/25] END ..........C=0.1, gamma=0.001;, score=0.829 total time=   0.0s\n",
            "[CV 1/5; 5/25] START C=0.1, gamma=1e-05.........................................\n",
            "[CV 1/5; 5/25] END ..........C=0.1, gamma=1e-05;, score=0.829 total time=   0.0s\n",
            "[CV 2/5; 5/25] START C=0.1, gamma=1e-05.........................................\n",
            "[CV 2/5; 5/25] END ..........C=0.1, gamma=1e-05;, score=0.829 total time=   0.0s\n",
            "[CV 3/5; 5/25] START C=0.1, gamma=1e-05.........................................\n",
            "[CV 3/5; 5/25] END ..........C=0.1, gamma=1e-05;, score=0.829 total time=   0.0s\n",
            "[CV 4/5; 5/25] START C=0.1, gamma=1e-05.........................................\n",
            "[CV 4/5; 5/25] END ..........C=0.1, gamma=1e-05;, score=0.829 total time=   0.0s\n",
            "[CV 5/5; 5/25] START C=0.1, gamma=1e-05.........................................\n",
            "[CV 5/5; 5/25] END ..........C=0.1, gamma=1e-05;, score=0.829 total time=   0.0s\n",
            "[CV 1/5; 6/25] START C=1, gamma=1...............................................\n",
            "[CV 1/5; 6/25] END ................C=1, gamma=1;, score=0.821 total time=   0.1s\n",
            "[CV 2/5; 6/25] START C=1, gamma=1...............................................\n",
            "[CV 2/5; 6/25] END ................C=1, gamma=1;, score=0.829 total time=   0.1s\n",
            "[CV 3/5; 6/25] START C=1, gamma=1...............................................\n",
            "[CV 3/5; 6/25] END ................C=1, gamma=1;, score=0.829 total time=   0.1s\n",
            "[CV 4/5; 6/25] START C=1, gamma=1...............................................\n",
            "[CV 4/5; 6/25] END ................C=1, gamma=1;, score=0.829 total time=   0.1s\n",
            "[CV 5/5; 6/25] START C=1, gamma=1...............................................\n",
            "[CV 5/5; 6/25] END ................C=1, gamma=1;, score=0.829 total time=   0.1s\n",
            "[CV 1/5; 7/25] START C=1, gamma=0.1.............................................\n",
            "[CV 1/5; 7/25] END ..............C=1, gamma=0.1;, score=0.829 total time=   0.0s\n",
            "[CV 2/5; 7/25] START C=1, gamma=0.1.............................................\n",
            "[CV 2/5; 7/25] END ..............C=1, gamma=0.1;, score=0.829 total time=   0.0s\n",
            "[CV 3/5; 7/25] START C=1, gamma=0.1.............................................\n",
            "[CV 3/5; 7/25] END ..............C=1, gamma=0.1;, score=0.829 total time=   0.0s\n",
            "[CV 4/5; 7/25] START C=1, gamma=0.1.............................................\n",
            "[CV 4/5; 7/25] END ..............C=1, gamma=0.1;, score=0.829 total time=   0.0s\n",
            "[CV 5/5; 7/25] START C=1, gamma=0.1.............................................\n",
            "[CV 5/5; 7/25] END ..............C=1, gamma=0.1;, score=0.829 total time=   0.0s\n",
            "[CV 1/5; 8/25] START C=1, gamma=0.01............................................\n",
            "[CV 1/5; 8/25] END .............C=1, gamma=0.01;, score=0.829 total time=   0.0s\n",
            "[CV 2/5; 8/25] START C=1, gamma=0.01............................................\n",
            "[CV 2/5; 8/25] END .............C=1, gamma=0.01;, score=0.829 total time=   0.0s\n",
            "[CV 3/5; 8/25] START C=1, gamma=0.01............................................\n",
            "[CV 3/5; 8/25] END .............C=1, gamma=0.01;, score=0.829 total time=   0.0s\n",
            "[CV 4/5; 8/25] START C=1, gamma=0.01............................................\n",
            "[CV 4/5; 8/25] END .............C=1, gamma=0.01;, score=0.829 total time=   0.0s\n",
            "[CV 5/5; 8/25] START C=1, gamma=0.01............................................\n",
            "[CV 5/5; 8/25] END .............C=1, gamma=0.01;, score=0.829 total time=   0.0s\n",
            "[CV 1/5; 9/25] START C=1, gamma=0.001...........................................\n",
            "[CV 1/5; 9/25] END ............C=1, gamma=0.001;, score=0.829 total time=   0.0s\n",
            "[CV 2/5; 9/25] START C=1, gamma=0.001...........................................\n",
            "[CV 2/5; 9/25] END ............C=1, gamma=0.001;, score=0.829 total time=   0.0s\n",
            "[CV 3/5; 9/25] START C=1, gamma=0.001...........................................\n",
            "[CV 3/5; 9/25] END ............C=1, gamma=0.001;, score=0.829 total time=   0.0s\n",
            "[CV 4/5; 9/25] START C=1, gamma=0.001...........................................\n",
            "[CV 4/5; 9/25] END ............C=1, gamma=0.001;, score=0.829 total time=   0.0s\n",
            "[CV 5/5; 9/25] START C=1, gamma=0.001...........................................\n",
            "[CV 5/5; 9/25] END ............C=1, gamma=0.001;, score=0.829 total time=   0.0s\n",
            "[CV 1/5; 10/25] START C=1, gamma=1e-05..........................................\n",
            "[CV 1/5; 10/25] END ...........C=1, gamma=1e-05;, score=0.829 total time=   0.0s\n",
            "[CV 2/5; 10/25] START C=1, gamma=1e-05..........................................\n",
            "[CV 2/5; 10/25] END ...........C=1, gamma=1e-05;, score=0.829 total time=   0.0s\n",
            "[CV 3/5; 10/25] START C=1, gamma=1e-05..........................................\n",
            "[CV 3/5; 10/25] END ...........C=1, gamma=1e-05;, score=0.829 total time=   0.0s\n",
            "[CV 4/5; 10/25] START C=1, gamma=1e-05..........................................\n",
            "[CV 4/5; 10/25] END ...........C=1, gamma=1e-05;, score=0.829 total time=   0.0s\n",
            "[CV 5/5; 10/25] START C=1, gamma=1e-05..........................................\n",
            "[CV 5/5; 10/25] END ...........C=1, gamma=1e-05;, score=0.829 total time=   0.0s\n",
            "[CV 1/5; 11/25] START C=10, gamma=1.............................................\n",
            "[CV 1/5; 11/25] END ..............C=10, gamma=1;, score=0.821 total time=   0.1s\n",
            "[CV 2/5; 11/25] START C=10, gamma=1.............................................\n",
            "[CV 2/5; 11/25] END ..............C=10, gamma=1;, score=0.829 total time=   0.1s\n",
            "[CV 3/5; 11/25] START C=10, gamma=1.............................................\n",
            "[CV 3/5; 11/25] END ..............C=10, gamma=1;, score=0.829 total time=   0.1s\n",
            "[CV 4/5; 11/25] START C=10, gamma=1.............................................\n",
            "[CV 4/5; 11/25] END ..............C=10, gamma=1;, score=0.829 total time=   0.1s\n",
            "[CV 5/5; 11/25] START C=10, gamma=1.............................................\n",
            "[CV 5/5; 11/25] END ..............C=10, gamma=1;, score=0.829 total time=   0.1s\n",
            "[CV 1/5; 12/25] START C=10, gamma=0.1...........................................\n",
            "[CV 1/5; 12/25] END ............C=10, gamma=0.1;, score=0.735 total time=   0.0s\n",
            "[CV 2/5; 12/25] START C=10, gamma=0.1...........................................\n",
            "[CV 2/5; 12/25] END ............C=10, gamma=0.1;, score=0.769 total time=   0.0s\n",
            "[CV 3/5; 12/25] START C=10, gamma=0.1...........................................\n",
            "[CV 3/5; 12/25] END ............C=10, gamma=0.1;, score=0.761 total time=   0.0s\n",
            "[CV 4/5; 12/25] START C=10, gamma=0.1...........................................\n",
            "[CV 4/5; 12/25] END ............C=10, gamma=0.1;, score=0.803 total time=   0.0s\n",
            "[CV 5/5; 12/25] START C=10, gamma=0.1...........................................\n",
            "[CV 5/5; 12/25] END ............C=10, gamma=0.1;, score=0.812 total time=   0.0s\n",
            "[CV 1/5; 13/25] START C=10, gamma=0.01..........................................\n",
            "[CV 1/5; 13/25] END ...........C=10, gamma=0.01;, score=0.829 total time=   0.0s\n",
            "[CV 2/5; 13/25] START C=10, gamma=0.01..........................................\n",
            "[CV 2/5; 13/25] END ...........C=10, gamma=0.01;, score=0.829 total time=   0.1s\n",
            "[CV 3/5; 13/25] START C=10, gamma=0.01..........................................\n",
            "[CV 3/5; 13/25] END ...........C=10, gamma=0.01;, score=0.829 total time=   0.1s\n",
            "[CV 4/5; 13/25] START C=10, gamma=0.01..........................................\n",
            "[CV 4/5; 13/25] END ...........C=10, gamma=0.01;, score=0.829 total time=   0.1s\n",
            "[CV 5/5; 13/25] START C=10, gamma=0.01..........................................\n",
            "[CV 5/5; 13/25] END ...........C=10, gamma=0.01;, score=0.829 total time=   0.0s\n",
            "[CV 1/5; 14/25] START C=10, gamma=0.001.........................................\n",
            "[CV 1/5; 14/25] END ..........C=10, gamma=0.001;, score=0.829 total time=   0.1s\n",
            "[CV 2/5; 14/25] START C=10, gamma=0.001.........................................\n",
            "[CV 2/5; 14/25] END ..........C=10, gamma=0.001;, score=0.829 total time=   0.1s\n",
            "[CV 3/5; 14/25] START C=10, gamma=0.001.........................................\n",
            "[CV 3/5; 14/25] END ..........C=10, gamma=0.001;, score=0.829 total time=   0.1s\n",
            "[CV 4/5; 14/25] START C=10, gamma=0.001.........................................\n",
            "[CV 4/5; 14/25] END ..........C=10, gamma=0.001;, score=0.829 total time=   0.1s\n",
            "[CV 5/5; 14/25] START C=10, gamma=0.001.........................................\n",
            "[CV 5/5; 14/25] END ..........C=10, gamma=0.001;, score=0.829 total time=   0.1s\n",
            "[CV 1/5; 15/25] START C=10, gamma=1e-05.........................................\n",
            "[CV 1/5; 15/25] END ..........C=10, gamma=1e-05;, score=0.829 total time=   0.0s\n",
            "[CV 2/5; 15/25] START C=10, gamma=1e-05.........................................\n",
            "[CV 2/5; 15/25] END ..........C=10, gamma=1e-05;, score=0.829 total time=   0.0s\n",
            "[CV 3/5; 15/25] START C=10, gamma=1e-05.........................................\n",
            "[CV 3/5; 15/25] END ..........C=10, gamma=1e-05;, score=0.829 total time=   0.0s\n",
            "[CV 4/5; 15/25] START C=10, gamma=1e-05.........................................\n",
            "[CV 4/5; 15/25] END ..........C=10, gamma=1e-05;, score=0.829 total time=   0.0s\n",
            "[CV 5/5; 15/25] START C=10, gamma=1e-05.........................................\n",
            "[CV 5/5; 15/25] END ..........C=10, gamma=1e-05;, score=0.829 total time=   0.0s\n",
            "[CV 1/5; 16/25] START C=100, gamma=1............................................\n",
            "[CV 1/5; 16/25] END .............C=100, gamma=1;, score=0.821 total time=   0.1s\n",
            "[CV 2/5; 16/25] START C=100, gamma=1............................................\n",
            "[CV 2/5; 16/25] END .............C=100, gamma=1;, score=0.829 total time=   0.1s\n",
            "[CV 3/5; 16/25] START C=100, gamma=1............................................\n",
            "[CV 3/5; 16/25] END .............C=100, gamma=1;, score=0.829 total time=   0.1s\n",
            "[CV 4/5; 16/25] START C=100, gamma=1............................................\n",
            "[CV 4/5; 16/25] END .............C=100, gamma=1;, score=0.829 total time=   0.1s\n",
            "[CV 5/5; 16/25] START C=100, gamma=1............................................\n",
            "[CV 5/5; 16/25] END .............C=100, gamma=1;, score=0.829 total time=   0.1s\n",
            "[CV 1/5; 17/25] START C=100, gamma=0.1..........................................\n",
            "[CV 1/5; 17/25] END ...........C=100, gamma=0.1;, score=0.744 total time=   0.0s\n",
            "[CV 2/5; 17/25] START C=100, gamma=0.1..........................................\n",
            "[CV 2/5; 17/25] END ...........C=100, gamma=0.1;, score=0.726 total time=   0.0s\n",
            "[CV 3/5; 17/25] START C=100, gamma=0.1..........................................\n",
            "[CV 3/5; 17/25] END ...........C=100, gamma=0.1;, score=0.726 total time=   0.0s\n",
            "[CV 4/5; 17/25] START C=100, gamma=0.1..........................................\n",
            "[CV 4/5; 17/25] END ...........C=100, gamma=0.1;, score=0.795 total time=   0.0s\n",
            "[CV 5/5; 17/25] START C=100, gamma=0.1..........................................\n",
            "[CV 5/5; 17/25] END ...........C=100, gamma=0.1;, score=0.735 total time=   0.0s\n",
            "[CV 1/5; 18/25] START C=100, gamma=0.01.........................................\n",
            "[CV 1/5; 18/25] END ..........C=100, gamma=0.01;, score=0.846 total time=   0.0s\n",
            "[CV 2/5; 18/25] START C=100, gamma=0.01.........................................\n",
            "[CV 2/5; 18/25] END ..........C=100, gamma=0.01;, score=0.846 total time=   0.0s\n",
            "[CV 3/5; 18/25] START C=100, gamma=0.01.........................................\n",
            "[CV 3/5; 18/25] END ..........C=100, gamma=0.01;, score=0.821 total time=   0.0s\n",
            "[CV 4/5; 18/25] START C=100, gamma=0.01.........................................\n",
            "[CV 4/5; 18/25] END ..........C=100, gamma=0.01;, score=0.803 total time=   0.0s\n",
            "[CV 5/5; 18/25] START C=100, gamma=0.01.........................................\n",
            "[CV 5/5; 18/25] END ..........C=100, gamma=0.01;, score=0.846 total time=   0.0s\n",
            "[CV 1/5; 19/25] START C=100, gamma=0.001........................................\n",
            "[CV 1/5; 19/25] END .........C=100, gamma=0.001;, score=0.829 total time=   0.1s\n",
            "[CV 2/5; 19/25] START C=100, gamma=0.001........................................\n",
            "[CV 2/5; 19/25] END .........C=100, gamma=0.001;, score=0.829 total time=   0.1s\n",
            "[CV 3/5; 19/25] START C=100, gamma=0.001........................................\n",
            "[CV 3/5; 19/25] END .........C=100, gamma=0.001;, score=0.829 total time=   0.1s\n",
            "[CV 4/5; 19/25] START C=100, gamma=0.001........................................\n",
            "[CV 4/5; 19/25] END .........C=100, gamma=0.001;, score=0.829 total time=   0.1s\n",
            "[CV 5/5; 19/25] START C=100, gamma=0.001........................................\n",
            "[CV 5/5; 19/25] END .........C=100, gamma=0.001;, score=0.829 total time=   0.1s\n",
            "[CV 1/5; 20/25] START C=100, gamma=1e-05........................................\n",
            "[CV 1/5; 20/25] END .........C=100, gamma=1e-05;, score=0.829 total time=   0.0s\n",
            "[CV 2/5; 20/25] START C=100, gamma=1e-05........................................\n",
            "[CV 2/5; 20/25] END .........C=100, gamma=1e-05;, score=0.829 total time=   0.0s\n",
            "[CV 3/5; 20/25] START C=100, gamma=1e-05........................................\n",
            "[CV 3/5; 20/25] END .........C=100, gamma=1e-05;, score=0.829 total time=   0.0s\n",
            "[CV 4/5; 20/25] START C=100, gamma=1e-05........................................\n",
            "[CV 4/5; 20/25] END .........C=100, gamma=1e-05;, score=0.829 total time=   0.0s\n",
            "[CV 5/5; 20/25] START C=100, gamma=1e-05........................................\n",
            "[CV 5/5; 20/25] END .........C=100, gamma=1e-05;, score=0.829 total time=   0.0s\n",
            "[CV 1/5; 21/25] START C=1000, gamma=1...........................................\n",
            "[CV 1/5; 21/25] END ............C=1000, gamma=1;, score=0.821 total time=   0.0s\n",
            "[CV 2/5; 21/25] START C=1000, gamma=1...........................................\n",
            "[CV 2/5; 21/25] END ............C=1000, gamma=1;, score=0.829 total time=   0.0s\n",
            "[CV 3/5; 21/25] START C=1000, gamma=1...........................................\n",
            "[CV 3/5; 21/25] END ............C=1000, gamma=1;, score=0.829 total time=   0.0s\n",
            "[CV 4/5; 21/25] START C=1000, gamma=1...........................................\n",
            "[CV 4/5; 21/25] END ............C=1000, gamma=1;, score=0.829 total time=   0.0s\n",
            "[CV 5/5; 21/25] START C=1000, gamma=1...........................................\n",
            "[CV 5/5; 21/25] END ............C=1000, gamma=1;, score=0.829 total time=   0.0s\n",
            "[CV 1/5; 22/25] START C=1000, gamma=0.1.........................................\n",
            "[CV 1/5; 22/25] END ..........C=1000, gamma=0.1;, score=0.744 total time=   0.0s\n",
            "[CV 2/5; 22/25] START C=1000, gamma=0.1.........................................\n",
            "[CV 2/5; 22/25] END ..........C=1000, gamma=0.1;, score=0.726 total time=   0.0s\n",
            "[CV 3/5; 22/25] START C=1000, gamma=0.1.........................................\n",
            "[CV 3/5; 22/25] END ..........C=1000, gamma=0.1;, score=0.726 total time=   0.0s\n",
            "[CV 4/5; 22/25] START C=1000, gamma=0.1.........................................\n",
            "[CV 4/5; 22/25] END ..........C=1000, gamma=0.1;, score=0.795 total time=   0.0s\n",
            "[CV 5/5; 22/25] START C=1000, gamma=0.1.........................................\n",
            "[CV 5/5; 22/25] END ..........C=1000, gamma=0.1;, score=0.735 total time=   0.0s\n",
            "[CV 1/5; 23/25] START C=1000, gamma=0.01........................................\n",
            "[CV 1/5; 23/25] END .........C=1000, gamma=0.01;, score=0.821 total time=   0.1s\n",
            "[CV 2/5; 23/25] START C=1000, gamma=0.01........................................\n",
            "[CV 2/5; 23/25] END .........C=1000, gamma=0.01;, score=0.812 total time=   0.1s\n",
            "[CV 3/5; 23/25] START C=1000, gamma=0.01........................................\n",
            "[CV 3/5; 23/25] END .........C=1000, gamma=0.01;, score=0.735 total time=   0.1s\n",
            "[CV 4/5; 23/25] START C=1000, gamma=0.01........................................\n",
            "[CV 4/5; 23/25] END .........C=1000, gamma=0.01;, score=0.769 total time=   0.1s\n",
            "[CV 5/5; 23/25] START C=1000, gamma=0.01........................................\n",
            "[CV 5/5; 23/25] END .........C=1000, gamma=0.01;, score=0.786 total time=   0.1s\n",
            "[CV 1/5; 24/25] START C=1000, gamma=0.001.......................................\n",
            "[CV 1/5; 24/25] END ........C=1000, gamma=0.001;, score=0.880 total time=   0.1s\n",
            "[CV 2/5; 24/25] START C=1000, gamma=0.001.......................................\n",
            "[CV 2/5; 24/25] END ........C=1000, gamma=0.001;, score=0.855 total time=   0.2s\n",
            "[CV 3/5; 24/25] START C=1000, gamma=0.001.......................................\n",
            "[CV 3/5; 24/25] END ........C=1000, gamma=0.001;, score=0.863 total time=   0.1s\n",
            "[CV 4/5; 24/25] START C=1000, gamma=0.001.......................................\n",
            "[CV 4/5; 24/25] END ........C=1000, gamma=0.001;, score=0.812 total time=   0.2s\n",
            "[CV 5/5; 24/25] START C=1000, gamma=0.001.......................................\n",
            "[CV 5/5; 24/25] END ........C=1000, gamma=0.001;, score=0.838 total time=   0.1s\n",
            "[CV 1/5; 25/25] START C=1000, gamma=1e-05.......................................\n",
            "[CV 1/5; 25/25] END ........C=1000, gamma=1e-05;, score=0.829 total time=   0.0s\n",
            "[CV 2/5; 25/25] START C=1000, gamma=1e-05.......................................\n",
            "[CV 2/5; 25/25] END ........C=1000, gamma=1e-05;, score=0.829 total time=   0.0s\n",
            "[CV 3/5; 25/25] START C=1000, gamma=1e-05.......................................\n",
            "[CV 3/5; 25/25] END ........C=1000, gamma=1e-05;, score=0.829 total time=   0.0s\n",
            "[CV 4/5; 25/25] START C=1000, gamma=1e-05.......................................\n",
            "[CV 4/5; 25/25] END ........C=1000, gamma=1e-05;, score=0.829 total time=   0.0s\n",
            "[CV 5/5; 25/25] START C=1000, gamma=1e-05.......................................\n",
            "[CV 5/5; 25/25] END ........C=1000, gamma=1e-05;, score=0.829 total time=   0.0s\n"
          ]
        },
        {
          "output_type": "execute_result",
          "data": {
            "text/plain": [
              "GridSearchCV(estimator=SVC(),\n",
              "             param_grid={'C': [0.1, 1, 10, 100, 1000],\n",
              "                         'gamma': [1, 0.1, 0.01, 0.001, 1e-05]},\n",
              "             verbose=10)"
            ],
            "text/html": [
              "<style>#sk-container-id-2 {color: black;background-color: white;}#sk-container-id-2 pre{padding: 0;}#sk-container-id-2 div.sk-toggleable {background-color: white;}#sk-container-id-2 label.sk-toggleable__label {cursor: pointer;display: block;width: 100%;margin-bottom: 0;padding: 0.3em;box-sizing: border-box;text-align: center;}#sk-container-id-2 label.sk-toggleable__label-arrow:before {content: \"▸\";float: left;margin-right: 0.25em;color: #696969;}#sk-container-id-2 label.sk-toggleable__label-arrow:hover:before {color: black;}#sk-container-id-2 div.sk-estimator:hover label.sk-toggleable__label-arrow:before {color: black;}#sk-container-id-2 div.sk-toggleable__content {max-height: 0;max-width: 0;overflow: hidden;text-align: left;background-color: #f0f8ff;}#sk-container-id-2 div.sk-toggleable__content pre {margin: 0.2em;color: black;border-radius: 0.25em;background-color: #f0f8ff;}#sk-container-id-2 input.sk-toggleable__control:checked~div.sk-toggleable__content {max-height: 200px;max-width: 100%;overflow: auto;}#sk-container-id-2 input.sk-toggleable__control:checked~label.sk-toggleable__label-arrow:before {content: \"▾\";}#sk-container-id-2 div.sk-estimator input.sk-toggleable__control:checked~label.sk-toggleable__label {background-color: #d4ebff;}#sk-container-id-2 div.sk-label input.sk-toggleable__control:checked~label.sk-toggleable__label {background-color: #d4ebff;}#sk-container-id-2 input.sk-hidden--visually {border: 0;clip: rect(1px 1px 1px 1px);clip: rect(1px, 1px, 1px, 1px);height: 1px;margin: -1px;overflow: hidden;padding: 0;position: absolute;width: 1px;}#sk-container-id-2 div.sk-estimator {font-family: monospace;background-color: #f0f8ff;border: 1px dotted black;border-radius: 0.25em;box-sizing: border-box;margin-bottom: 0.5em;}#sk-container-id-2 div.sk-estimator:hover {background-color: #d4ebff;}#sk-container-id-2 div.sk-parallel-item::after {content: \"\";width: 100%;border-bottom: 1px solid gray;flex-grow: 1;}#sk-container-id-2 div.sk-label:hover label.sk-toggleable__label {background-color: #d4ebff;}#sk-container-id-2 div.sk-serial::before {content: \"\";position: absolute;border-left: 1px solid gray;box-sizing: border-box;top: 0;bottom: 0;left: 50%;z-index: 0;}#sk-container-id-2 div.sk-serial {display: flex;flex-direction: column;align-items: center;background-color: white;padding-right: 0.2em;padding-left: 0.2em;position: relative;}#sk-container-id-2 div.sk-item {position: relative;z-index: 1;}#sk-container-id-2 div.sk-parallel {display: flex;align-items: stretch;justify-content: center;background-color: white;position: relative;}#sk-container-id-2 div.sk-item::before, #sk-container-id-2 div.sk-parallel-item::before {content: \"\";position: absolute;border-left: 1px solid gray;box-sizing: border-box;top: 0;bottom: 0;left: 50%;z-index: -1;}#sk-container-id-2 div.sk-parallel-item {display: flex;flex-direction: column;z-index: 1;position: relative;background-color: white;}#sk-container-id-2 div.sk-parallel-item:first-child::after {align-self: flex-end;width: 50%;}#sk-container-id-2 div.sk-parallel-item:last-child::after {align-self: flex-start;width: 50%;}#sk-container-id-2 div.sk-parallel-item:only-child::after {width: 0;}#sk-container-id-2 div.sk-dashed-wrapped {border: 1px dashed gray;margin: 0 0.4em 0.5em 0.4em;box-sizing: border-box;padding-bottom: 0.4em;background-color: white;}#sk-container-id-2 div.sk-label label {font-family: monospace;font-weight: bold;display: inline-block;line-height: 1.2em;}#sk-container-id-2 div.sk-label-container {text-align: center;}#sk-container-id-2 div.sk-container {/* jupyter's `normalize.less` sets `[hidden] { display: none; }` but bootstrap.min.css set `[hidden] { display: none !important; }` so we also need the `!important` here to be able to override the default hidden behavior on the sphinx rendered scikit-learn.org. See: https://github.com/scikit-learn/scikit-learn/issues/21755 */display: inline-block !important;position: relative;}#sk-container-id-2 div.sk-text-repr-fallback {display: none;}</style><div id=\"sk-container-id-2\" class=\"sk-top-container\"><div class=\"sk-text-repr-fallback\"><pre>GridSearchCV(estimator=SVC(),\n",
              "             param_grid={&#x27;C&#x27;: [0.1, 1, 10, 100, 1000],\n",
              "                         &#x27;gamma&#x27;: [1, 0.1, 0.01, 0.001, 1e-05]},\n",
              "             verbose=10)</pre><b>In a Jupyter environment, please rerun this cell to show the HTML representation or trust the notebook. <br />On GitHub, the HTML representation is unable to render, please try loading this page with nbviewer.org.</b></div><div class=\"sk-container\" hidden><div class=\"sk-item sk-dashed-wrapped\"><div class=\"sk-label-container\"><div class=\"sk-label sk-toggleable\"><input class=\"sk-toggleable__control sk-hidden--visually\" id=\"sk-estimator-id-2\" type=\"checkbox\" ><label for=\"sk-estimator-id-2\" class=\"sk-toggleable__label sk-toggleable__label-arrow\">GridSearchCV</label><div class=\"sk-toggleable__content\"><pre>GridSearchCV(estimator=SVC(),\n",
              "             param_grid={&#x27;C&#x27;: [0.1, 1, 10, 100, 1000],\n",
              "                         &#x27;gamma&#x27;: [1, 0.1, 0.01, 0.001, 1e-05]},\n",
              "             verbose=10)</pre></div></div></div><div class=\"sk-parallel\"><div class=\"sk-parallel-item\"><div class=\"sk-item\"><div class=\"sk-label-container\"><div class=\"sk-label sk-toggleable\"><input class=\"sk-toggleable__control sk-hidden--visually\" id=\"sk-estimator-id-3\" type=\"checkbox\" ><label for=\"sk-estimator-id-3\" class=\"sk-toggleable__label sk-toggleable__label-arrow\">estimator: SVC</label><div class=\"sk-toggleable__content\"><pre>SVC()</pre></div></div></div><div class=\"sk-serial\"><div class=\"sk-item\"><div class=\"sk-estimator sk-toggleable\"><input class=\"sk-toggleable__control sk-hidden--visually\" id=\"sk-estimator-id-4\" type=\"checkbox\" ><label for=\"sk-estimator-id-4\" class=\"sk-toggleable__label sk-toggleable__label-arrow\">SVC</label><div class=\"sk-toggleable__content\"><pre>SVC()</pre></div></div></div></div></div></div></div></div></div></div>"
            ]
          },
          "metadata": {},
          "execution_count": 8
        }
      ]
    },
    {
      "cell_type": "code",
      "source": [
        "grid.best_params_"
      ],
      "metadata": {
        "colab": {
          "base_uri": "https://localhost:8080/"
        },
        "id": "WsfFwtrq-AQX",
        "outputId": "d72d9ef4-3610-4113-bd48-405538fc0714"
      },
      "execution_count": 9,
      "outputs": [
        {
          "output_type": "execute_result",
          "data": {
            "text/plain": [
              "{'C': 1000, 'gamma': 0.001}"
            ]
          },
          "metadata": {},
          "execution_count": 9
        }
      ]
    },
    {
      "cell_type": "code",
      "source": [
        "grid.best_estimator_"
      ],
      "metadata": {
        "colab": {
          "base_uri": "https://localhost:8080/",
          "height": 74
        },
        "id": "FHrbYD_9-DDT",
        "outputId": "dc822dd9-d240-4fa4-a51f-820ca1ac30e1"
      },
      "execution_count": 10,
      "outputs": [
        {
          "output_type": "execute_result",
          "data": {
            "text/plain": [
              "SVC(C=1000, gamma=0.001)"
            ],
            "text/html": [
              "<style>#sk-container-id-3 {color: black;background-color: white;}#sk-container-id-3 pre{padding: 0;}#sk-container-id-3 div.sk-toggleable {background-color: white;}#sk-container-id-3 label.sk-toggleable__label {cursor: pointer;display: block;width: 100%;margin-bottom: 0;padding: 0.3em;box-sizing: border-box;text-align: center;}#sk-container-id-3 label.sk-toggleable__label-arrow:before {content: \"▸\";float: left;margin-right: 0.25em;color: #696969;}#sk-container-id-3 label.sk-toggleable__label-arrow:hover:before {color: black;}#sk-container-id-3 div.sk-estimator:hover label.sk-toggleable__label-arrow:before {color: black;}#sk-container-id-3 div.sk-toggleable__content {max-height: 0;max-width: 0;overflow: hidden;text-align: left;background-color: #f0f8ff;}#sk-container-id-3 div.sk-toggleable__content pre {margin: 0.2em;color: black;border-radius: 0.25em;background-color: #f0f8ff;}#sk-container-id-3 input.sk-toggleable__control:checked~div.sk-toggleable__content {max-height: 200px;max-width: 100%;overflow: auto;}#sk-container-id-3 input.sk-toggleable__control:checked~label.sk-toggleable__label-arrow:before {content: \"▾\";}#sk-container-id-3 div.sk-estimator input.sk-toggleable__control:checked~label.sk-toggleable__label {background-color: #d4ebff;}#sk-container-id-3 div.sk-label input.sk-toggleable__control:checked~label.sk-toggleable__label {background-color: #d4ebff;}#sk-container-id-3 input.sk-hidden--visually {border: 0;clip: rect(1px 1px 1px 1px);clip: rect(1px, 1px, 1px, 1px);height: 1px;margin: -1px;overflow: hidden;padding: 0;position: absolute;width: 1px;}#sk-container-id-3 div.sk-estimator {font-family: monospace;background-color: #f0f8ff;border: 1px dotted black;border-radius: 0.25em;box-sizing: border-box;margin-bottom: 0.5em;}#sk-container-id-3 div.sk-estimator:hover {background-color: #d4ebff;}#sk-container-id-3 div.sk-parallel-item::after {content: \"\";width: 100%;border-bottom: 1px solid gray;flex-grow: 1;}#sk-container-id-3 div.sk-label:hover label.sk-toggleable__label {background-color: #d4ebff;}#sk-container-id-3 div.sk-serial::before {content: \"\";position: absolute;border-left: 1px solid gray;box-sizing: border-box;top: 0;bottom: 0;left: 50%;z-index: 0;}#sk-container-id-3 div.sk-serial {display: flex;flex-direction: column;align-items: center;background-color: white;padding-right: 0.2em;padding-left: 0.2em;position: relative;}#sk-container-id-3 div.sk-item {position: relative;z-index: 1;}#sk-container-id-3 div.sk-parallel {display: flex;align-items: stretch;justify-content: center;background-color: white;position: relative;}#sk-container-id-3 div.sk-item::before, #sk-container-id-3 div.sk-parallel-item::before {content: \"\";position: absolute;border-left: 1px solid gray;box-sizing: border-box;top: 0;bottom: 0;left: 50%;z-index: -1;}#sk-container-id-3 div.sk-parallel-item {display: flex;flex-direction: column;z-index: 1;position: relative;background-color: white;}#sk-container-id-3 div.sk-parallel-item:first-child::after {align-self: flex-end;width: 50%;}#sk-container-id-3 div.sk-parallel-item:last-child::after {align-self: flex-start;width: 50%;}#sk-container-id-3 div.sk-parallel-item:only-child::after {width: 0;}#sk-container-id-3 div.sk-dashed-wrapped {border: 1px dashed gray;margin: 0 0.4em 0.5em 0.4em;box-sizing: border-box;padding-bottom: 0.4em;background-color: white;}#sk-container-id-3 div.sk-label label {font-family: monospace;font-weight: bold;display: inline-block;line-height: 1.2em;}#sk-container-id-3 div.sk-label-container {text-align: center;}#sk-container-id-3 div.sk-container {/* jupyter's `normalize.less` sets `[hidden] { display: none; }` but bootstrap.min.css set `[hidden] { display: none !important; }` so we also need the `!important` here to be able to override the default hidden behavior on the sphinx rendered scikit-learn.org. See: https://github.com/scikit-learn/scikit-learn/issues/21755 */display: inline-block !important;position: relative;}#sk-container-id-3 div.sk-text-repr-fallback {display: none;}</style><div id=\"sk-container-id-3\" class=\"sk-top-container\"><div class=\"sk-text-repr-fallback\"><pre>SVC(C=1000, gamma=0.001)</pre><b>In a Jupyter environment, please rerun this cell to show the HTML representation or trust the notebook. <br />On GitHub, the HTML representation is unable to render, please try loading this page with nbviewer.org.</b></div><div class=\"sk-container\" hidden><div class=\"sk-item\"><div class=\"sk-estimator sk-toggleable\"><input class=\"sk-toggleable__control sk-hidden--visually\" id=\"sk-estimator-id-5\" type=\"checkbox\" checked><label for=\"sk-estimator-id-5\" class=\"sk-toggleable__label sk-toggleable__label-arrow\">SVC</label><div class=\"sk-toggleable__content\"><pre>SVC(C=1000, gamma=0.001)</pre></div></div></div></div></div>"
            ]
          },
          "metadata": {},
          "execution_count": 10
        }
      ]
    },
    {
      "cell_type": "code",
      "source": [
        "grid.best_score_"
      ],
      "metadata": {
        "colab": {
          "base_uri": "https://localhost:8080/"
        },
        "id": "zowRC0e3-FnL",
        "outputId": "2be90fb2-d76e-41fb-db5b-f5293d3312a1"
      },
      "execution_count": 11,
      "outputs": [
        {
          "output_type": "execute_result",
          "data": {
            "text/plain": [
              "0.8495726495726496"
            ]
          },
          "metadata": {},
          "execution_count": 11
        }
      ]
    },
    {
      "cell_type": "code",
      "source": [
        "gpredict = grid.predict(xtest)"
      ],
      "metadata": {
        "id": "g6rb0jOf_OaR"
      },
      "execution_count": 12,
      "outputs": []
    },
    {
      "cell_type": "code",
      "source": [
        "print(confusion_matrix(ytest, gpredict))\n",
        "print(classification_report(ytest, gpredict))"
      ],
      "metadata": {
        "colab": {
          "base_uri": "https://localhost:8080/"
        },
        "id": "PzkstgFF_Pu1",
        "outputId": "e9658a02-dede-47cc-92f0-d38f598ab72b"
      },
      "execution_count": 13,
      "outputs": [
        {
          "output_type": "stream",
          "name": "stdout",
          "text": [
            "[[ 14  14   0]\n",
            " [  4 207   0]\n",
            " [  0  13   0]]\n",
            "              precision    recall  f1-score   support\n",
            "\n",
            "  Overweight       0.78      0.50      0.61        28\n",
            "    Stunting       0.88      0.98      0.93       211\n",
            " Underweight       0.00      0.00      0.00        13\n",
            "\n",
            "    accuracy                           0.88       252\n",
            "   macro avg       0.55      0.49      0.51       252\n",
            "weighted avg       0.83      0.88      0.85       252\n",
            "\n"
          ]
        },
        {
          "output_type": "stream",
          "name": "stderr",
          "text": [
            "/usr/local/lib/python3.10/dist-packages/sklearn/metrics/_classification.py:1344: UndefinedMetricWarning: Precision and F-score are ill-defined and being set to 0.0 in labels with no predicted samples. Use `zero_division` parameter to control this behavior.\n",
            "  _warn_prf(average, modifier, msg_start, len(result))\n",
            "/usr/local/lib/python3.10/dist-packages/sklearn/metrics/_classification.py:1344: UndefinedMetricWarning: Precision and F-score are ill-defined and being set to 0.0 in labels with no predicted samples. Use `zero_division` parameter to control this behavior.\n",
            "  _warn_prf(average, modifier, msg_start, len(result))\n",
            "/usr/local/lib/python3.10/dist-packages/sklearn/metrics/_classification.py:1344: UndefinedMetricWarning: Precision and F-score are ill-defined and being set to 0.0 in labels with no predicted samples. Use `zero_division` parameter to control this behavior.\n",
            "  _warn_prf(average, modifier, msg_start, len(result))\n"
          ]
        }
      ]
    },
    {
      "cell_type": "code",
      "source": [
        "from sklearn.svm import SVC\n",
        "model_final = SVC(C=1000, gamma=0.001)\n",
        "model_final.fit(xtrain, ytrain)"
      ],
      "metadata": {
        "colab": {
          "base_uri": "https://localhost:8080/",
          "height": 74
        },
        "id": "isUh7zql_W3O",
        "outputId": "6305aa92-0f26-43a6-e470-7ed79b0fa030"
      },
      "execution_count": 14,
      "outputs": [
        {
          "output_type": "execute_result",
          "data": {
            "text/plain": [
              "SVC(C=1000, gamma=0.001)"
            ],
            "text/html": [
              "<style>#sk-container-id-4 {color: black;background-color: white;}#sk-container-id-4 pre{padding: 0;}#sk-container-id-4 div.sk-toggleable {background-color: white;}#sk-container-id-4 label.sk-toggleable__label {cursor: pointer;display: block;width: 100%;margin-bottom: 0;padding: 0.3em;box-sizing: border-box;text-align: center;}#sk-container-id-4 label.sk-toggleable__label-arrow:before {content: \"▸\";float: left;margin-right: 0.25em;color: #696969;}#sk-container-id-4 label.sk-toggleable__label-arrow:hover:before {color: black;}#sk-container-id-4 div.sk-estimator:hover label.sk-toggleable__label-arrow:before {color: black;}#sk-container-id-4 div.sk-toggleable__content {max-height: 0;max-width: 0;overflow: hidden;text-align: left;background-color: #f0f8ff;}#sk-container-id-4 div.sk-toggleable__content pre {margin: 0.2em;color: black;border-radius: 0.25em;background-color: #f0f8ff;}#sk-container-id-4 input.sk-toggleable__control:checked~div.sk-toggleable__content {max-height: 200px;max-width: 100%;overflow: auto;}#sk-container-id-4 input.sk-toggleable__control:checked~label.sk-toggleable__label-arrow:before {content: \"▾\";}#sk-container-id-4 div.sk-estimator input.sk-toggleable__control:checked~label.sk-toggleable__label {background-color: #d4ebff;}#sk-container-id-4 div.sk-label input.sk-toggleable__control:checked~label.sk-toggleable__label {background-color: #d4ebff;}#sk-container-id-4 input.sk-hidden--visually {border: 0;clip: rect(1px 1px 1px 1px);clip: rect(1px, 1px, 1px, 1px);height: 1px;margin: -1px;overflow: hidden;padding: 0;position: absolute;width: 1px;}#sk-container-id-4 div.sk-estimator {font-family: monospace;background-color: #f0f8ff;border: 1px dotted black;border-radius: 0.25em;box-sizing: border-box;margin-bottom: 0.5em;}#sk-container-id-4 div.sk-estimator:hover {background-color: #d4ebff;}#sk-container-id-4 div.sk-parallel-item::after {content: \"\";width: 100%;border-bottom: 1px solid gray;flex-grow: 1;}#sk-container-id-4 div.sk-label:hover label.sk-toggleable__label {background-color: #d4ebff;}#sk-container-id-4 div.sk-serial::before {content: \"\";position: absolute;border-left: 1px solid gray;box-sizing: border-box;top: 0;bottom: 0;left: 50%;z-index: 0;}#sk-container-id-4 div.sk-serial {display: flex;flex-direction: column;align-items: center;background-color: white;padding-right: 0.2em;padding-left: 0.2em;position: relative;}#sk-container-id-4 div.sk-item {position: relative;z-index: 1;}#sk-container-id-4 div.sk-parallel {display: flex;align-items: stretch;justify-content: center;background-color: white;position: relative;}#sk-container-id-4 div.sk-item::before, #sk-container-id-4 div.sk-parallel-item::before {content: \"\";position: absolute;border-left: 1px solid gray;box-sizing: border-box;top: 0;bottom: 0;left: 50%;z-index: -1;}#sk-container-id-4 div.sk-parallel-item {display: flex;flex-direction: column;z-index: 1;position: relative;background-color: white;}#sk-container-id-4 div.sk-parallel-item:first-child::after {align-self: flex-end;width: 50%;}#sk-container-id-4 div.sk-parallel-item:last-child::after {align-self: flex-start;width: 50%;}#sk-container-id-4 div.sk-parallel-item:only-child::after {width: 0;}#sk-container-id-4 div.sk-dashed-wrapped {border: 1px dashed gray;margin: 0 0.4em 0.5em 0.4em;box-sizing: border-box;padding-bottom: 0.4em;background-color: white;}#sk-container-id-4 div.sk-label label {font-family: monospace;font-weight: bold;display: inline-block;line-height: 1.2em;}#sk-container-id-4 div.sk-label-container {text-align: center;}#sk-container-id-4 div.sk-container {/* jupyter's `normalize.less` sets `[hidden] { display: none; }` but bootstrap.min.css set `[hidden] { display: none !important; }` so we also need the `!important` here to be able to override the default hidden behavior on the sphinx rendered scikit-learn.org. See: https://github.com/scikit-learn/scikit-learn/issues/21755 */display: inline-block !important;position: relative;}#sk-container-id-4 div.sk-text-repr-fallback {display: none;}</style><div id=\"sk-container-id-4\" class=\"sk-top-container\"><div class=\"sk-text-repr-fallback\"><pre>SVC(C=1000, gamma=0.001)</pre><b>In a Jupyter environment, please rerun this cell to show the HTML representation or trust the notebook. <br />On GitHub, the HTML representation is unable to render, please try loading this page with nbviewer.org.</b></div><div class=\"sk-container\" hidden><div class=\"sk-item\"><div class=\"sk-estimator sk-toggleable\"><input class=\"sk-toggleable__control sk-hidden--visually\" id=\"sk-estimator-id-6\" type=\"checkbox\" checked><label for=\"sk-estimator-id-6\" class=\"sk-toggleable__label sk-toggleable__label-arrow\">SVC</label><div class=\"sk-toggleable__content\"><pre>SVC(C=1000, gamma=0.001)</pre></div></div></div></div></div>"
            ]
          },
          "metadata": {},
          "execution_count": 14
        }
      ]
    },
    {
      "cell_type": "code",
      "source": [
        "predictions = model_final.predict(xtest)"
      ],
      "metadata": {
        "id": "friEBLbr_ZFF"
      },
      "execution_count": 15,
      "outputs": []
    },
    {
      "cell_type": "code",
      "source": [
        "print(classification_report(ytest, predictions))\n",
        "print(accuracy_score(ytest, predictions))"
      ],
      "metadata": {
        "colab": {
          "base_uri": "https://localhost:8080/"
        },
        "id": "NXprMiFZ_blR",
        "outputId": "d68fdaf2-321c-4971-dafb-429cfb9f2a56"
      },
      "execution_count": 16,
      "outputs": [
        {
          "output_type": "stream",
          "name": "stdout",
          "text": [
            "              precision    recall  f1-score   support\n",
            "\n",
            "  Overweight       0.78      0.50      0.61        28\n",
            "    Stunting       0.88      0.98      0.93       211\n",
            " Underweight       0.00      0.00      0.00        13\n",
            "\n",
            "    accuracy                           0.88       252\n",
            "   macro avg       0.55      0.49      0.51       252\n",
            "weighted avg       0.83      0.88      0.85       252\n",
            "\n",
            "0.876984126984127\n"
          ]
        },
        {
          "output_type": "stream",
          "name": "stderr",
          "text": [
            "/usr/local/lib/python3.10/dist-packages/sklearn/metrics/_classification.py:1344: UndefinedMetricWarning: Precision and F-score are ill-defined and being set to 0.0 in labels with no predicted samples. Use `zero_division` parameter to control this behavior.\n",
            "  _warn_prf(average, modifier, msg_start, len(result))\n",
            "/usr/local/lib/python3.10/dist-packages/sklearn/metrics/_classification.py:1344: UndefinedMetricWarning: Precision and F-score are ill-defined and being set to 0.0 in labels with no predicted samples. Use `zero_division` parameter to control this behavior.\n",
            "  _warn_prf(average, modifier, msg_start, len(result))\n",
            "/usr/local/lib/python3.10/dist-packages/sklearn/metrics/_classification.py:1344: UndefinedMetricWarning: Precision and F-score are ill-defined and being set to 0.0 in labels with no predicted samples. Use `zero_division` parameter to control this behavior.\n",
            "  _warn_prf(average, modifier, msg_start, len(result))\n"
          ]
        }
      ]
    },
    {
      "cell_type": "code",
      "source": [],
      "metadata": {
        "id": "eimcKpQQ_r2_"
      },
      "execution_count": null,
      "outputs": []
    }
  ]
}