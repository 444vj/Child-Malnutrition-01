{
  "nbformat": 4,
  "nbformat_minor": 0,
  "metadata": {
    "colab": {
      "provenance": [],
      "mount_file_id": "1KDRjThFy0i5vFZHvPVyjUUb8HA1qK5xv",
      "authorship_tag": "ABX9TyOwhtMC+bwpBrfjXYbE9SCo",
      "include_colab_link": true
    },
    "kernelspec": {
      "name": "python3",
      "display_name": "Python 3"
    },
    "language_info": {
      "name": "python"
    }
  },
  "cells": [
    {
      "cell_type": "markdown",
      "metadata": {
        "id": "view-in-github",
        "colab_type": "text"
      },
      "source": [
        "<a href=\"https://colab.research.google.com/github/444vj/child-malnutrition-01/blob/main/svc_xgb.ipynb\" target=\"_parent\"><img src=\"https://colab.research.google.com/assets/colab-badge.svg\" alt=\"Open In Colab\"/></a>"
      ]
    },
    {
      "cell_type": "markdown",
      "source": [
        "SVC classifier"
      ],
      "metadata": {
        "id": "Xiz4wSUzKvHX"
      }
    },
    {
      "cell_type": "code",
      "source": [
        "import pandas as pd\n",
        "from sklearn.model_selection import train_test_split\n",
        "from sklearn.preprocessing import StandardScaler\n",
        "from sklearn.svm import SVC\n",
        "from sklearn.pipeline import Pipeline\n",
        "\n",
        "# Read the dataset\n",
        "data = pd.read_csv('/content/merged_dataset.csv')\n",
        "\n",
        "# Define the binning criteria\n",
        "threshold = 10  # For example, consider values <= 10 as underweight, and > 10 as not underweight\n",
        "\n",
        "# Create a new column 'Underweight' based on the binning criteria\n",
        "data['Underweight'] = (data['Child Underweight'] <= threshold).astype(int)\n",
        "\n",
        "# Separate predictors and target\n",
        "X = data.drop(columns=['Child Underweight', 'Underweight', 'Country Name', 'Year'])  # Exclude non-predictor columns\n",
        "y = data['Underweight']\n",
        "\n",
        "# Split the data into train and test sets\n",
        "X_train, X_test, y_train, y_test = train_test_split(X, y, test_size=0.2, random_state=42)\n",
        "\n",
        "# Define the pipeline\n",
        "pipeline = Pipeline([\n",
        "    ('scaler', StandardScaler()),  # Scale the features\n",
        "    ('svc', SVC())  # Support Vector Classifier\n",
        "])\n",
        "\n",
        "# Fit the model\n",
        "pipeline.fit(X_train, y_train)\n",
        "\n",
        "# Evaluate the model\n",
        "accuracy = pipeline.score(X_test, y_test)\n",
        "print(\"Accuracy:\", accuracy)\n"
      ],
      "metadata": {
        "colab": {
          "base_uri": "https://localhost:8080/"
        },
        "id": "o0Bazga0EMe8",
        "outputId": "a088c3cc-8891-46b3-edfd-792460054c09"
      },
      "execution_count": 2,
      "outputs": [
        {
          "output_type": "stream",
          "name": "stdout",
          "text": [
            "Accuracy: 0.9682539682539683\n"
          ]
        }
      ]
    },
    {
      "cell_type": "markdown",
      "source": [
        "XGB CLASSIFIER"
      ],
      "metadata": {
        "id": "nG66jxDTLUs9"
      }
    },
    {
      "cell_type": "code",
      "source": [
        "import pandas as pd\n",
        "from sklearn.model_selection import train_test_split\n",
        "from sklearn.preprocessing import StandardScaler\n",
        "from xgboost import XGBRegressor\n",
        "from sklearn.pipeline import Pipeline\n",
        "\n",
        "# Read the dataset\n",
        "data = pd.read_csv('/content/merged_dataset.csv')\n",
        "\n",
        "# Separate predictors and target\n",
        "X = data.drop(columns=['Child Underweight', 'Country Name', 'Year'])  # Exclude non-predictor columns\n",
        "y = data['Child Underweight']\n",
        "\n",
        "# Split the data into train and test sets\n",
        "X_train, X_test, y_train, y_test = train_test_split(X, y, test_size=0.2, random_state=42)\n",
        "\n",
        "# Define the pipeline\n",
        "pipeline = Pipeline([\n",
        "    ('scaler', StandardScaler()),  # Scale the features\n",
        "    ('xgb_regressor', XGBRegressor())  # XGBoost Regressor\n",
        "])\n",
        "\n",
        "# Fit the model\n",
        "pipeline.fit(X_train, y_train)\n",
        "\n",
        "# Evaluate the model\n",
        "score = pipeline.score(X_test, y_test)\n",
        "print(\"R-squared Score:\", score)\n"
      ],
      "metadata": {
        "colab": {
          "base_uri": "https://localhost:8080/"
        },
        "id": "vDvD_avfEXfF",
        "outputId": "43992a34-76ac-42d2-83de-f763e550e3ac"
      },
      "execution_count": 2,
      "outputs": [
        {
          "output_type": "stream",
          "name": "stdout",
          "text": [
            "R-squared Score: 0.8536730494297399\n"
          ]
        }
      ]
    },
    {
      "cell_type": "code",
      "source": [],
      "metadata": {
        "id": "PKzAxiLxHrTr"
      },
      "execution_count": null,
      "outputs": []
    }
  ]
}