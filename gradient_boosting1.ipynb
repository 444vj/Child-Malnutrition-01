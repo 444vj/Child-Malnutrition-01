{
  "nbformat": 4,
  "nbformat_minor": 0,
  "metadata": {
    "colab": {
      "provenance": [],
      "gpuType": "T4"
    },
    "kernelspec": {
      "name": "python3",
      "display_name": "Python 3"
    },
    "language_info": {
      "name": "python"
    },
    "accelerator": "GPU"
  },
  "cells": [
    {
      "cell_type": "code",
      "source": [
        "# Importing necessary libraries\n",
        "import pandas as pd\n",
        "import numpy as np\n",
        "import matplotlib.pyplot as plt\n",
        "import seaborn as sns\n",
        "import sklearn\n",
        "from sklearn.model_selection import train_test_split, cross_val_score\n",
        "from sklearn.ensemble import GradientBoostingClassifier\n",
        "from xgboost import XGBClassifier\n",
        "from sklearn.metrics import accuracy_score\n",
        "\n",
        "# Load the dataset\n",
        "dataset_path = \"/content/Preprocessed_Data (1).csv\"  # Replace with the actual path to your dataset\n",
        "df = pd.read_csv(dataset_path)\n",
        "\n",
        "# Assuming 'df' contains your dataset\n",
        "# Preprocessing: Assuming 'X' contains your features and 'y' contains your target variable\n",
        "X = df[['Sex', 'Age', 'Height', 'Weight', 'Low Income', 'Lower Middle Income', 'Upper Middle Income']]\n",
        "y = df['Status']  # Assuming 'status' is your target variable\n",
        "\n",
        "# Convert categorical variables to numerical using one-hot encoding\n",
        "X = pd.get_dummies(X)\n",
        "\n",
        "# Splitting data into train and test sets\n",
        "X_train, X_test, y_train, y_test = train_test_split(X, y, test_size=0.2, random_state=42)\n",
        "\n",
        "# Model 1: Gradient Boosting Classifier\n",
        "gb_classifier = GradientBoostingClassifier()\n",
        "gb_classifier.fit(X_train, y_train)\n",
        "gb_predictions = gb_classifier.predict(X_test)\n",
        "gb_accuracy = accuracy_score(y_test, gb_predictions)\n",
        "print(\"Gradient Boosting Classifier Accuracy:\", gb_accuracy)\n",
        "\n",
        "\n"
      ],
      "metadata": {
        "colab": {
          "base_uri": "https://localhost:8080/"
        },
        "id": "GOTW9ZtyEEv-",
        "outputId": "a78265ac-57e0-406d-de97-d26d2ccf0536"
      },
      "execution_count": null,
      "outputs": [
        {
          "output_type": "stream",
          "name": "stdout",
          "text": [
            "Gradient Boosting Classifier Accuracy: 0.7976190476190477\n"
          ]
        }
      ]
    },
    {
      "cell_type": "code",
      "source": [
        "from sklearn.model_selection import GridSearchCV\n",
        "\n",
        "# Define the parameter grid for Gradient Boosting Classifier\n",
        "param_grid = {\n",
        "    'n_estimators': [50, 100, 150],\n",
        "    'learning_rate': [0.05, 0.1, 0.2],\n",
        "    'max_depth': [3, 4, 5]\n",
        "}\n",
        "\n",
        "# Instantiate Gradient Boosting Classifier\n",
        "gb_classifier = GradientBoostingClassifier()\n",
        "\n",
        "# Perform grid search\n",
        "grid_search = GridSearchCV(gb_classifier, param_grid, cv=5, scoring='accuracy')\n",
        "grid_search.fit(X_train, y_train)\n",
        "\n",
        "# Print the best parameters and best accuracy\n",
        "print(\"Best Parameters:\", grid_search.best_params_)\n",
        "print(\"Best Accuracy:\", grid_search.best_score_)\n",
        "\n",
        "# Use the best estimator from grid search\n",
        "best_gb_classifier = grid_search.best_estimator_\n",
        "\n",
        "# Evaluate the model on test data\n",
        "gb_predictions = best_gb_classifier.predict(X_test)\n",
        "gb_accuracy = accuracy_score(y_test, gb_predictions)\n",
        "print(\"Gradient Boosting Classifier Accuracy after Hyperparameter Tuning:\", gb_accuracy)\n"
      ],
      "metadata": {
        "colab": {
          "base_uri": "https://localhost:8080/"
        },
        "id": "DB-1kDz-jjmV",
        "outputId": "d386e4d8-565d-4d2e-fb0b-65d20bc6febf"
      },
      "execution_count": null,
      "outputs": [
        {
          "output_type": "stream",
          "name": "stderr",
          "text": [
            "/usr/local/lib/python3.10/dist-packages/sklearn/model_selection/_split.py:700: UserWarning: The least populated class in y has only 4 members, which is less than n_splits=5.\n",
            "  warnings.warn(\n"
          ]
        },
        {
          "output_type": "stream",
          "name": "stdout",
          "text": [
            "Best Parameters: {'learning_rate': 0.05, 'max_depth': 3, 'n_estimators': 50}\n",
            "Best Accuracy: 0.8400852878464817\n",
            "Gradient Boosting Classifier Accuracy after Hyperparameter Tuning: 0.8511904761904762\n"
          ]
        }
      ]
    },
    {
      "cell_type": "code",
      "source": [
        "from sklearn.ensemble import RandomForestClassifier\n",
        "from sklearn.ensemble import VotingClassifier\n",
        "from sklearn.feature_selection import SelectFromModel\n",
        "from sklearn.preprocessing import StandardScaler\n",
        "from sklearn.pipeline import Pipeline\n",
        "from sklearn.model_selection import cross_val_score\n",
        "from sklearn.model_selection import StratifiedKFold\n",
        "from sklearn.metrics import accuracy_score\n",
        "import numpy as np\n",
        "\n",
        "# Feature Scaling\n",
        "scaler = StandardScaler()\n",
        "X_scaled = scaler.fit_transform(X)\n",
        "\n",
        "# Feature Selection using Random Forest\n",
        "rf_classifier = RandomForestClassifier(n_estimators=100, random_state=42)\n",
        "rf_classifier.fit(X_scaled, y)\n",
        "feature_importances = rf_classifier.feature_importances_\n",
        "selected_features = SelectFromModel(rf_classifier, threshold='mean')\n",
        "X_selected = selected_features.fit_transform(X_scaled, y)\n",
        "\n",
        "# Ensemble of Gradient Boosting and XGBoost classifiers\n",
        "gb_classifier = GradientBoostingClassifier(learning_rate=0.05, max_depth=3, n_estimators=50, random_state=42)\n",
        "xgb_classifier = XGBClassifier(learning_rate=0.05, max_depth=3, n_estimators=50, random_state=42)\n",
        "voting_classifier = VotingClassifier(estimators=[('gb', gb_classifier), ('xgb', xgb_classifier)], voting='soft')\n",
        "\n",
        "# Pipeline for feature selection, scaling, and classification\n",
        "pipeline = Pipeline([\n",
        "    ('feature_selection', selected_features),\n",
        "    ('scaler', scaler),\n",
        "    ('classification', voting_classifier)\n",
        "])\n",
        "\n",
        "# Cross-validation\n",
        "cv = StratifiedKFold(n_splits=5, shuffle=True, random_state=42)\n",
        "cv_scores = cross_val_score(pipeline, X, y, cv=cv, scoring='accuracy')\n",
        "print(\"Cross-Validation Scores:\", cv_scores)\n",
        "print(\"Mean Accuracy:\", np.mean(cv_scores))\n",
        "\n",
        "# Fit the pipeline on the entire dataset\n",
        "pipeline.fit(X, y)\n",
        "\n",
        "# Make predictions on the test set\n",
        "test_predictions = pipeline.predict(X_test)\n",
        "test_accuracy = accuracy_score(y_test, test_predictions)\n",
        "print(\"Test Accuracy:\", test_accuracy)\n"
      ],
      "metadata": {
        "id": "pkGYt8GOk9Pl",
        "colab": {
          "base_uri": "https://localhost:8080/"
        },
        "outputId": "5ad84540-a0cb-4821-94b5-e1b3e51d271a"
      },
      "execution_count": null,
      "outputs": [
        {
          "output_type": "stream",
          "name": "stderr",
          "text": [
            "/usr/local/lib/python3.10/dist-packages/sklearn/model_selection/_split.py:700: UserWarning: The least populated class in y has only 4 members, which is less than n_splits=5.\n",
            "  warnings.warn(\n"
          ]
        },
        {
          "output_type": "stream",
          "name": "stdout",
          "text": [
            "Cross-Validation Scores: [0.82738095 0.82738095 0.82634731 0.83233533 0.83233533]\n",
            "Mean Accuracy: 0.8291559737667523\n",
            "Test Accuracy: 0.8511904761904762\n"
          ]
        }
      ]
    },
    {
      "cell_type": "code",
      "source": [],
      "metadata": {
        "id": "O4OoTug3Kpp-"
      },
      "execution_count": null,
      "outputs": []
    }
  ]
}
