{
  "nbformat": 4,
  "nbformat_minor": 0,
  "metadata": {
    "colab": {
      "provenance": [],
      "gpuType": "T4",
      "authorship_tag": "ABX9TyOr8/+LrQ4KIFwOxwKcefWV",
      "include_colab_link": true
    },
    "kernelspec": {
      "name": "python3",
      "display_name": "Python 3"
    },
    "language_info": {
      "name": "python"
    },
    "accelerator": "GPU"
  },
  "cells": [
    {
      "cell_type": "markdown",
      "metadata": {
        "id": "view-in-github",
        "colab_type": "text"
      },
      "source": [
        "<a href=\"https://colab.research.google.com/github/444vj/child-malnutrition-01/blob/main/preprocessed_data_dhs.ipynb\" target=\"_parent\"><img src=\"https://colab.research.google.com/assets/colab-badge.svg\" alt=\"Open In Colab\"/></a>"
      ]
    },
    {
      "cell_type": "code",
      "execution_count": null,
      "metadata": {
        "id": "5MU3b6O6zDUW"
      },
      "outputs": [],
      "source": [
        "import pandas as pd"
      ]
    },
    {
      "cell_type": "code",
      "source": [
        "df=pd.read_csv(\"/content/reduced_features.csv\")\n",
        "df"
      ],
      "metadata": {
        "colab": {
          "base_uri": "https://localhost:8080/",
          "height": 443
        },
        "id": "09uaAVuTzM07",
        "outputId": "4ea9ae64-8819-420a-e3a8-1f7f6bba1d0f"
      },
      "execution_count": null,
      "outputs": [
        {
          "output_type": "execute_result",
          "data": {
            "text/plain": [
              "      v113  s116  v212  v190a    v445    v438  v116  v218  v151  v717  ...  \\\n",
              "0       14   2.0    18      1  1994.0  1452.0  31.0     2     1   NaN  ...   \n",
              "1       12   2.0    28      1  2282.0  1623.0  13.0     3     1   NaN  ...   \n",
              "2       11   3.0    20      5  2087.0  1529.0  12.0     3     1   NaN  ...   \n",
              "3       21   3.0    18      2  2445.0  1462.0  41.0     2     1   NaN  ...   \n",
              "4       21   3.0    21      3  2111.0  1489.0  12.0     2     1   0.0  ...   \n",
              "...    ...   ...   ...    ...     ...     ...   ...   ...   ...   ...  ...   \n",
              "2324    14   2.0    16      1  2074.0  1511.0  13.0     7     1   NaN  ...   \n",
              "2325    14   2.0    28      3  1845.0  1434.0  13.0     2     1   NaN  ...   \n",
              "2326    21   3.0    32      5  2509.0  1594.0  13.0     2     2   NaN  ...   \n",
              "2327    21   3.0    20      4  1755.0  1724.0  12.0     2     2   NaN  ...   \n",
              "2328    12   1.0    18      4  1936.0  1558.0  31.0     2     2   NaN  ...   \n",
              "\n",
              "      v705  b4  s301  s370b   v437  v024  hidx  v025  v130    m5  \n",
              "0      NaN   1     1    0.0  421.0    22   1.0     2     1  19.0  \n",
              "1      NaN   1     1    0.0  601.0    13   3.0     2     3   NaN  \n",
              "2      NaN   2     1    NaN  488.0    23   1.0     1     1   4.0  \n",
              "3      NaN   2     1    NaN  523.0     9   1.0     2     1   8.0  \n",
              "4      4.0   1     1    0.0  468.0    10   1.0     1     2   2.0  \n",
              "...    ...  ..   ...    ...    ...   ...   ...   ...   ...   ...  \n",
              "2324   NaN   1     1    0.0  474.0    13   1.0     2     3  12.0  \n",
              "2325   NaN   2     1    0.0  380.0    20   1.0     2     1  33.0  \n",
              "2326   NaN   1     1    NaN  638.0    18   NaN     2     1  41.0  \n",
              "2327   NaN   1     1    0.0  522.0     8   1.0     2     1   9.0  \n",
              "2328   NaN   2     1    0.0  470.0    33   1.0     2     1  12.0  \n",
              "\n",
              "[2329 rows x 21 columns]"
            ],
            "text/html": [
              "\n",
              "  <div id=\"df-ce0287f4-6cff-41cb-8bb7-a7fc5c34c624\" class=\"colab-df-container\">\n",
              "    <div>\n",
              "<style scoped>\n",
              "    .dataframe tbody tr th:only-of-type {\n",
              "        vertical-align: middle;\n",
              "    }\n",
              "\n",
              "    .dataframe tbody tr th {\n",
              "        vertical-align: top;\n",
              "    }\n",
              "\n",
              "    .dataframe thead th {\n",
              "        text-align: right;\n",
              "    }\n",
              "</style>\n",
              "<table border=\"1\" class=\"dataframe\">\n",
              "  <thead>\n",
              "    <tr style=\"text-align: right;\">\n",
              "      <th></th>\n",
              "      <th>v113</th>\n",
              "      <th>s116</th>\n",
              "      <th>v212</th>\n",
              "      <th>v190a</th>\n",
              "      <th>v445</th>\n",
              "      <th>v438</th>\n",
              "      <th>v116</th>\n",
              "      <th>v218</th>\n",
              "      <th>v151</th>\n",
              "      <th>v717</th>\n",
              "      <th>...</th>\n",
              "      <th>v705</th>\n",
              "      <th>b4</th>\n",
              "      <th>s301</th>\n",
              "      <th>s370b</th>\n",
              "      <th>v437</th>\n",
              "      <th>v024</th>\n",
              "      <th>hidx</th>\n",
              "      <th>v025</th>\n",
              "      <th>v130</th>\n",
              "      <th>m5</th>\n",
              "    </tr>\n",
              "  </thead>\n",
              "  <tbody>\n",
              "    <tr>\n",
              "      <th>0</th>\n",
              "      <td>14</td>\n",
              "      <td>2.0</td>\n",
              "      <td>18</td>\n",
              "      <td>1</td>\n",
              "      <td>1994.0</td>\n",
              "      <td>1452.0</td>\n",
              "      <td>31.0</td>\n",
              "      <td>2</td>\n",
              "      <td>1</td>\n",
              "      <td>NaN</td>\n",
              "      <td>...</td>\n",
              "      <td>NaN</td>\n",
              "      <td>1</td>\n",
              "      <td>1</td>\n",
              "      <td>0.0</td>\n",
              "      <td>421.0</td>\n",
              "      <td>22</td>\n",
              "      <td>1.0</td>\n",
              "      <td>2</td>\n",
              "      <td>1</td>\n",
              "      <td>19.0</td>\n",
              "    </tr>\n",
              "    <tr>\n",
              "      <th>1</th>\n",
              "      <td>12</td>\n",
              "      <td>2.0</td>\n",
              "      <td>28</td>\n",
              "      <td>1</td>\n",
              "      <td>2282.0</td>\n",
              "      <td>1623.0</td>\n",
              "      <td>13.0</td>\n",
              "      <td>3</td>\n",
              "      <td>1</td>\n",
              "      <td>NaN</td>\n",
              "      <td>...</td>\n",
              "      <td>NaN</td>\n",
              "      <td>1</td>\n",
              "      <td>1</td>\n",
              "      <td>0.0</td>\n",
              "      <td>601.0</td>\n",
              "      <td>13</td>\n",
              "      <td>3.0</td>\n",
              "      <td>2</td>\n",
              "      <td>3</td>\n",
              "      <td>NaN</td>\n",
              "    </tr>\n",
              "    <tr>\n",
              "      <th>2</th>\n",
              "      <td>11</td>\n",
              "      <td>3.0</td>\n",
              "      <td>20</td>\n",
              "      <td>5</td>\n",
              "      <td>2087.0</td>\n",
              "      <td>1529.0</td>\n",
              "      <td>12.0</td>\n",
              "      <td>3</td>\n",
              "      <td>1</td>\n",
              "      <td>NaN</td>\n",
              "      <td>...</td>\n",
              "      <td>NaN</td>\n",
              "      <td>2</td>\n",
              "      <td>1</td>\n",
              "      <td>NaN</td>\n",
              "      <td>488.0</td>\n",
              "      <td>23</td>\n",
              "      <td>1.0</td>\n",
              "      <td>1</td>\n",
              "      <td>1</td>\n",
              "      <td>4.0</td>\n",
              "    </tr>\n",
              "    <tr>\n",
              "      <th>3</th>\n",
              "      <td>21</td>\n",
              "      <td>3.0</td>\n",
              "      <td>18</td>\n",
              "      <td>2</td>\n",
              "      <td>2445.0</td>\n",
              "      <td>1462.0</td>\n",
              "      <td>41.0</td>\n",
              "      <td>2</td>\n",
              "      <td>1</td>\n",
              "      <td>NaN</td>\n",
              "      <td>...</td>\n",
              "      <td>NaN</td>\n",
              "      <td>2</td>\n",
              "      <td>1</td>\n",
              "      <td>NaN</td>\n",
              "      <td>523.0</td>\n",
              "      <td>9</td>\n",
              "      <td>1.0</td>\n",
              "      <td>2</td>\n",
              "      <td>1</td>\n",
              "      <td>8.0</td>\n",
              "    </tr>\n",
              "    <tr>\n",
              "      <th>4</th>\n",
              "      <td>21</td>\n",
              "      <td>3.0</td>\n",
              "      <td>21</td>\n",
              "      <td>3</td>\n",
              "      <td>2111.0</td>\n",
              "      <td>1489.0</td>\n",
              "      <td>12.0</td>\n",
              "      <td>2</td>\n",
              "      <td>1</td>\n",
              "      <td>0.0</td>\n",
              "      <td>...</td>\n",
              "      <td>4.0</td>\n",
              "      <td>1</td>\n",
              "      <td>1</td>\n",
              "      <td>0.0</td>\n",
              "      <td>468.0</td>\n",
              "      <td>10</td>\n",
              "      <td>1.0</td>\n",
              "      <td>1</td>\n",
              "      <td>2</td>\n",
              "      <td>2.0</td>\n",
              "    </tr>\n",
              "    <tr>\n",
              "      <th>...</th>\n",
              "      <td>...</td>\n",
              "      <td>...</td>\n",
              "      <td>...</td>\n",
              "      <td>...</td>\n",
              "      <td>...</td>\n",
              "      <td>...</td>\n",
              "      <td>...</td>\n",
              "      <td>...</td>\n",
              "      <td>...</td>\n",
              "      <td>...</td>\n",
              "      <td>...</td>\n",
              "      <td>...</td>\n",
              "      <td>...</td>\n",
              "      <td>...</td>\n",
              "      <td>...</td>\n",
              "      <td>...</td>\n",
              "      <td>...</td>\n",
              "      <td>...</td>\n",
              "      <td>...</td>\n",
              "      <td>...</td>\n",
              "      <td>...</td>\n",
              "    </tr>\n",
              "    <tr>\n",
              "      <th>2324</th>\n",
              "      <td>14</td>\n",
              "      <td>2.0</td>\n",
              "      <td>16</td>\n",
              "      <td>1</td>\n",
              "      <td>2074.0</td>\n",
              "      <td>1511.0</td>\n",
              "      <td>13.0</td>\n",
              "      <td>7</td>\n",
              "      <td>1</td>\n",
              "      <td>NaN</td>\n",
              "      <td>...</td>\n",
              "      <td>NaN</td>\n",
              "      <td>1</td>\n",
              "      <td>1</td>\n",
              "      <td>0.0</td>\n",
              "      <td>474.0</td>\n",
              "      <td>13</td>\n",
              "      <td>1.0</td>\n",
              "      <td>2</td>\n",
              "      <td>3</td>\n",
              "      <td>12.0</td>\n",
              "    </tr>\n",
              "    <tr>\n",
              "      <th>2325</th>\n",
              "      <td>14</td>\n",
              "      <td>2.0</td>\n",
              "      <td>28</td>\n",
              "      <td>3</td>\n",
              "      <td>1845.0</td>\n",
              "      <td>1434.0</td>\n",
              "      <td>13.0</td>\n",
              "      <td>2</td>\n",
              "      <td>1</td>\n",
              "      <td>NaN</td>\n",
              "      <td>...</td>\n",
              "      <td>NaN</td>\n",
              "      <td>2</td>\n",
              "      <td>1</td>\n",
              "      <td>0.0</td>\n",
              "      <td>380.0</td>\n",
              "      <td>20</td>\n",
              "      <td>1.0</td>\n",
              "      <td>2</td>\n",
              "      <td>1</td>\n",
              "      <td>33.0</td>\n",
              "    </tr>\n",
              "    <tr>\n",
              "      <th>2326</th>\n",
              "      <td>21</td>\n",
              "      <td>3.0</td>\n",
              "      <td>32</td>\n",
              "      <td>5</td>\n",
              "      <td>2509.0</td>\n",
              "      <td>1594.0</td>\n",
              "      <td>13.0</td>\n",
              "      <td>2</td>\n",
              "      <td>2</td>\n",
              "      <td>NaN</td>\n",
              "      <td>...</td>\n",
              "      <td>NaN</td>\n",
              "      <td>1</td>\n",
              "      <td>1</td>\n",
              "      <td>NaN</td>\n",
              "      <td>638.0</td>\n",
              "      <td>18</td>\n",
              "      <td>NaN</td>\n",
              "      <td>2</td>\n",
              "      <td>1</td>\n",
              "      <td>41.0</td>\n",
              "    </tr>\n",
              "    <tr>\n",
              "      <th>2327</th>\n",
              "      <td>21</td>\n",
              "      <td>3.0</td>\n",
              "      <td>20</td>\n",
              "      <td>4</td>\n",
              "      <td>1755.0</td>\n",
              "      <td>1724.0</td>\n",
              "      <td>12.0</td>\n",
              "      <td>2</td>\n",
              "      <td>2</td>\n",
              "      <td>NaN</td>\n",
              "      <td>...</td>\n",
              "      <td>NaN</td>\n",
              "      <td>1</td>\n",
              "      <td>1</td>\n",
              "      <td>0.0</td>\n",
              "      <td>522.0</td>\n",
              "      <td>8</td>\n",
              "      <td>1.0</td>\n",
              "      <td>2</td>\n",
              "      <td>1</td>\n",
              "      <td>9.0</td>\n",
              "    </tr>\n",
              "    <tr>\n",
              "      <th>2328</th>\n",
              "      <td>12</td>\n",
              "      <td>1.0</td>\n",
              "      <td>18</td>\n",
              "      <td>4</td>\n",
              "      <td>1936.0</td>\n",
              "      <td>1558.0</td>\n",
              "      <td>31.0</td>\n",
              "      <td>2</td>\n",
              "      <td>2</td>\n",
              "      <td>NaN</td>\n",
              "      <td>...</td>\n",
              "      <td>NaN</td>\n",
              "      <td>2</td>\n",
              "      <td>1</td>\n",
              "      <td>0.0</td>\n",
              "      <td>470.0</td>\n",
              "      <td>33</td>\n",
              "      <td>1.0</td>\n",
              "      <td>2</td>\n",
              "      <td>1</td>\n",
              "      <td>12.0</td>\n",
              "    </tr>\n",
              "  </tbody>\n",
              "</table>\n",
              "<p>2329 rows × 21 columns</p>\n",
              "</div>\n",
              "    <div class=\"colab-df-buttons\">\n",
              "\n",
              "  <div class=\"colab-df-container\">\n",
              "    <button class=\"colab-df-convert\" onclick=\"convertToInteractive('df-ce0287f4-6cff-41cb-8bb7-a7fc5c34c624')\"\n",
              "            title=\"Convert this dataframe to an interactive table.\"\n",
              "            style=\"display:none;\">\n",
              "\n",
              "  <svg xmlns=\"http://www.w3.org/2000/svg\" height=\"24px\" viewBox=\"0 -960 960 960\">\n",
              "    <path d=\"M120-120v-720h720v720H120Zm60-500h600v-160H180v160Zm220 220h160v-160H400v160Zm0 220h160v-160H400v160ZM180-400h160v-160H180v160Zm440 0h160v-160H620v160ZM180-180h160v-160H180v160Zm440 0h160v-160H620v160Z\"/>\n",
              "  </svg>\n",
              "    </button>\n",
              "\n",
              "  <style>\n",
              "    .colab-df-container {\n",
              "      display:flex;\n",
              "      gap: 12px;\n",
              "    }\n",
              "\n",
              "    .colab-df-convert {\n",
              "      background-color: #E8F0FE;\n",
              "      border: none;\n",
              "      border-radius: 50%;\n",
              "      cursor: pointer;\n",
              "      display: none;\n",
              "      fill: #1967D2;\n",
              "      height: 32px;\n",
              "      padding: 0 0 0 0;\n",
              "      width: 32px;\n",
              "    }\n",
              "\n",
              "    .colab-df-convert:hover {\n",
              "      background-color: #E2EBFA;\n",
              "      box-shadow: 0px 1px 2px rgba(60, 64, 67, 0.3), 0px 1px 3px 1px rgba(60, 64, 67, 0.15);\n",
              "      fill: #174EA6;\n",
              "    }\n",
              "\n",
              "    .colab-df-buttons div {\n",
              "      margin-bottom: 4px;\n",
              "    }\n",
              "\n",
              "    [theme=dark] .colab-df-convert {\n",
              "      background-color: #3B4455;\n",
              "      fill: #D2E3FC;\n",
              "    }\n",
              "\n",
              "    [theme=dark] .colab-df-convert:hover {\n",
              "      background-color: #434B5C;\n",
              "      box-shadow: 0px 1px 3px 1px rgba(0, 0, 0, 0.15);\n",
              "      filter: drop-shadow(0px 1px 2px rgba(0, 0, 0, 0.3));\n",
              "      fill: #FFFFFF;\n",
              "    }\n",
              "  </style>\n",
              "\n",
              "    <script>\n",
              "      const buttonEl =\n",
              "        document.querySelector('#df-ce0287f4-6cff-41cb-8bb7-a7fc5c34c624 button.colab-df-convert');\n",
              "      buttonEl.style.display =\n",
              "        google.colab.kernel.accessAllowed ? 'block' : 'none';\n",
              "\n",
              "      async function convertToInteractive(key) {\n",
              "        const element = document.querySelector('#df-ce0287f4-6cff-41cb-8bb7-a7fc5c34c624');\n",
              "        const dataTable =\n",
              "          await google.colab.kernel.invokeFunction('convertToInteractive',\n",
              "                                                    [key], {});\n",
              "        if (!dataTable) return;\n",
              "\n",
              "        const docLinkHtml = 'Like what you see? Visit the ' +\n",
              "          '<a target=\"_blank\" href=https://colab.research.google.com/notebooks/data_table.ipynb>data table notebook</a>'\n",
              "          + ' to learn more about interactive tables.';\n",
              "        element.innerHTML = '';\n",
              "        dataTable['output_type'] = 'display_data';\n",
              "        await google.colab.output.renderOutput(dataTable, element);\n",
              "        const docLink = document.createElement('div');\n",
              "        docLink.innerHTML = docLinkHtml;\n",
              "        element.appendChild(docLink);\n",
              "      }\n",
              "    </script>\n",
              "  </div>\n",
              "\n",
              "\n",
              "<div id=\"df-9fdbe0b5-c171-45bd-ac19-a56c586c3062\">\n",
              "  <button class=\"colab-df-quickchart\" onclick=\"quickchart('df-9fdbe0b5-c171-45bd-ac19-a56c586c3062')\"\n",
              "            title=\"Suggest charts\"\n",
              "            style=\"display:none;\">\n",
              "\n",
              "<svg xmlns=\"http://www.w3.org/2000/svg\" height=\"24px\"viewBox=\"0 0 24 24\"\n",
              "     width=\"24px\">\n",
              "    <g>\n",
              "        <path d=\"M19 3H5c-1.1 0-2 .9-2 2v14c0 1.1.9 2 2 2h14c1.1 0 2-.9 2-2V5c0-1.1-.9-2-2-2zM9 17H7v-7h2v7zm4 0h-2V7h2v10zm4 0h-2v-4h2v4z\"/>\n",
              "    </g>\n",
              "</svg>\n",
              "  </button>\n",
              "\n",
              "<style>\n",
              "  .colab-df-quickchart {\n",
              "      --bg-color: #E8F0FE;\n",
              "      --fill-color: #1967D2;\n",
              "      --hover-bg-color: #E2EBFA;\n",
              "      --hover-fill-color: #174EA6;\n",
              "      --disabled-fill-color: #AAA;\n",
              "      --disabled-bg-color: #DDD;\n",
              "  }\n",
              "\n",
              "  [theme=dark] .colab-df-quickchart {\n",
              "      --bg-color: #3B4455;\n",
              "      --fill-color: #D2E3FC;\n",
              "      --hover-bg-color: #434B5C;\n",
              "      --hover-fill-color: #FFFFFF;\n",
              "      --disabled-bg-color: #3B4455;\n",
              "      --disabled-fill-color: #666;\n",
              "  }\n",
              "\n",
              "  .colab-df-quickchart {\n",
              "    background-color: var(--bg-color);\n",
              "    border: none;\n",
              "    border-radius: 50%;\n",
              "    cursor: pointer;\n",
              "    display: none;\n",
              "    fill: var(--fill-color);\n",
              "    height: 32px;\n",
              "    padding: 0;\n",
              "    width: 32px;\n",
              "  }\n",
              "\n",
              "  .colab-df-quickchart:hover {\n",
              "    background-color: var(--hover-bg-color);\n",
              "    box-shadow: 0 1px 2px rgba(60, 64, 67, 0.3), 0 1px 3px 1px rgba(60, 64, 67, 0.15);\n",
              "    fill: var(--button-hover-fill-color);\n",
              "  }\n",
              "\n",
              "  .colab-df-quickchart-complete:disabled,\n",
              "  .colab-df-quickchart-complete:disabled:hover {\n",
              "    background-color: var(--disabled-bg-color);\n",
              "    fill: var(--disabled-fill-color);\n",
              "    box-shadow: none;\n",
              "  }\n",
              "\n",
              "  .colab-df-spinner {\n",
              "    border: 2px solid var(--fill-color);\n",
              "    border-color: transparent;\n",
              "    border-bottom-color: var(--fill-color);\n",
              "    animation:\n",
              "      spin 1s steps(1) infinite;\n",
              "  }\n",
              "\n",
              "  @keyframes spin {\n",
              "    0% {\n",
              "      border-color: transparent;\n",
              "      border-bottom-color: var(--fill-color);\n",
              "      border-left-color: var(--fill-color);\n",
              "    }\n",
              "    20% {\n",
              "      border-color: transparent;\n",
              "      border-left-color: var(--fill-color);\n",
              "      border-top-color: var(--fill-color);\n",
              "    }\n",
              "    30% {\n",
              "      border-color: transparent;\n",
              "      border-left-color: var(--fill-color);\n",
              "      border-top-color: var(--fill-color);\n",
              "      border-right-color: var(--fill-color);\n",
              "    }\n",
              "    40% {\n",
              "      border-color: transparent;\n",
              "      border-right-color: var(--fill-color);\n",
              "      border-top-color: var(--fill-color);\n",
              "    }\n",
              "    60% {\n",
              "      border-color: transparent;\n",
              "      border-right-color: var(--fill-color);\n",
              "    }\n",
              "    80% {\n",
              "      border-color: transparent;\n",
              "      border-right-color: var(--fill-color);\n",
              "      border-bottom-color: var(--fill-color);\n",
              "    }\n",
              "    90% {\n",
              "      border-color: transparent;\n",
              "      border-bottom-color: var(--fill-color);\n",
              "    }\n",
              "  }\n",
              "</style>\n",
              "\n",
              "  <script>\n",
              "    async function quickchart(key) {\n",
              "      const quickchartButtonEl =\n",
              "        document.querySelector('#' + key + ' button');\n",
              "      quickchartButtonEl.disabled = true;  // To prevent multiple clicks.\n",
              "      quickchartButtonEl.classList.add('colab-df-spinner');\n",
              "      try {\n",
              "        const charts = await google.colab.kernel.invokeFunction(\n",
              "            'suggestCharts', [key], {});\n",
              "      } catch (error) {\n",
              "        console.error('Error during call to suggestCharts:', error);\n",
              "      }\n",
              "      quickchartButtonEl.classList.remove('colab-df-spinner');\n",
              "      quickchartButtonEl.classList.add('colab-df-quickchart-complete');\n",
              "    }\n",
              "    (() => {\n",
              "      let quickchartButtonEl =\n",
              "        document.querySelector('#df-9fdbe0b5-c171-45bd-ac19-a56c586c3062 button');\n",
              "      quickchartButtonEl.style.display =\n",
              "        google.colab.kernel.accessAllowed ? 'block' : 'none';\n",
              "    })();\n",
              "  </script>\n",
              "</div>\n",
              "\n",
              "  <div id=\"id_10b6e28e-9b0a-4456-a1aa-b7117b7cf37e\">\n",
              "    <style>\n",
              "      .colab-df-generate {\n",
              "        background-color: #E8F0FE;\n",
              "        border: none;\n",
              "        border-radius: 50%;\n",
              "        cursor: pointer;\n",
              "        display: none;\n",
              "        fill: #1967D2;\n",
              "        height: 32px;\n",
              "        padding: 0 0 0 0;\n",
              "        width: 32px;\n",
              "      }\n",
              "\n",
              "      .colab-df-generate:hover {\n",
              "        background-color: #E2EBFA;\n",
              "        box-shadow: 0px 1px 2px rgba(60, 64, 67, 0.3), 0px 1px 3px 1px rgba(60, 64, 67, 0.15);\n",
              "        fill: #174EA6;\n",
              "      }\n",
              "\n",
              "      [theme=dark] .colab-df-generate {\n",
              "        background-color: #3B4455;\n",
              "        fill: #D2E3FC;\n",
              "      }\n",
              "\n",
              "      [theme=dark] .colab-df-generate:hover {\n",
              "        background-color: #434B5C;\n",
              "        box-shadow: 0px 1px 3px 1px rgba(0, 0, 0, 0.15);\n",
              "        filter: drop-shadow(0px 1px 2px rgba(0, 0, 0, 0.3));\n",
              "        fill: #FFFFFF;\n",
              "      }\n",
              "    </style>\n",
              "    <button class=\"colab-df-generate\" onclick=\"generateWithVariable('df')\"\n",
              "            title=\"Generate code using this dataframe.\"\n",
              "            style=\"display:none;\">\n",
              "\n",
              "  <svg xmlns=\"http://www.w3.org/2000/svg\" height=\"24px\"viewBox=\"0 0 24 24\"\n",
              "       width=\"24px\">\n",
              "    <path d=\"M7,19H8.4L18.45,9,17,7.55,7,17.6ZM5,21V16.75L18.45,3.32a2,2,0,0,1,2.83,0l1.4,1.43a1.91,1.91,0,0,1,.58,1.4,1.91,1.91,0,0,1-.58,1.4L9.25,21ZM18.45,9,17,7.55Zm-12,3A5.31,5.31,0,0,0,4.9,8.1,5.31,5.31,0,0,0,1,6.5,5.31,5.31,0,0,0,4.9,4.9,5.31,5.31,0,0,0,6.5,1,5.31,5.31,0,0,0,8.1,4.9,5.31,5.31,0,0,0,12,6.5,5.46,5.46,0,0,0,6.5,12Z\"/>\n",
              "  </svg>\n",
              "    </button>\n",
              "    <script>\n",
              "      (() => {\n",
              "      const buttonEl =\n",
              "        document.querySelector('#id_10b6e28e-9b0a-4456-a1aa-b7117b7cf37e button.colab-df-generate');\n",
              "      buttonEl.style.display =\n",
              "        google.colab.kernel.accessAllowed ? 'block' : 'none';\n",
              "\n",
              "      buttonEl.onclick = () => {\n",
              "        google.colab.notebook.generateWithVariable('df');\n",
              "      }\n",
              "      })();\n",
              "    </script>\n",
              "  </div>\n",
              "\n",
              "    </div>\n",
              "  </div>\n"
            ],
            "application/vnd.google.colaboratory.intrinsic+json": {
              "type": "dataframe",
              "variable_name": "df"
            }
          },
          "metadata": {},
          "execution_count": 3
        }
      ]
    },
    {
      "cell_type": "code",
      "source": [
        "df.isnull().sum()"
      ],
      "metadata": {
        "colab": {
          "base_uri": "https://localhost:8080/"
        },
        "id": "48i9IPVXzSy_",
        "outputId": "5a83bb19-f048-4403-c1af-22afbcbc6dc5"
      },
      "execution_count": null,
      "outputs": [
        {
          "output_type": "execute_result",
          "data": {
            "text/plain": [
              "v113        0\n",
              "s116      100\n",
              "v212        0\n",
              "v190a       0\n",
              "v445       58\n",
              "v438        1\n",
              "v116        0\n",
              "v218        0\n",
              "v151        0\n",
              "v717     1934\n",
              "v701     1934\n",
              "v705     1934\n",
              "b4          0\n",
              "s301        0\n",
              "s370b     659\n",
              "v437        1\n",
              "v024        0\n",
              "hidx      975\n",
              "v025        0\n",
              "v130        0\n",
              "m5        464\n",
              "dtype: int64"
            ]
          },
          "metadata": {},
          "execution_count": 4
        }
      ]
    },
    {
      "cell_type": "code",
      "source": [
        "df.isna().sum()"
      ],
      "metadata": {
        "colab": {
          "base_uri": "https://localhost:8080/"
        },
        "id": "OMS06gtfzVue",
        "outputId": "499991d0-5312-4f2d-8edb-35f4f53cb285"
      },
      "execution_count": null,
      "outputs": [
        {
          "output_type": "execute_result",
          "data": {
            "text/plain": [
              "v113        0\n",
              "s116      100\n",
              "v212        0\n",
              "v190a       0\n",
              "v445       58\n",
              "v438        1\n",
              "v116        0\n",
              "v218        0\n",
              "v151        0\n",
              "v717     1934\n",
              "v701     1934\n",
              "v705     1934\n",
              "b4          0\n",
              "s301        0\n",
              "s370b     659\n",
              "v437        1\n",
              "v024        0\n",
              "hidx      975\n",
              "v025        0\n",
              "v130        0\n",
              "m5        464\n",
              "dtype: int64"
            ]
          },
          "metadata": {},
          "execution_count": 5
        }
      ]
    },
    {
      "cell_type": "code",
      "source": [
        "df = df.dropna()\n"
      ],
      "metadata": {
        "id": "odQR0rfWzYJS"
      },
      "execution_count": null,
      "outputs": []
    },
    {
      "cell_type": "code",
      "source": [
        "df"
      ],
      "metadata": {
        "colab": {
          "base_uri": "https://localhost:8080/",
          "height": 443
        },
        "id": "JB7nvsJ_zaur",
        "outputId": "8cd48960-68e0-4180-e4a8-1242484ebfe5"
      },
      "execution_count": null,
      "outputs": [
        {
          "output_type": "execute_result",
          "data": {
            "text/plain": [
              "      v113  s116  v212  v190a    v445    v438  v116  v218  v151  v717  ...  \\\n",
              "4       21   3.0    21      3  2111.0  1489.0  12.0     2     1   0.0  ...   \n",
              "19      12   1.0    30      5  2160.0  1556.0  11.0     1     2   0.0  ...   \n",
              "27      11   3.0    20      4  1999.0  1552.0  12.0     2     1   6.0  ...   \n",
              "47      21   3.0    27      5  2584.0  1520.0  12.0     1     1   4.0  ...   \n",
              "76      21   1.0    20      2  1657.0  1444.0  12.0     2     1   0.0  ...   \n",
              "...    ...   ...   ...    ...     ...     ...   ...   ...   ...   ...  ...   \n",
              "2268    12   2.0    21      2  2570.0  1519.0  12.0     3     2   0.0  ...   \n",
              "2276    21   3.0    19      1  2738.0  1539.0  31.0     3     1   0.0  ...   \n",
              "2283    97   3.0    22      4  1912.0  1577.0  97.0     1     1   0.0  ...   \n",
              "2285    11   1.0    18      4  1998.0  1504.0  11.0     1     1   0.0  ...   \n",
              "2310    97   3.0    20      3  2772.0  1475.0  97.0     3     2   0.0  ...   \n",
              "\n",
              "      v705  b4  s301  s370b   v437  v024  hidx  v025  v130    m5  \n",
              "4      4.0   1     1    0.0  468.0    10   1.0     1     2   2.0  \n",
              "19     4.0   1     1    0.0  523.0     8   1.0     1     1   3.0  \n",
              "27     5.0   2     1    0.0  482.0     5   1.0     2     1   8.0  \n",
              "47     4.0   2     1    0.0  597.0    21   1.0     2     1   2.0  \n",
              "76     7.0   1     1    0.0  346.0    10   1.0     2     1  10.0  \n",
              "...    ...  ..   ...    ...    ...   ...   ...   ...   ...   ...  \n",
              "2268   5.0   2     1    0.0  593.0    12   1.0     1    96  29.0  \n",
              "2276   3.0   2     1    0.0  649.0     9   1.0     2     1   9.0  \n",
              "2283   6.0   1     1    0.0  476.0    29   1.0     2     1   3.0  \n",
              "2285   9.0   2     1    0.0  452.0    27   1.0     1     1   7.0  \n",
              "2310   7.0   1     1    0.0  603.0    10   1.0     2     1   4.0  \n",
              "\n",
              "[144 rows x 21 columns]"
            ],
            "text/html": [
              "\n",
              "  <div id=\"df-918c172b-976e-478d-813d-01db083a9a46\" class=\"colab-df-container\">\n",
              "    <div>\n",
              "<style scoped>\n",
              "    .dataframe tbody tr th:only-of-type {\n",
              "        vertical-align: middle;\n",
              "    }\n",
              "\n",
              "    .dataframe tbody tr th {\n",
              "        vertical-align: top;\n",
              "    }\n",
              "\n",
              "    .dataframe thead th {\n",
              "        text-align: right;\n",
              "    }\n",
              "</style>\n",
              "<table border=\"1\" class=\"dataframe\">\n",
              "  <thead>\n",
              "    <tr style=\"text-align: right;\">\n",
              "      <th></th>\n",
              "      <th>v113</th>\n",
              "      <th>s116</th>\n",
              "      <th>v212</th>\n",
              "      <th>v190a</th>\n",
              "      <th>v445</th>\n",
              "      <th>v438</th>\n",
              "      <th>v116</th>\n",
              "      <th>v218</th>\n",
              "      <th>v151</th>\n",
              "      <th>v717</th>\n",
              "      <th>...</th>\n",
              "      <th>v705</th>\n",
              "      <th>b4</th>\n",
              "      <th>s301</th>\n",
              "      <th>s370b</th>\n",
              "      <th>v437</th>\n",
              "      <th>v024</th>\n",
              "      <th>hidx</th>\n",
              "      <th>v025</th>\n",
              "      <th>v130</th>\n",
              "      <th>m5</th>\n",
              "    </tr>\n",
              "  </thead>\n",
              "  <tbody>\n",
              "    <tr>\n",
              "      <th>4</th>\n",
              "      <td>21</td>\n",
              "      <td>3.0</td>\n",
              "      <td>21</td>\n",
              "      <td>3</td>\n",
              "      <td>2111.0</td>\n",
              "      <td>1489.0</td>\n",
              "      <td>12.0</td>\n",
              "      <td>2</td>\n",
              "      <td>1</td>\n",
              "      <td>0.0</td>\n",
              "      <td>...</td>\n",
              "      <td>4.0</td>\n",
              "      <td>1</td>\n",
              "      <td>1</td>\n",
              "      <td>0.0</td>\n",
              "      <td>468.0</td>\n",
              "      <td>10</td>\n",
              "      <td>1.0</td>\n",
              "      <td>1</td>\n",
              "      <td>2</td>\n",
              "      <td>2.0</td>\n",
              "    </tr>\n",
              "    <tr>\n",
              "      <th>19</th>\n",
              "      <td>12</td>\n",
              "      <td>1.0</td>\n",
              "      <td>30</td>\n",
              "      <td>5</td>\n",
              "      <td>2160.0</td>\n",
              "      <td>1556.0</td>\n",
              "      <td>11.0</td>\n",
              "      <td>1</td>\n",
              "      <td>2</td>\n",
              "      <td>0.0</td>\n",
              "      <td>...</td>\n",
              "      <td>4.0</td>\n",
              "      <td>1</td>\n",
              "      <td>1</td>\n",
              "      <td>0.0</td>\n",
              "      <td>523.0</td>\n",
              "      <td>8</td>\n",
              "      <td>1.0</td>\n",
              "      <td>1</td>\n",
              "      <td>1</td>\n",
              "      <td>3.0</td>\n",
              "    </tr>\n",
              "    <tr>\n",
              "      <th>27</th>\n",
              "      <td>11</td>\n",
              "      <td>3.0</td>\n",
              "      <td>20</td>\n",
              "      <td>4</td>\n",
              "      <td>1999.0</td>\n",
              "      <td>1552.0</td>\n",
              "      <td>12.0</td>\n",
              "      <td>2</td>\n",
              "      <td>1</td>\n",
              "      <td>6.0</td>\n",
              "      <td>...</td>\n",
              "      <td>5.0</td>\n",
              "      <td>2</td>\n",
              "      <td>1</td>\n",
              "      <td>0.0</td>\n",
              "      <td>482.0</td>\n",
              "      <td>5</td>\n",
              "      <td>1.0</td>\n",
              "      <td>2</td>\n",
              "      <td>1</td>\n",
              "      <td>8.0</td>\n",
              "    </tr>\n",
              "    <tr>\n",
              "      <th>47</th>\n",
              "      <td>21</td>\n",
              "      <td>3.0</td>\n",
              "      <td>27</td>\n",
              "      <td>5</td>\n",
              "      <td>2584.0</td>\n",
              "      <td>1520.0</td>\n",
              "      <td>12.0</td>\n",
              "      <td>1</td>\n",
              "      <td>1</td>\n",
              "      <td>4.0</td>\n",
              "      <td>...</td>\n",
              "      <td>4.0</td>\n",
              "      <td>2</td>\n",
              "      <td>1</td>\n",
              "      <td>0.0</td>\n",
              "      <td>597.0</td>\n",
              "      <td>21</td>\n",
              "      <td>1.0</td>\n",
              "      <td>2</td>\n",
              "      <td>1</td>\n",
              "      <td>2.0</td>\n",
              "    </tr>\n",
              "    <tr>\n",
              "      <th>76</th>\n",
              "      <td>21</td>\n",
              "      <td>1.0</td>\n",
              "      <td>20</td>\n",
              "      <td>2</td>\n",
              "      <td>1657.0</td>\n",
              "      <td>1444.0</td>\n",
              "      <td>12.0</td>\n",
              "      <td>2</td>\n",
              "      <td>1</td>\n",
              "      <td>0.0</td>\n",
              "      <td>...</td>\n",
              "      <td>7.0</td>\n",
              "      <td>1</td>\n",
              "      <td>1</td>\n",
              "      <td>0.0</td>\n",
              "      <td>346.0</td>\n",
              "      <td>10</td>\n",
              "      <td>1.0</td>\n",
              "      <td>2</td>\n",
              "      <td>1</td>\n",
              "      <td>10.0</td>\n",
              "    </tr>\n",
              "    <tr>\n",
              "      <th>...</th>\n",
              "      <td>...</td>\n",
              "      <td>...</td>\n",
              "      <td>...</td>\n",
              "      <td>...</td>\n",
              "      <td>...</td>\n",
              "      <td>...</td>\n",
              "      <td>...</td>\n",
              "      <td>...</td>\n",
              "      <td>...</td>\n",
              "      <td>...</td>\n",
              "      <td>...</td>\n",
              "      <td>...</td>\n",
              "      <td>...</td>\n",
              "      <td>...</td>\n",
              "      <td>...</td>\n",
              "      <td>...</td>\n",
              "      <td>...</td>\n",
              "      <td>...</td>\n",
              "      <td>...</td>\n",
              "      <td>...</td>\n",
              "      <td>...</td>\n",
              "    </tr>\n",
              "    <tr>\n",
              "      <th>2268</th>\n",
              "      <td>12</td>\n",
              "      <td>2.0</td>\n",
              "      <td>21</td>\n",
              "      <td>2</td>\n",
              "      <td>2570.0</td>\n",
              "      <td>1519.0</td>\n",
              "      <td>12.0</td>\n",
              "      <td>3</td>\n",
              "      <td>2</td>\n",
              "      <td>0.0</td>\n",
              "      <td>...</td>\n",
              "      <td>5.0</td>\n",
              "      <td>2</td>\n",
              "      <td>1</td>\n",
              "      <td>0.0</td>\n",
              "      <td>593.0</td>\n",
              "      <td>12</td>\n",
              "      <td>1.0</td>\n",
              "      <td>1</td>\n",
              "      <td>96</td>\n",
              "      <td>29.0</td>\n",
              "    </tr>\n",
              "    <tr>\n",
              "      <th>2276</th>\n",
              "      <td>21</td>\n",
              "      <td>3.0</td>\n",
              "      <td>19</td>\n",
              "      <td>1</td>\n",
              "      <td>2738.0</td>\n",
              "      <td>1539.0</td>\n",
              "      <td>31.0</td>\n",
              "      <td>3</td>\n",
              "      <td>1</td>\n",
              "      <td>0.0</td>\n",
              "      <td>...</td>\n",
              "      <td>3.0</td>\n",
              "      <td>2</td>\n",
              "      <td>1</td>\n",
              "      <td>0.0</td>\n",
              "      <td>649.0</td>\n",
              "      <td>9</td>\n",
              "      <td>1.0</td>\n",
              "      <td>2</td>\n",
              "      <td>1</td>\n",
              "      <td>9.0</td>\n",
              "    </tr>\n",
              "    <tr>\n",
              "      <th>2283</th>\n",
              "      <td>97</td>\n",
              "      <td>3.0</td>\n",
              "      <td>22</td>\n",
              "      <td>4</td>\n",
              "      <td>1912.0</td>\n",
              "      <td>1577.0</td>\n",
              "      <td>97.0</td>\n",
              "      <td>1</td>\n",
              "      <td>1</td>\n",
              "      <td>0.0</td>\n",
              "      <td>...</td>\n",
              "      <td>6.0</td>\n",
              "      <td>1</td>\n",
              "      <td>1</td>\n",
              "      <td>0.0</td>\n",
              "      <td>476.0</td>\n",
              "      <td>29</td>\n",
              "      <td>1.0</td>\n",
              "      <td>2</td>\n",
              "      <td>1</td>\n",
              "      <td>3.0</td>\n",
              "    </tr>\n",
              "    <tr>\n",
              "      <th>2285</th>\n",
              "      <td>11</td>\n",
              "      <td>1.0</td>\n",
              "      <td>18</td>\n",
              "      <td>4</td>\n",
              "      <td>1998.0</td>\n",
              "      <td>1504.0</td>\n",
              "      <td>11.0</td>\n",
              "      <td>1</td>\n",
              "      <td>1</td>\n",
              "      <td>0.0</td>\n",
              "      <td>...</td>\n",
              "      <td>9.0</td>\n",
              "      <td>2</td>\n",
              "      <td>1</td>\n",
              "      <td>0.0</td>\n",
              "      <td>452.0</td>\n",
              "      <td>27</td>\n",
              "      <td>1.0</td>\n",
              "      <td>1</td>\n",
              "      <td>1</td>\n",
              "      <td>7.0</td>\n",
              "    </tr>\n",
              "    <tr>\n",
              "      <th>2310</th>\n",
              "      <td>97</td>\n",
              "      <td>3.0</td>\n",
              "      <td>20</td>\n",
              "      <td>3</td>\n",
              "      <td>2772.0</td>\n",
              "      <td>1475.0</td>\n",
              "      <td>97.0</td>\n",
              "      <td>3</td>\n",
              "      <td>2</td>\n",
              "      <td>0.0</td>\n",
              "      <td>...</td>\n",
              "      <td>7.0</td>\n",
              "      <td>1</td>\n",
              "      <td>1</td>\n",
              "      <td>0.0</td>\n",
              "      <td>603.0</td>\n",
              "      <td>10</td>\n",
              "      <td>1.0</td>\n",
              "      <td>2</td>\n",
              "      <td>1</td>\n",
              "      <td>4.0</td>\n",
              "    </tr>\n",
              "  </tbody>\n",
              "</table>\n",
              "<p>144 rows × 21 columns</p>\n",
              "</div>\n",
              "    <div class=\"colab-df-buttons\">\n",
              "\n",
              "  <div class=\"colab-df-container\">\n",
              "    <button class=\"colab-df-convert\" onclick=\"convertToInteractive('df-918c172b-976e-478d-813d-01db083a9a46')\"\n",
              "            title=\"Convert this dataframe to an interactive table.\"\n",
              "            style=\"display:none;\">\n",
              "\n",
              "  <svg xmlns=\"http://www.w3.org/2000/svg\" height=\"24px\" viewBox=\"0 -960 960 960\">\n",
              "    <path d=\"M120-120v-720h720v720H120Zm60-500h600v-160H180v160Zm220 220h160v-160H400v160Zm0 220h160v-160H400v160ZM180-400h160v-160H180v160Zm440 0h160v-160H620v160ZM180-180h160v-160H180v160Zm440 0h160v-160H620v160Z\"/>\n",
              "  </svg>\n",
              "    </button>\n",
              "\n",
              "  <style>\n",
              "    .colab-df-container {\n",
              "      display:flex;\n",
              "      gap: 12px;\n",
              "    }\n",
              "\n",
              "    .colab-df-convert {\n",
              "      background-color: #E8F0FE;\n",
              "      border: none;\n",
              "      border-radius: 50%;\n",
              "      cursor: pointer;\n",
              "      display: none;\n",
              "      fill: #1967D2;\n",
              "      height: 32px;\n",
              "      padding: 0 0 0 0;\n",
              "      width: 32px;\n",
              "    }\n",
              "\n",
              "    .colab-df-convert:hover {\n",
              "      background-color: #E2EBFA;\n",
              "      box-shadow: 0px 1px 2px rgba(60, 64, 67, 0.3), 0px 1px 3px 1px rgba(60, 64, 67, 0.15);\n",
              "      fill: #174EA6;\n",
              "    }\n",
              "\n",
              "    .colab-df-buttons div {\n",
              "      margin-bottom: 4px;\n",
              "    }\n",
              "\n",
              "    [theme=dark] .colab-df-convert {\n",
              "      background-color: #3B4455;\n",
              "      fill: #D2E3FC;\n",
              "    }\n",
              "\n",
              "    [theme=dark] .colab-df-convert:hover {\n",
              "      background-color: #434B5C;\n",
              "      box-shadow: 0px 1px 3px 1px rgba(0, 0, 0, 0.15);\n",
              "      filter: drop-shadow(0px 1px 2px rgba(0, 0, 0, 0.3));\n",
              "      fill: #FFFFFF;\n",
              "    }\n",
              "  </style>\n",
              "\n",
              "    <script>\n",
              "      const buttonEl =\n",
              "        document.querySelector('#df-918c172b-976e-478d-813d-01db083a9a46 button.colab-df-convert');\n",
              "      buttonEl.style.display =\n",
              "        google.colab.kernel.accessAllowed ? 'block' : 'none';\n",
              "\n",
              "      async function convertToInteractive(key) {\n",
              "        const element = document.querySelector('#df-918c172b-976e-478d-813d-01db083a9a46');\n",
              "        const dataTable =\n",
              "          await google.colab.kernel.invokeFunction('convertToInteractive',\n",
              "                                                    [key], {});\n",
              "        if (!dataTable) return;\n",
              "\n",
              "        const docLinkHtml = 'Like what you see? Visit the ' +\n",
              "          '<a target=\"_blank\" href=https://colab.research.google.com/notebooks/data_table.ipynb>data table notebook</a>'\n",
              "          + ' to learn more about interactive tables.';\n",
              "        element.innerHTML = '';\n",
              "        dataTable['output_type'] = 'display_data';\n",
              "        await google.colab.output.renderOutput(dataTable, element);\n",
              "        const docLink = document.createElement('div');\n",
              "        docLink.innerHTML = docLinkHtml;\n",
              "        element.appendChild(docLink);\n",
              "      }\n",
              "    </script>\n",
              "  </div>\n",
              "\n",
              "\n",
              "<div id=\"df-b699236a-2743-45c8-944e-2e363a2ad32c\">\n",
              "  <button class=\"colab-df-quickchart\" onclick=\"quickchart('df-b699236a-2743-45c8-944e-2e363a2ad32c')\"\n",
              "            title=\"Suggest charts\"\n",
              "            style=\"display:none;\">\n",
              "\n",
              "<svg xmlns=\"http://www.w3.org/2000/svg\" height=\"24px\"viewBox=\"0 0 24 24\"\n",
              "     width=\"24px\">\n",
              "    <g>\n",
              "        <path d=\"M19 3H5c-1.1 0-2 .9-2 2v14c0 1.1.9 2 2 2h14c1.1 0 2-.9 2-2V5c0-1.1-.9-2-2-2zM9 17H7v-7h2v7zm4 0h-2V7h2v10zm4 0h-2v-4h2v4z\"/>\n",
              "    </g>\n",
              "</svg>\n",
              "  </button>\n",
              "\n",
              "<style>\n",
              "  .colab-df-quickchart {\n",
              "      --bg-color: #E8F0FE;\n",
              "      --fill-color: #1967D2;\n",
              "      --hover-bg-color: #E2EBFA;\n",
              "      --hover-fill-color: #174EA6;\n",
              "      --disabled-fill-color: #AAA;\n",
              "      --disabled-bg-color: #DDD;\n",
              "  }\n",
              "\n",
              "  [theme=dark] .colab-df-quickchart {\n",
              "      --bg-color: #3B4455;\n",
              "      --fill-color: #D2E3FC;\n",
              "      --hover-bg-color: #434B5C;\n",
              "      --hover-fill-color: #FFFFFF;\n",
              "      --disabled-bg-color: #3B4455;\n",
              "      --disabled-fill-color: #666;\n",
              "  }\n",
              "\n",
              "  .colab-df-quickchart {\n",
              "    background-color: var(--bg-color);\n",
              "    border: none;\n",
              "    border-radius: 50%;\n",
              "    cursor: pointer;\n",
              "    display: none;\n",
              "    fill: var(--fill-color);\n",
              "    height: 32px;\n",
              "    padding: 0;\n",
              "    width: 32px;\n",
              "  }\n",
              "\n",
              "  .colab-df-quickchart:hover {\n",
              "    background-color: var(--hover-bg-color);\n",
              "    box-shadow: 0 1px 2px rgba(60, 64, 67, 0.3), 0 1px 3px 1px rgba(60, 64, 67, 0.15);\n",
              "    fill: var(--button-hover-fill-color);\n",
              "  }\n",
              "\n",
              "  .colab-df-quickchart-complete:disabled,\n",
              "  .colab-df-quickchart-complete:disabled:hover {\n",
              "    background-color: var(--disabled-bg-color);\n",
              "    fill: var(--disabled-fill-color);\n",
              "    box-shadow: none;\n",
              "  }\n",
              "\n",
              "  .colab-df-spinner {\n",
              "    border: 2px solid var(--fill-color);\n",
              "    border-color: transparent;\n",
              "    border-bottom-color: var(--fill-color);\n",
              "    animation:\n",
              "      spin 1s steps(1) infinite;\n",
              "  }\n",
              "\n",
              "  @keyframes spin {\n",
              "    0% {\n",
              "      border-color: transparent;\n",
              "      border-bottom-color: var(--fill-color);\n",
              "      border-left-color: var(--fill-color);\n",
              "    }\n",
              "    20% {\n",
              "      border-color: transparent;\n",
              "      border-left-color: var(--fill-color);\n",
              "      border-top-color: var(--fill-color);\n",
              "    }\n",
              "    30% {\n",
              "      border-color: transparent;\n",
              "      border-left-color: var(--fill-color);\n",
              "      border-top-color: var(--fill-color);\n",
              "      border-right-color: var(--fill-color);\n",
              "    }\n",
              "    40% {\n",
              "      border-color: transparent;\n",
              "      border-right-color: var(--fill-color);\n",
              "      border-top-color: var(--fill-color);\n",
              "    }\n",
              "    60% {\n",
              "      border-color: transparent;\n",
              "      border-right-color: var(--fill-color);\n",
              "    }\n",
              "    80% {\n",
              "      border-color: transparent;\n",
              "      border-right-color: var(--fill-color);\n",
              "      border-bottom-color: var(--fill-color);\n",
              "    }\n",
              "    90% {\n",
              "      border-color: transparent;\n",
              "      border-bottom-color: var(--fill-color);\n",
              "    }\n",
              "  }\n",
              "</style>\n",
              "\n",
              "  <script>\n",
              "    async function quickchart(key) {\n",
              "      const quickchartButtonEl =\n",
              "        document.querySelector('#' + key + ' button');\n",
              "      quickchartButtonEl.disabled = true;  // To prevent multiple clicks.\n",
              "      quickchartButtonEl.classList.add('colab-df-spinner');\n",
              "      try {\n",
              "        const charts = await google.colab.kernel.invokeFunction(\n",
              "            'suggestCharts', [key], {});\n",
              "      } catch (error) {\n",
              "        console.error('Error during call to suggestCharts:', error);\n",
              "      }\n",
              "      quickchartButtonEl.classList.remove('colab-df-spinner');\n",
              "      quickchartButtonEl.classList.add('colab-df-quickchart-complete');\n",
              "    }\n",
              "    (() => {\n",
              "      let quickchartButtonEl =\n",
              "        document.querySelector('#df-b699236a-2743-45c8-944e-2e363a2ad32c button');\n",
              "      quickchartButtonEl.style.display =\n",
              "        google.colab.kernel.accessAllowed ? 'block' : 'none';\n",
              "    })();\n",
              "  </script>\n",
              "</div>\n",
              "\n",
              "  <div id=\"id_56ccb7f6-1081-4216-8a86-75296b42af4b\">\n",
              "    <style>\n",
              "      .colab-df-generate {\n",
              "        background-color: #E8F0FE;\n",
              "        border: none;\n",
              "        border-radius: 50%;\n",
              "        cursor: pointer;\n",
              "        display: none;\n",
              "        fill: #1967D2;\n",
              "        height: 32px;\n",
              "        padding: 0 0 0 0;\n",
              "        width: 32px;\n",
              "      }\n",
              "\n",
              "      .colab-df-generate:hover {\n",
              "        background-color: #E2EBFA;\n",
              "        box-shadow: 0px 1px 2px rgba(60, 64, 67, 0.3), 0px 1px 3px 1px rgba(60, 64, 67, 0.15);\n",
              "        fill: #174EA6;\n",
              "      }\n",
              "\n",
              "      [theme=dark] .colab-df-generate {\n",
              "        background-color: #3B4455;\n",
              "        fill: #D2E3FC;\n",
              "      }\n",
              "\n",
              "      [theme=dark] .colab-df-generate:hover {\n",
              "        background-color: #434B5C;\n",
              "        box-shadow: 0px 1px 3px 1px rgba(0, 0, 0, 0.15);\n",
              "        filter: drop-shadow(0px 1px 2px rgba(0, 0, 0, 0.3));\n",
              "        fill: #FFFFFF;\n",
              "      }\n",
              "    </style>\n",
              "    <button class=\"colab-df-generate\" onclick=\"generateWithVariable('df')\"\n",
              "            title=\"Generate code using this dataframe.\"\n",
              "            style=\"display:none;\">\n",
              "\n",
              "  <svg xmlns=\"http://www.w3.org/2000/svg\" height=\"24px\"viewBox=\"0 0 24 24\"\n",
              "       width=\"24px\">\n",
              "    <path d=\"M7,19H8.4L18.45,9,17,7.55,7,17.6ZM5,21V16.75L18.45,3.32a2,2,0,0,1,2.83,0l1.4,1.43a1.91,1.91,0,0,1,.58,1.4,1.91,1.91,0,0,1-.58,1.4L9.25,21ZM18.45,9,17,7.55Zm-12,3A5.31,5.31,0,0,0,4.9,8.1,5.31,5.31,0,0,0,1,6.5,5.31,5.31,0,0,0,4.9,4.9,5.31,5.31,0,0,0,6.5,1,5.31,5.31,0,0,0,8.1,4.9,5.31,5.31,0,0,0,12,6.5,5.46,5.46,0,0,0,6.5,12Z\"/>\n",
              "  </svg>\n",
              "    </button>\n",
              "    <script>\n",
              "      (() => {\n",
              "      const buttonEl =\n",
              "        document.querySelector('#id_56ccb7f6-1081-4216-8a86-75296b42af4b button.colab-df-generate');\n",
              "      buttonEl.style.display =\n",
              "        google.colab.kernel.accessAllowed ? 'block' : 'none';\n",
              "\n",
              "      buttonEl.onclick = () => {\n",
              "        google.colab.notebook.generateWithVariable('df');\n",
              "      }\n",
              "      })();\n",
              "    </script>\n",
              "  </div>\n",
              "\n",
              "    </div>\n",
              "  </div>\n"
            ],
            "application/vnd.google.colaboratory.intrinsic+json": {
              "type": "dataframe",
              "variable_name": "df"
            }
          },
          "metadata": {},
          "execution_count": 7
        }
      ]
    },
    {
      "cell_type": "markdown",
      "source": [
        "Variables\n",
        "\n",
        "father's education v701"
      ],
      "metadata": {
        "id": "6BNFveAX0ToT"
      }
    },
    {
      "cell_type": "code",
      "source": [
        "print(df['v701'].unique())"
      ],
      "metadata": {
        "colab": {
          "base_uri": "https://localhost:8080/"
        },
        "id": "3Ih9NP5fzgWz",
        "outputId": "421c4696-a284-484f-fa00-3369dbd50eeb"
      },
      "execution_count": null,
      "outputs": [
        {
          "output_type": "stream",
          "name": "stdout",
          "text": [
            "[2. 3. 0. 1.]\n"
          ]
        }
      ]
    },
    {
      "cell_type": "code",
      "source": [
        "\n",
        "print(df['v701'].unique())\n",
        "print(f'shape of original df = {df.shape}')\n",
        "df[\"v701\"]=df[\"v701\"].replace({9:8, 0:'No education', 1:'Primary education', 2:'Secondary education', 3:'Higher education'})\n",
        "indexNames = df[df['v701'] == 8].index\n",
        "df.drop(indexNames , inplace=True)\n",
        "print(df['v701'].unique())\n",
        "print(f'shape of original df = {df.shape}')"
      ],
      "metadata": {
        "colab": {
          "base_uri": "https://localhost:8080/"
        },
        "id": "coH4MBzU0W99",
        "outputId": "9b875628-d0a3-429e-acc6-3c9a356888e9"
      },
      "execution_count": null,
      "outputs": [
        {
          "output_type": "stream",
          "name": "stdout",
          "text": [
            "[2. 3. 0. 1.]\n",
            "shape of original df = (144, 21)\n",
            "['Secondary education' 'Higher education' 'No education'\n",
            " 'Primary education']\n",
            "shape of original df = (144, 21)\n"
          ]
        },
        {
          "output_type": "stream",
          "name": "stderr",
          "text": [
            "<ipython-input-9-b516be1d3f76>:3: SettingWithCopyWarning: \n",
            "A value is trying to be set on a copy of a slice from a DataFrame.\n",
            "Try using .loc[row_indexer,col_indexer] = value instead\n",
            "\n",
            "See the caveats in the documentation: https://pandas.pydata.org/pandas-docs/stable/user_guide/indexing.html#returning-a-view-versus-a-copy\n",
            "  df[\"v701\"]=df[\"v701\"].replace({9:8, 0:'No education', 1:'Primary education', 2:'Secondary education', 3:'Higher education'})\n",
            "<ipython-input-9-b516be1d3f76>:5: SettingWithCopyWarning: \n",
            "A value is trying to be set on a copy of a slice from a DataFrame\n",
            "\n",
            "See the caveats in the documentation: https://pandas.pydata.org/pandas-docs/stable/user_guide/indexing.html#returning-a-view-versus-a-copy\n",
            "  df.drop(indexNames , inplace=True)\n"
          ]
        }
      ]
    },
    {
      "cell_type": "code",
      "source": [
        "df['v701'].value_counts()"
      ],
      "metadata": {
        "colab": {
          "base_uri": "https://localhost:8080/"
        },
        "id": "HyAjIn3t0mdo",
        "outputId": "c0b19a96-bb46-467f-ee20-81cf17b9f1eb"
      },
      "execution_count": null,
      "outputs": [
        {
          "output_type": "execute_result",
          "data": {
            "text/plain": [
              "v701\n",
              "Secondary education    73\n",
              "Higher education       27\n",
              "No education           25\n",
              "Primary education      19\n",
              "Name: count, dtype: int64"
            ]
          },
          "metadata": {},
          "execution_count": 10
        }
      ]
    },
    {
      "cell_type": "code",
      "source": [
        "df = df.rename(columns={\"v701\": \"Father's Education\"})"
      ],
      "metadata": {
        "id": "nVEjgsjDAnG-"
      },
      "execution_count": null,
      "outputs": []
    },
    {
      "cell_type": "markdown",
      "source": [
        "father's occupation v705"
      ],
      "metadata": {
        "id": "dpQr9ZOY07JM"
      }
    },
    {
      "cell_type": "code",
      "source": [
        "print(df['v705'].unique())\n",
        "df['v705']=df['v705'].replace({0:'unemployed',1:'professional',2:'clerical',3:'sales',4:'self employed',5:'Rgri',6:'household',7:'services' ,8:'skilled labour', 99.0:'dont know', 98.0:'dont know'})\n",
        "\n"
      ],
      "metadata": {
        "colab": {
          "base_uri": "https://localhost:8080/"
        },
        "id": "9xEwIGRJ006_",
        "outputId": "c6e90be5-0b42-4f01-9e7d-4a50ca6383c6"
      },
      "execution_count": null,
      "outputs": [
        {
          "output_type": "stream",
          "name": "stdout",
          "text": [
            "[4. 5. 7. 6. 1. 9. 3.]\n"
          ]
        }
      ]
    },
    {
      "cell_type": "code",
      "source": [
        "# First, print unique values to see the context\n",
        "print(df['v705'].unique())\n",
        "\n",
        "# Update the replacement dictionary to include 9\n",
        "replacement_dict = {\n",
        "    0: 'unemployed',\n",
        "    1: 'professional',\n",
        "    2: 'clerical',\n",
        "    3: 'sales',\n",
        "    4: 'self employed',\n",
        "    5: 'Rgri',\n",
        "    6: 'household',\n",
        "    7: 'services',\n",
        "    8: 'skilled labour',\n",
        "    9: 'other',  # Assuming 9 represents 'other'\n",
        "    99.0: 'dont know',\n",
        "    98.0: 'dont know'\n",
        "}\n",
        "\n",
        "# Use .loc to avoid the SettingWithCopyWarning\n",
        "df.loc[:, 'v705'] = df['v705'].replace(replacement_dict)\n",
        "\n",
        "# Drop rows where v705 is 'dont know'\n",
        "df = df[df['v705'] != 'dont know']\n",
        "\n",
        "# Print unique values and shape to verify the changes\n",
        "print(df['v705'].unique())\n",
        "print(f'shape of df after drop = {df.shape}')\n",
        "\n",
        "# Print the value counts to check the distribution\n",
        "print(df['v705'].value_counts())\n"
      ],
      "metadata": {
        "colab": {
          "base_uri": "https://localhost:8080/"
        },
        "id": "lyCnIb0B5gqw",
        "outputId": "3a9c58cb-dab0-4a28-c85a-965528baaba7"
      },
      "execution_count": null,
      "outputs": [
        {
          "output_type": "stream",
          "name": "stdout",
          "text": [
            "['self employed' 'Rgri' 'services' 'household' 'professional' 9.0 'sales']\n",
            "['self employed' 'Rgri' 'services' 'household' 'professional' 'other'\n",
            " 'sales']\n",
            "shape of df after drop = (144, 21)\n",
            "v705\n",
            "services         52\n",
            "household        46\n",
            "self employed    14\n",
            "Rgri             10\n",
            "other            10\n",
            "professional      9\n",
            "sales             3\n",
            "Name: count, dtype: int64\n"
          ]
        }
      ]
    },
    {
      "cell_type": "code",
      "source": [
        "df = df.rename(columns={\"v705\": \"Father's Occupation\"})"
      ],
      "metadata": {
        "id": "BymNh1I1Aeej"
      },
      "execution_count": null,
      "outputs": []
    },
    {
      "cell_type": "markdown",
      "source": [
        "mothers occupation v717"
      ],
      "metadata": {
        "id": "u_fDKEtQ7Ilu"
      }
    },
    {
      "cell_type": "code",
      "source": [
        "# First, print unique values to see the context\n",
        "print(df['v717'].unique())\n",
        "\n",
        "# Update the replacement dictionary to include 9\n",
        "replacement_dict = {\n",
        "    0: 'unemployed',\n",
        "    1: 'professional',\n",
        "    2: 'clerical',\n",
        "    3: 'sales',\n",
        "    4: 'self employed',\n",
        "    5: 'Rgri',\n",
        "    6: 'household',\n",
        "    7: 'services',\n",
        "    8: 'skilled labour',\n",
        "    9: 'other',  # Assuming 9 represents 'other'\n",
        "    99.0: 'dont know',\n",
        "    98.0: 'dont know'\n",
        "}\n",
        "\n",
        "# Use .loc to avoid the SettingWithCopyWarning\n",
        "df.loc[:, 'v717'] = df['v717'].replace(replacement_dict)\n",
        "\n",
        "# Drop rows where v705 is 'dont know'\n",
        "df = df[df['v717'] != 'dont know']\n",
        "\n",
        "# Print unique values and shape to verify the changes\n",
        "print(df['v717'].unique())\n",
        "print(f'shape of df after drop = {df.shape}')\n",
        "\n",
        "# Print the value counts to check the distribution\n",
        "print(df['v717'].value_counts())\n"
      ],
      "metadata": {
        "colab": {
          "base_uri": "https://localhost:8080/"
        },
        "id": "Vi-J5bSU7xsY",
        "outputId": "32e88cfa-1a58-47cf-c709-434e31ca2aac"
      },
      "execution_count": null,
      "outputs": [
        {
          "output_type": "stream",
          "name": "stdout",
          "text": [
            "[0. 6. 4. 1. 9. 7. 5.]\n",
            "['unemployed' 'household' 'self employed' 'professional' 'other'\n",
            " 'services' 'Rgri']\n",
            "shape of df after drop = (144, 21)\n",
            "v717\n",
            "unemployed       111\n",
            "household         18\n",
            "Rgri               4\n",
            "self employed      3\n",
            "professional       3\n",
            "services           3\n",
            "other              2\n",
            "Name: count, dtype: int64\n"
          ]
        }
      ]
    },
    {
      "cell_type": "code",
      "source": [
        "df = df.rename(columns={\"v717\": \"Mother's Occupation\"})"
      ],
      "metadata": {
        "id": "q_mMJt3JAUxM"
      },
      "execution_count": null,
      "outputs": []
    },
    {
      "cell_type": "markdown",
      "source": [
        "area v025"
      ],
      "metadata": {
        "id": "U6s_6SsU9b40"
      }
    },
    {
      "cell_type": "code",
      "source": [
        "\n",
        "print(df['v025'].unique())\n",
        "df['v025'] = df['v025'].replace({1:'Urban', 2:'Rural'})\n",
        "print(df['v025'].unique())\n",
        "print(df['v025'].value_counts())\n"
      ],
      "metadata": {
        "colab": {
          "base_uri": "https://localhost:8080/"
        },
        "id": "b8_19Bek80X6",
        "outputId": "4e092f2b-ed14-472d-db60-3c80275a9770"
      },
      "execution_count": null,
      "outputs": [
        {
          "output_type": "stream",
          "name": "stdout",
          "text": [
            "[1 2]\n",
            "['Urban' 'Rural']\n",
            "v025\n",
            "Rural    118\n",
            "Urban     26\n",
            "Name: count, dtype: int64\n"
          ]
        }
      ]
    },
    {
      "cell_type": "code",
      "source": [
        "df = df.rename(columns={\"v025\": \"Area\"})"
      ],
      "metadata": {
        "id": "6Cn6YinrAPEf"
      },
      "execution_count": null,
      "outputs": []
    },
    {
      "cell_type": "markdown",
      "source": [
        "\n",
        "religion v130"
      ],
      "metadata": {
        "id": "_PYAgqKJ-Y-u"
      }
    },
    {
      "cell_type": "code",
      "source": [
        "print(df['v130'].unique())\n",
        "df['v130']=df['v130'].replace({1:'Hindu',2:'Muslim',3:'Christian',4:'Sikh',5:'Others',6:'Others',10:'Others' ,9:'Others', 99:'Others', 96:'Others'})\n"
      ],
      "metadata": {
        "colab": {
          "base_uri": "https://localhost:8080/"
        },
        "id": "yvl1OuCy-WCu",
        "outputId": "34f26bd0-8a29-4a83-ebdf-696c8d235949"
      },
      "execution_count": null,
      "outputs": [
        {
          "output_type": "stream",
          "name": "stdout",
          "text": [
            "[ 2  1  4  3  6 96]\n"
          ]
        }
      ]
    },
    {
      "cell_type": "code",
      "source": [
        "print(df['v130'].unique())\n",
        "print(f'v130 = {df.shape}')\n"
      ],
      "metadata": {
        "colab": {
          "base_uri": "https://localhost:8080/"
        },
        "id": "WHD9qrrB-oY5",
        "outputId": "f9508488-4c97-4178-f969-8fcfb625b225"
      },
      "execution_count": null,
      "outputs": [
        {
          "output_type": "stream",
          "name": "stdout",
          "text": [
            "['Muslim' 'Hindu' 'Sikh' 'Christian' 'Others']\n",
            "v130 = (144, 21)\n"
          ]
        }
      ]
    },
    {
      "cell_type": "code",
      "source": [
        "df['v130'].value_counts()"
      ],
      "metadata": {
        "colab": {
          "base_uri": "https://localhost:8080/"
        },
        "id": "Uu1xJkw3-sfe",
        "outputId": "df490039-cb69-4ebf-d9d3-9d491fd0a167"
      },
      "execution_count": null,
      "outputs": [
        {
          "output_type": "execute_result",
          "data": {
            "text/plain": [
              "v130\n",
              "Hindu        109\n",
              "Muslim        21\n",
              "Christian      8\n",
              "Others         4\n",
              "Sikh           2\n",
              "Name: count, dtype: int64"
            ]
          },
          "metadata": {},
          "execution_count": 21
        }
      ]
    },
    {
      "cell_type": "code",
      "source": [
        "\n",
        "df = df.rename(columns={\"v130\": \"Religion\"})"
      ],
      "metadata": {
        "id": "8vjAK5pdAK5h"
      },
      "execution_count": null,
      "outputs": []
    },
    {
      "cell_type": "markdown",
      "source": [
        "caste s116"
      ],
      "metadata": {
        "id": "4_5ZaVPB-5gB"
      }
    },
    {
      "cell_type": "code",
      "source": [
        "\n",
        "\n",
        "df['s116'].unique()"
      ],
      "metadata": {
        "colab": {
          "base_uri": "https://localhost:8080/"
        },
        "id": "51B1s45B-vYV",
        "outputId": "490abb0e-982d-4c22-9aa1-8c6afd005d94"
      },
      "execution_count": null,
      "outputs": [
        {
          "output_type": "execute_result",
          "data": {
            "text/plain": [
              "array([3., 1., 4., 2.])"
            ]
          },
          "metadata": {},
          "execution_count": 23
        }
      ]
    },
    {
      "cell_type": "code",
      "source": [
        "print(df['s116'].unique())\n",
        "print(f'shape of original df = {df.shape}')\n",
        "df[\"s116\"]=df[\"s116\"].replace({8.0:9})\n",
        "indexNames = df[df['s116'] == 9].index\n",
        "df.drop(indexNames , inplace=True)\n",
        "print(df['s116'].unique())\n",
        "print(f'shape of new df = {df.shape}')"
      ],
      "metadata": {
        "colab": {
          "base_uri": "https://localhost:8080/"
        },
        "id": "KRz1CSyG--aV",
        "outputId": "265c43e9-436c-4e42-cce9-c53513ec3c86"
      },
      "execution_count": null,
      "outputs": [
        {
          "output_type": "stream",
          "name": "stdout",
          "text": [
            "[3. 1. 4. 2.]\n",
            "shape of original df = (144, 21)\n",
            "[3. 1. 4. 2.]\n",
            "shape of new df = (144, 21)\n"
          ]
        }
      ]
    },
    {
      "cell_type": "code",
      "source": [
        "\n",
        "\n",
        "df['s116']=df['s116'].replace({1:'SC',2:'ST',3:'OBC',4:'Others'})"
      ],
      "metadata": {
        "id": "kvr13m5B_FW-"
      },
      "execution_count": null,
      "outputs": []
    },
    {
      "cell_type": "code",
      "source": [
        "\n",
        "df['s116'].value_counts()"
      ],
      "metadata": {
        "colab": {
          "base_uri": "https://localhost:8080/"
        },
        "id": "sYuoOtYO_JNc",
        "outputId": "4961ce01-5016-4957-b1d4-5ea23cf0cb2e"
      },
      "execution_count": null,
      "outputs": [
        {
          "output_type": "execute_result",
          "data": {
            "text/plain": [
              "s116\n",
              "OBC       56\n",
              "SC        34\n",
              "Others    28\n",
              "ST        26\n",
              "Name: count, dtype: int64"
            ]
          },
          "metadata": {},
          "execution_count": 26
        }
      ]
    },
    {
      "cell_type": "code",
      "source": [
        "df = df.rename(columns={\"s116\": \"Caste\"})"
      ],
      "metadata": {
        "id": "zfdgyyR8AFVd"
      },
      "execution_count": null,
      "outputs": []
    },
    {
      "cell_type": "markdown",
      "source": [
        "source of drinking water v113"
      ],
      "metadata": {
        "id": "Tr-Tuqol_S7H"
      }
    },
    {
      "cell_type": "code",
      "source": [
        "df['v113'].unique()"
      ],
      "metadata": {
        "colab": {
          "base_uri": "https://localhost:8080/"
        },
        "id": "gyho6VMD_LbX",
        "outputId": "424a9267-f7f1-4202-e135-b0990d55bf43"
      },
      "execution_count": null,
      "outputs": [
        {
          "output_type": "execute_result",
          "data": {
            "text/plain": [
              "array([21, 12, 11, 14, 71, 31, 32, 92, 61, 97, 13, 51, 43])"
            ]
          },
          "metadata": {},
          "execution_count": 28
        }
      ]
    },
    {
      "cell_type": "code",
      "source": [
        "\n",
        "\n",
        "df = df.rename(columns={\"v113\": \"Source of drinking water\"})"
      ],
      "metadata": {
        "id": "BEVuBTXf_bjT"
      },
      "execution_count": null,
      "outputs": []
    },
    {
      "cell_type": "code",
      "source": [
        "# Remove missing values (code 99)\n",
        "df = df[df[\"Source of drinking water\"] != 99]\n",
        "\n",
        "# Group categories and label them\n",
        "replacement_dict = {\n",
        "    10: 1, 11: 1, 12: 1, 13: 1, 14: 1, 20: 1, 21: 1, 30: 1, 31: 1, 41: 1,\n",
        "    51: 1, 71: 1, 61: 1, 62: 1, 32: 2, 40: 2, 42: 2, 43: 2, 96: 2, 97: 2,\n",
        "    92: 'Improved'  # Include code 92 in the replacement dictionary\n",
        "}\n",
        "\n",
        "\n",
        "# Replace the values in the column\n",
        "df[\"Source of drinking water\"] = df[\"Source of drinking water\"].replace(replacement_dict)\n",
        "\n",
        "# Label the categories\n",
        "df[\"Source of drinking water\"] = df[\"Source of drinking water\"].replace({1: 'Improved', 2: 'Unimproved'})\n"
      ],
      "metadata": {
        "id": "nydatbg2N0wl"
      },
      "execution_count": null,
      "outputs": []
    },
    {
      "cell_type": "code",
      "source": [
        "# Print shape before dropping missing values\n",
        "print(\"Shape before dropping missing values:\", df.shape)\n",
        "\n",
        "# Remove missing values (code 99)\n",
        "df = df[df[\"Source of drinking water\"] != 99]\n",
        "\n",
        "# Print shape after dropping missing values\n",
        "print(\"Shape after dropping missing values:\", df.shape)\n",
        "\n",
        "# Group categories and label them\n",
        "replacement_dict = {\n",
        "    10: 1, 11: 1, 12: 1, 13: 1, 14: 1, 20: 1, 21: 1, 30: 1, 31: 1, 41: 1,\n",
        "    51: 1, 71: 1, 61: 1, 62: 1, 32: 2, 40: 2, 42: 2, 43: 2, 96: 2, 97: 2\n",
        "}\n",
        "\n",
        "# Replace the values in the column\n",
        "df[\"Source of drinking water\"] = df[\"Source of drinking water\"].replace(replacement_dict)\n",
        "\n",
        "# Label the categories\n",
        "df[\"Source of drinking water\"] = df[\"Source of drinking water\"].replace({1: 'Improved', 2: 'Unimproved'})\n",
        "\n",
        "# Print unique values after processing\n",
        "print(\"Unique values after processing:\")\n",
        "print(df['Source of drinking water'].unique())\n",
        "\n",
        "# Print value counts after processing\n",
        "print(\"Value counts after processing:\")\n",
        "print(df['Source of drinking water'].value_counts())\n"
      ],
      "metadata": {
        "colab": {
          "base_uri": "https://localhost:8080/"
        },
        "id": "b41EyMZXOY4S",
        "outputId": "7fb1b50c-3776-465c-ba36-cc8728f17e61"
      },
      "execution_count": null,
      "outputs": [
        {
          "output_type": "stream",
          "name": "stdout",
          "text": [
            "Shape before dropping missing values: (144, 21)\n",
            "Shape after dropping missing values: (144, 21)\n",
            "Unique values after processing:\n",
            "['Improved' 'Unimproved']\n",
            "Value counts after processing:\n",
            "Source of drinking water\n",
            "Improved      129\n",
            "Unimproved     15\n",
            "Name: count, dtype: int64\n"
          ]
        }
      ]
    },
    {
      "cell_type": "markdown",
      "source": [
        "toilet facility v116"
      ],
      "metadata": {
        "id": "xFayKS2iA9vJ"
      }
    },
    {
      "cell_type": "code",
      "source": [
        "df['v116'].unique()"
      ],
      "metadata": {
        "colab": {
          "base_uri": "https://localhost:8080/"
        },
        "id": "hS48X1jfA70f",
        "outputId": "93499ac2-36b3-4b7d-bf4f-f82f59f94218"
      },
      "execution_count": null,
      "outputs": [
        {
          "output_type": "execute_result",
          "data": {
            "text/plain": [
              "array([12., 11., 31., 22., 13., 23., 41., 15., 97., 14.])"
            ]
          },
          "metadata": {},
          "execution_count": 32
        }
      ]
    },
    {
      "cell_type": "code",
      "source": [
        "df = df.rename(columns={\"v116\": \"Toilet Facility\"})"
      ],
      "metadata": {
        "id": "zRQB3MLBBHYQ"
      },
      "execution_count": null,
      "outputs": []
    },
    {
      "cell_type": "code",
      "source": [
        "# Print shape before dropping missing values\n",
        "print(\"Shape before dropping missing values:\", df.shape)\n",
        "\n",
        "# Remove missing values (code 99)\n",
        "df = df[df[\"Toilet Facility\"] != 99]\n",
        "\n",
        "# Remove rows with missing values\n",
        "df = df.dropna(subset=[\"Toilet Facility\"])\n",
        "\n",
        "# Print shape after dropping missing values\n",
        "print(\"Shape after dropping missing values:\", df.shape)\n",
        "\n",
        "# Group categories and label them\n",
        "replacement_dict = {\n",
        "    10: 1, 11: 1, 12: 1, 13: 1, 14: 1, 15: 1, 20: 2, 21: 2, 22: 2, 23: 2,\n",
        "    30: 3, 31: 3, 41: 4, 42: 4, 43: 4, 44: 4, 96: 5, 97: 5\n",
        "}\n",
        "\n",
        "# Replace the values in the column\n",
        "df[\"Toilet Facility\"] = df[\"Toilet Facility\"].replace(replacement_dict)\n",
        "\n",
        "# Label the categories\n",
        "df[\"Toilet Facility\"] = df[\"Toilet Facility\"].replace({\n",
        "    1: 'Improved', 2: 'Unimproved', 3: 'No facility',\n",
        "    4: 'Other', 5: 'Unknown'\n",
        "})\n",
        "\n",
        "# Print unique values after processing\n",
        "print(\"Unique values after processing:\")\n",
        "print(df['Toilet Facility'].unique())\n",
        "\n",
        "# Print value counts after processing\n",
        "print(\"Value counts after processing:\")\n",
        "print(df['Toilet Facility'].value_counts())\n"
      ],
      "metadata": {
        "colab": {
          "base_uri": "https://localhost:8080/"
        },
        "id": "4Qyzc6N6PbG-",
        "outputId": "2a76ede3-e947-4db7-c0e1-7f913529aec2"
      },
      "execution_count": null,
      "outputs": [
        {
          "output_type": "stream",
          "name": "stdout",
          "text": [
            "Shape before dropping missing values: (144, 21)\n",
            "Shape after dropping missing values: (144, 21)\n",
            "Unique values after processing:\n",
            "['Improved' 'No facility' 'Unimproved' 'Other' 'Unknown']\n",
            "Value counts after processing:\n",
            "Toilet Facility\n",
            "Improved       77\n",
            "No facility    34\n",
            "Unimproved     15\n",
            "Other          10\n",
            "Unknown         8\n",
            "Name: count, dtype: int64\n"
          ]
        }
      ]
    },
    {
      "cell_type": "code",
      "source": [
        "df['Toilet Facility'].unique()\n",
        "\n"
      ],
      "metadata": {
        "colab": {
          "base_uri": "https://localhost:8080/"
        },
        "id": "_1ZIP9kqBN9G",
        "outputId": "e5fe537f-358d-45b9-af34-9a70aa865efa"
      },
      "execution_count": null,
      "outputs": [
        {
          "output_type": "execute_result",
          "data": {
            "text/plain": [
              "array(['Improved', 'No facility', 'Unimproved', 'Other', 'Unknown'],\n",
              "      dtype=object)"
            ]
          },
          "metadata": {},
          "execution_count": 35
        }
      ]
    },
    {
      "cell_type": "code",
      "source": [
        "df['Toilet Facility'].value_counts()\n"
      ],
      "metadata": {
        "colab": {
          "base_uri": "https://localhost:8080/"
        },
        "id": "aFGfMBwSBP4X",
        "outputId": "830bfa78-a074-4298-bd56-f0408f019c6d"
      },
      "execution_count": null,
      "outputs": [
        {
          "output_type": "execute_result",
          "data": {
            "text/plain": [
              "Toilet Facility\n",
              "Improved       77\n",
              "No facility    34\n",
              "Unimproved     15\n",
              "Other          10\n",
              "Unknown         8\n",
              "Name: count, dtype: int64"
            ]
          },
          "metadata": {},
          "execution_count": 36
        }
      ]
    },
    {
      "cell_type": "code",
      "source": [
        "# Check for NaN values in the \"Toilet Facility\" column\n",
        "print(df[\"Toilet Facility\"].isna().sum())\n"
      ],
      "metadata": {
        "colab": {
          "base_uri": "https://localhost:8080/"
        },
        "id": "pLAo76tHQNK4",
        "outputId": "8f8857ed-e3b9-4bcc-c916-89983d1cf18c"
      },
      "execution_count": null,
      "outputs": [
        {
          "output_type": "stream",
          "name": "stdout",
          "text": [
            "0\n"
          ]
        }
      ]
    },
    {
      "cell_type": "markdown",
      "source": [
        "mothers age at first birth v212"
      ],
      "metadata": {
        "id": "kXGe4v38BUb7"
      }
    },
    {
      "cell_type": "code",
      "source": [
        "\n",
        "df['v212'].unique()"
      ],
      "metadata": {
        "colab": {
          "base_uri": "https://localhost:8080/"
        },
        "id": "vcGVVmw6BRU-",
        "outputId": "f2ad764c-b701-44d3-bbb1-595d6945172e"
      },
      "execution_count": null,
      "outputs": [
        {
          "output_type": "execute_result",
          "data": {
            "text/plain": [
              "array([21, 30, 20, 27, 32, 19, 23, 25, 24, 17, 18, 22, 15, 26, 29, 28, 16,\n",
              "       31])"
            ]
          },
          "metadata": {},
          "execution_count": 38
        }
      ]
    },
    {
      "cell_type": "code",
      "source": [
        "df['v212'] = pd.cut(df['v212'], bins=[0, 19, 29, 39, 50], include_lowest=True, labels=['<20', '20-29', '30-39', '40 or above'])\n"
      ],
      "metadata": {
        "id": "9s46NpaeBmgy"
      },
      "execution_count": null,
      "outputs": []
    },
    {
      "cell_type": "code",
      "source": [
        "df['v212'].value_counts()"
      ],
      "metadata": {
        "colab": {
          "base_uri": "https://localhost:8080/"
        },
        "id": "beMEP10GBr4a",
        "outputId": "4675c61f-602c-4fd5-b00f-3f7b46b1c6cf"
      },
      "execution_count": null,
      "outputs": [
        {
          "output_type": "execute_result",
          "data": {
            "text/plain": [
              "v212\n",
              "20-29          100\n",
              "<20             40\n",
              "30-39            4\n",
              "40 or above      0\n",
              "Name: count, dtype: int64"
            ]
          },
          "metadata": {},
          "execution_count": 40
        }
      ]
    },
    {
      "cell_type": "code",
      "source": [
        "df = df.rename(columns={\"v212\": \"Mother's age at first birth\"})"
      ],
      "metadata": {
        "id": "CrNVEXxbBvXb"
      },
      "execution_count": null,
      "outputs": []
    },
    {
      "cell_type": "markdown",
      "source": [
        "Sex of child"
      ],
      "metadata": {
        "id": "Fx5bvPA2xaEA"
      }
    },
    {
      "cell_type": "code",
      "source": [
        "df['b4'].unique()\n"
      ],
      "metadata": {
        "id": "yn98booWB3ZB",
        "colab": {
          "base_uri": "https://localhost:8080/"
        },
        "outputId": "5805e7a0-f9b1-480b-936a-ee67b713b371"
      },
      "execution_count": null,
      "outputs": [
        {
          "output_type": "execute_result",
          "data": {
            "text/plain": [
              "array([1, 2])"
            ]
          },
          "metadata": {},
          "execution_count": 42
        }
      ]
    },
    {
      "cell_type": "code",
      "source": [
        "df = df.rename(columns={\"b4\": \"sex of child\"})"
      ],
      "metadata": {
        "id": "iMMJjjWxxkxF"
      },
      "execution_count": null,
      "outputs": []
    },
    {
      "cell_type": "code",
      "source": [
        "df['sex of child']=df['sex of child'].replace({1:'Male',2:'Female'})\n"
      ],
      "metadata": {
        "id": "93SfEITsxzUJ"
      },
      "execution_count": null,
      "outputs": []
    },
    {
      "cell_type": "code",
      "source": [
        "df['sex of child'].value_counts()"
      ],
      "metadata": {
        "colab": {
          "base_uri": "https://localhost:8080/"
        },
        "id": "1cXAvYYUx4A1",
        "outputId": "98fe75c5-0197-45e0-e726-8ca289fc8286"
      },
      "execution_count": null,
      "outputs": [
        {
          "output_type": "execute_result",
          "data": {
            "text/plain": [
              "sex of child\n",
              "Female    74\n",
              "Male      70\n",
              "Name: count, dtype: int64"
            ]
          },
          "metadata": {},
          "execution_count": 45
        }
      ]
    },
    {
      "cell_type": "markdown",
      "source": [
        "\n",
        "wealth index"
      ],
      "metadata": {
        "id": "NpntsvT5x-A8"
      }
    },
    {
      "cell_type": "code",
      "source": [
        "df['v190a'].value_counts()"
      ],
      "metadata": {
        "colab": {
          "base_uri": "https://localhost:8080/"
        },
        "id": "y_kWROmHx5vA",
        "outputId": "4d2126fc-207f-43d9-a7b9-f6e4dc76d2af"
      },
      "execution_count": null,
      "outputs": [
        {
          "output_type": "execute_result",
          "data": {
            "text/plain": [
              "v190a\n",
              "1    40\n",
              "2    30\n",
              "3    25\n",
              "4    25\n",
              "5    24\n",
              "Name: count, dtype: int64"
            ]
          },
          "metadata": {},
          "execution_count": 46
        }
      ]
    },
    {
      "cell_type": "code",
      "source": [
        "df = df.rename(columns={\"v190a\": \"wealth index\"})"
      ],
      "metadata": {
        "id": "9UKgkpnRyG1I"
      },
      "execution_count": null,
      "outputs": []
    },
    {
      "cell_type": "code",
      "source": [
        "df['wealth index'] = df['wealth index'].replace({1:'Poorest', 2:'Poorer', 3:'Middle', 4:'Richer', 5:'Richest'})\n"
      ],
      "metadata": {
        "id": "89LuE3_jyNJN"
      },
      "execution_count": null,
      "outputs": []
    },
    {
      "cell_type": "markdown",
      "source": [
        "\n",
        "Months of bf"
      ],
      "metadata": {
        "id": "qP3mI4reyQiv"
      }
    },
    {
      "cell_type": "code",
      "source": [
        "\n",
        "\n",
        "df = df.rename(columns={'m5': \"months of bf\"})"
      ],
      "metadata": {
        "id": "gxgNoZA1yPSj"
      },
      "execution_count": null,
      "outputs": []
    },
    {
      "cell_type": "code",
      "source": [
        "df['months of bf']=pd.cut(df['months of bf'] ,bins=[0,24, 100], right=False , labels=['<24','>24'] , include_lowest=True)\n",
        "\n"
      ],
      "metadata": {
        "id": "rowuWffoyWCN"
      },
      "execution_count": null,
      "outputs": []
    },
    {
      "cell_type": "code",
      "source": [
        "df['months of bf'].unique()"
      ],
      "metadata": {
        "colab": {
          "base_uri": "https://localhost:8080/"
        },
        "id": "oxi0roVMyXwn",
        "outputId": "2922e999-bde8-421c-8f72-7c82c20a7fda"
      },
      "execution_count": null,
      "outputs": [
        {
          "output_type": "execute_result",
          "data": {
            "text/plain": [
              "['<24', '>24']\n",
              "Categories (2, object): ['<24' < '>24']"
            ]
          },
          "metadata": {},
          "execution_count": 51
        }
      ]
    },
    {
      "cell_type": "code",
      "source": [
        "df['months of bf'].value_counts()"
      ],
      "metadata": {
        "colab": {
          "base_uri": "https://localhost:8080/"
        },
        "id": "sqTTe8AryZYj",
        "outputId": "898e16cb-8dcb-43e1-a8d2-00988580659c"
      },
      "execution_count": null,
      "outputs": [
        {
          "output_type": "execute_result",
          "data": {
            "text/plain": [
              "months of bf\n",
              "<24    107\n",
              ">24     37\n",
              "Name: count, dtype: int64"
            ]
          },
          "metadata": {},
          "execution_count": 52
        }
      ]
    },
    {
      "cell_type": "markdown",
      "source": [
        "\n",
        "Immunization"
      ],
      "metadata": {
        "id": "r0O7an3Fygu4"
      }
    },
    {
      "cell_type": "code",
      "source": [
        "df = df.rename(columns={\"s370b\": \"immunization\"})"
      ],
      "metadata": {
        "id": "SiiQgDj1ykrQ"
      },
      "execution_count": null,
      "outputs": []
    },
    {
      "cell_type": "code",
      "source": [
        "df['immunization'] = df['immunization'].replace({0: 'Not immunized', 1: 'Immunized'})\n"
      ],
      "metadata": {
        "id": "wWwojnnlybI1"
      },
      "execution_count": null,
      "outputs": []
    },
    {
      "cell_type": "code",
      "source": [
        "df['immunization'].value_counts()"
      ],
      "metadata": {
        "colab": {
          "base_uri": "https://localhost:8080/"
        },
        "id": "uyXdi7OhywC6",
        "outputId": "82178f56-3970-46d4-cb86-6da2916da2bb"
      },
      "execution_count": null,
      "outputs": [
        {
          "output_type": "execute_result",
          "data": {
            "text/plain": [
              "immunization\n",
              "Not immunized    137\n",
              "Immunized          7\n",
              "Name: count, dtype: int64"
            ]
          },
          "metadata": {},
          "execution_count": 55
        }
      ]
    },
    {
      "cell_type": "markdown",
      "source": [
        "Index to birth history"
      ],
      "metadata": {
        "id": "l-BnaORZyzEF"
      }
    },
    {
      "cell_type": "code",
      "source": [
        "df = df.rename(columns={\"hidx\": \"index to birth history\"})"
      ],
      "metadata": {
        "id": "QEbkCRKWyxfZ"
      },
      "execution_count": null,
      "outputs": []
    },
    {
      "cell_type": "code",
      "source": [
        "df['index to birth history'].value_counts()\n"
      ],
      "metadata": {
        "colab": {
          "base_uri": "https://localhost:8080/"
        },
        "id": "CP-6-gBwy9Gt",
        "outputId": "161d1963-c7d2-4063-a81c-2d36b58b9c6f"
      },
      "execution_count": null,
      "outputs": [
        {
          "output_type": "execute_result",
          "data": {
            "text/plain": [
              "index to birth history\n",
              "1.0    139\n",
              "2.0      5\n",
              "Name: count, dtype: int64"
            ]
          },
          "metadata": {},
          "execution_count": 57
        }
      ]
    },
    {
      "cell_type": "markdown",
      "source": [
        "Sex of household head"
      ],
      "metadata": {
        "id": "7pbWmgl1y_c3"
      }
    },
    {
      "cell_type": "code",
      "source": [
        "df = df.rename(columns={\"v151\": \"sex of household head\"})"
      ],
      "metadata": {
        "id": "VPvenSFtzEsf"
      },
      "execution_count": null,
      "outputs": []
    },
    {
      "cell_type": "code",
      "source": [
        "df['sex of household head'].value_counts()"
      ],
      "metadata": {
        "colab": {
          "base_uri": "https://localhost:8080/"
        },
        "id": "sklYHNKGy9rL",
        "outputId": "f021bead-c3af-4b04-ea3c-29da34f76a04"
      },
      "execution_count": null,
      "outputs": [
        {
          "output_type": "execute_result",
          "data": {
            "text/plain": [
              "sex of household head\n",
              "1    121\n",
              "2     23\n",
              "Name: count, dtype: int64"
            ]
          },
          "metadata": {},
          "execution_count": 59
        }
      ]
    },
    {
      "cell_type": "code",
      "source": [
        "df['sex of household head']=df['sex of household head'].replace({1:'Male', 2:'Female'})\n"
      ],
      "metadata": {
        "id": "n0fMgPmlzKZe"
      },
      "execution_count": null,
      "outputs": []
    },
    {
      "cell_type": "markdown",
      "source": [
        "no of living children"
      ],
      "metadata": {
        "id": "bK5Uo6OW2jNi"
      }
    },
    {
      "cell_type": "code",
      "source": [
        "df = df.rename(columns={\"v218\": \"number of living children\"})\n"
      ],
      "metadata": {
        "id": "cs2Gi-ohzW_6"
      },
      "execution_count": null,
      "outputs": []
    },
    {
      "cell_type": "code",
      "source": [
        "df['number of living children'].value_counts()"
      ],
      "metadata": {
        "colab": {
          "base_uri": "https://localhost:8080/"
        },
        "id": "Vai-v6Zu2eLX",
        "outputId": "2e13bee1-d9d9-40d6-9ef4-cc60145d07cb"
      },
      "execution_count": null,
      "outputs": [
        {
          "output_type": "execute_result",
          "data": {
            "text/plain": [
              "number of living children\n",
              "1    56\n",
              "2    46\n",
              "3    26\n",
              "4     5\n",
              "5     4\n",
              "6     3\n",
              "0     2\n",
              "7     1\n",
              "8     1\n",
              "Name: count, dtype: int64"
            ]
          },
          "metadata": {},
          "execution_count": 62
        }
      ]
    },
    {
      "cell_type": "markdown",
      "source": [
        "currently in union"
      ],
      "metadata": {
        "id": "iA3CCPV922-i"
      }
    },
    {
      "cell_type": "code",
      "source": [
        "df = df.rename(columns={\"s301\": \"currently in union\"})\n"
      ],
      "metadata": {
        "id": "34HAxNcs2ilj"
      },
      "execution_count": null,
      "outputs": []
    },
    {
      "cell_type": "code",
      "source": [
        "df['currently in union'] = df['currently in union'].replace({0:'Never married', 1:'Currently married',2:'Married, gauna not performed',3:'Widowed',4:'Divorced',5:'Separated',6:'Deserted'})\n",
        "\n"
      ],
      "metadata": {
        "id": "za2z-rws2_4U"
      },
      "execution_count": null,
      "outputs": []
    },
    {
      "cell_type": "code",
      "source": [
        "df['currently in union'].value_counts()"
      ],
      "metadata": {
        "colab": {
          "base_uri": "https://localhost:8080/"
        },
        "id": "ojvTlHvI3sSe",
        "outputId": "84fd7188-9671-4e1b-d3c6-5f3c65347f52"
      },
      "execution_count": null,
      "outputs": [
        {
          "output_type": "execute_result",
          "data": {
            "text/plain": [
              "currently in union\n",
              "Currently married    143\n",
              "Divorced               1\n",
              "Name: count, dtype: int64"
            ]
          },
          "metadata": {},
          "execution_count": 65
        }
      ]
    },
    {
      "cell_type": "markdown",
      "source": [
        "state"
      ],
      "metadata": {
        "id": "FWDNTZac75OS"
      }
    },
    {
      "cell_type": "code",
      "source": [
        "df = df.rename(columns={\"v024\": \"state\"})\n"
      ],
      "metadata": {
        "id": "DLUuWb8_778z"
      },
      "execution_count": null,
      "outputs": []
    },
    {
      "cell_type": "code",
      "source": [
        "# Create a mapping of state codes to state names\n",
        "state_code_to_name = {\n",
        "    1: \"Jammu & Kashmir\",\n",
        "    2: \"Himachal Pradesh\",\n",
        "    3: \"Punjab\",\n",
        "    4: \"Chandigarh\",\n",
        "    5: \"Uttarakhand\",\n",
        "    6: \"Haryana\",\n",
        "    7: \"Nct Of Delhi\",\n",
        "    8: \"Rajasthan\",\n",
        "    9: \"Uttar Pradesh\",\n",
        "    10: \"Bihar\",\n",
        "    11: \"Sikkim\",\n",
        "    12: \"Arunachal Pradesh\",\n",
        "    13: \"Nagaland\",\n",
        "    14: \"Manipur\",\n",
        "    15: \"Mizoram\",\n",
        "    16: \"Tripura\",\n",
        "    17: \"Meghalaya\",\n",
        "    18: \"Assam\",\n",
        "    19: \"West Bengal\",\n",
        "    20: \"Jharkhand\",\n",
        "    21: \"Odisha\",\n",
        "    22: \"Chhattisgarh\",\n",
        "    23: \"Madhya Pradesh\",\n",
        "    24: \"Gujarat\",\n",
        "    25: \"Dadra & Nagar Haveli And Daman & Diu\",\n",
        "    27: \"Maharashtra\",\n",
        "    28: \"Andhra Pradesh\",\n",
        "    29: \"Karnataka\",\n",
        "    30: \"Goa\",\n",
        "    31: \"Lakshadweep\",\n",
        "    32: \"Kerala\",\n",
        "    33: \"Tamil Nadu\",\n",
        "    34: \"Puducherry\",\n",
        "    35: \"Andaman & Nicobar Islands\",\n",
        "    36: \"Telangana\",\n",
        "    37: \"Ladakh\"\n",
        "}\n",
        "\n",
        "# Create a mapping of state names to regions\n",
        "state_name_to_region = {\n",
        "    \"Jammu & Kashmir\": \"North_India\",\n",
        "    \"Himachal Pradesh\": \"North_India\",\n",
        "    \"Punjab\": \"North_India\",\n",
        "    \"Chandigarh\": \"North_India\",\n",
        "    \"Uttarakhand\": \"Central_India\",\n",
        "    \"Haryana\": \"North_India\",\n",
        "    \"Nct Of Delhi\": \"North_India\",\n",
        "    \"Rajasthan\": \"North_India\",\n",
        "    \"Uttar Pradesh\": \"Central_India\",\n",
        "    \"Bihar\": \"East_India\",\n",
        "    \"Sikkim\": \"NorthEast_India\",\n",
        "    \"Arunachal Pradesh\": \"NorthEast_India\",\n",
        "    \"Nagaland\": \"NorthEast_India\",\n",
        "    \"Manipur\": \"NorthEast_India\",\n",
        "    \"Mizoram\": \"NorthEast_India\",\n",
        "    \"Tripura\": \"NorthEast_India\",\n",
        "    \"Meghalaya\": \"NorthEast_India\",\n",
        "    \"Assam\": \"NorthEast_India\",\n",
        "    \"West Bengal\": \"East_India\",\n",
        "    \"Jharkhand\": \"East_India\",\n",
        "    \"Odisha\": \"East_India\",\n",
        "    \"Chhattisgarh\": \"Central_India\",\n",
        "    \"Madhya Pradesh\": \"Central_India\",\n",
        "    \"Gujarat\": \"West_India\",\n",
        "    \"Dadra & Nagar Haveli And Daman & Diu\": \"West_India\",\n",
        "    \"Maharashtra\": \"West_India\",\n",
        "    \"Andhra Pradesh\": \"South_India\",\n",
        "    \"Karnataka\": \"South_India\",\n",
        "    \"Goa\": \"West_India\",\n",
        "    \"Lakshadweep\": \"South_India\",\n",
        "    \"Kerala\": \"South_India\",\n",
        "    \"Tamil Nadu\": \"South_India\",\n",
        "    \"Puducherry\": \"South_India\",\n",
        "    \"Andaman & Nicobar Islands\": \"South_India\",\n",
        "    \"Telangana\": \"South_India\",\n",
        "    \"Ladakh\": \"North_India\"\n",
        "}\n",
        "\n",
        "# Replace numeric state codes with state names\n",
        "df['state'] = df['state'].replace(state_code_to_name)\n",
        "\n",
        "# Replace state names with corresponding regions\n",
        "df['state'] = df['state'].replace(state_name_to_region)\n",
        "\n",
        "\n"
      ],
      "metadata": {
        "id": "4qd9tRCb9FZF"
      },
      "execution_count": null,
      "outputs": []
    },
    {
      "cell_type": "code",
      "source": [
        "df['state'].value_counts()\n"
      ],
      "metadata": {
        "colab": {
          "base_uri": "https://localhost:8080/"
        },
        "id": "KvaubEyp9ceY",
        "outputId": "1d5a21c6-c69b-4f55-de3d-69de772c8662"
      },
      "execution_count": null,
      "outputs": [
        {
          "output_type": "execute_result",
          "data": {
            "text/plain": [
              "state\n",
              "Central_India      42\n",
              "East_India         40\n",
              "North_India        26\n",
              "NorthEast_India    16\n",
              "South_India        13\n",
              "West_India          7\n",
              "Name: count, dtype: int64"
            ]
          },
          "metadata": {},
          "execution_count": 68
        }
      ]
    },
    {
      "cell_type": "markdown",
      "source": [
        "mother's weight in kgs(1 decimal)"
      ],
      "metadata": {
        "id": "3gmLcEkS98Kd"
      }
    },
    {
      "cell_type": "code",
      "source": [
        "df = df.rename(columns={\"v437\": \"mother's weight\"})\n"
      ],
      "metadata": {
        "id": "FzoW9hHK9hOI"
      },
      "execution_count": null,
      "outputs": []
    },
    {
      "cell_type": "code",
      "source": [
        "import numpy as np\n",
        "# First, print unique values to see the context\n",
        "print(df[\"mother's weight\"].unique())\n",
        "\n",
        "# Update the replacement dictionary to include specific codes\n",
        "# Update the replacement dictionary to include specific codes\n",
        "replacement_dict = {\n",
        "    9994: np.nan,\n",
        "    9995: np.nan,\n",
        "    9996: np.nan,\n",
        "    9999: np.nan\n",
        "}\n",
        "\n",
        "# Replace specific codes with NaN in the 'mother's weight' column\n",
        "df['mother\\'s weight'] = df['mother\\'s weight'].replace(replacement_dict)\n",
        "\n",
        "# Drop rows with NaN values in the 'mother's weight' column\n",
        "df = df.dropna(subset=['mother\\'s weight'])\n",
        "\n",
        "# Print unique values and shape to verify the changes\n",
        "print(df['mother\\'s weight'].unique())\n",
        "print(f'Shape of df after dropping rows = {df.shape}')\n",
        "\n",
        "# Print the value counts to check the distribution\n",
        "print(df['mother\\'s weight'].value_counts())\n"
      ],
      "metadata": {
        "colab": {
          "base_uri": "https://localhost:8080/"
        },
        "id": "_-b5qcf2BEb8",
        "outputId": "f2204535-1447-4f6b-f184-dd8cba602bbf"
      },
      "execution_count": null,
      "outputs": [
        {
          "output_type": "stream",
          "name": "stdout",
          "text": [
            "[468. 523. 482. 597. 346. 464. 485. 653. 392. 589. 497. 681. 458. 381.\n",
            " 584. 367. 614. 579. 395. 496. 437. 512. 500. 549. 382. 489. 420. 670.\n",
            " 413. 404. 409. 569. 470. 660. 428. 425. 529. 557. 389. 499. 573. 574.\n",
            " 477. 471. 387. 376. 460. 667. 643. 439. 411. 765. 685. 418. 528. 507.\n",
            " 369. 473. 645. 429. 364. 446. 481. 441. 692. 352. 493. 679. 525. 445.\n",
            " 402. 433. 466. 635. 455. 592. 467. 563. 416. 430. 397. 448. 383. 562.\n",
            " 472. 375. 483. 559. 628. 602. 484. 358. 494. 633. 407. 652. 454. 414.\n",
            " 463. 426. 495. 513. 506. 431. 475. 522. 601. 558. 536. 593. 649. 476.\n",
            " 452. 603.]\n",
            "[468. 523. 482. 597. 346. 464. 485. 653. 392. 589. 497. 681. 458. 381.\n",
            " 584. 367. 614. 579. 395. 496. 437. 512. 500. 549. 382. 489. 420. 670.\n",
            " 413. 404. 409. 569. 470. 660. 428. 425. 529. 557. 389. 499. 573. 574.\n",
            " 477. 471. 387. 376. 460. 667. 643. 439. 411. 765. 685. 418. 528. 507.\n",
            " 369. 473. 645. 429. 364. 446. 481. 441. 692. 352. 493. 679. 525. 445.\n",
            " 402. 433. 466. 635. 455. 592. 467. 563. 416. 430. 397. 448. 383. 562.\n",
            " 472. 375. 483. 559. 628. 602. 484. 358. 494. 633. 407. 652. 454. 414.\n",
            " 463. 426. 495. 513. 506. 431. 475. 522. 601. 558. 536. 593. 649. 476.\n",
            " 452. 603.]\n",
            "Shape of df after dropping rows = (144, 21)\n",
            "mother's weight\n",
            "482.0    3\n",
            "395.0    3\n",
            "455.0    3\n",
            "477.0    2\n",
            "614.0    2\n",
            "        ..\n",
            "574.0    1\n",
            "573.0    1\n",
            "557.0    1\n",
            "529.0    1\n",
            "603.0    1\n",
            "Name: count, Length: 114, dtype: int64\n"
          ]
        }
      ]
    },
    {
      "cell_type": "markdown",
      "source": [
        "mother's height"
      ],
      "metadata": {
        "id": "YkY4yzpsWWl_"
      }
    },
    {
      "cell_type": "code",
      "source": [
        "df = df.rename(columns={\"v438\": \"mother's height\"})\n"
      ],
      "metadata": {
        "id": "4Kt_Lvz1WbiA"
      },
      "execution_count": null,
      "outputs": []
    },
    {
      "cell_type": "code",
      "source": [
        "import numpy as np\n",
        "# First, print unique values to see the context\n",
        "print(df[\"mother's height\"].unique())\n",
        "\n",
        "# Update the replacement dictionary to include specific codes\n",
        "# Update the replacement dictionary to include specific codes\n",
        "replacement_dict = {\n",
        "    9994: np.nan,\n",
        "    9995: np.nan,\n",
        "    9996: np.nan,\n",
        "    9999: np.nan\n",
        "}\n",
        "\n",
        "# Replace specific codes with NaN in the 'mother's weight' column\n",
        "df['mother\\'s height'] = df['mother\\'s height'].replace(replacement_dict)\n",
        "\n",
        "# Drop rows with NaN values in the 'mother's weight' column\n",
        "df = df.dropna(subset=['mother\\'s height'])\n",
        "\n",
        "# Print unique values and shape to verify the changes\n",
        "print(df['mother\\'s height'].unique())\n",
        "print(f'Shape of df after dropping rows = {df.shape}')\n",
        "\n",
        "# Print the value counts to check the distribution\n",
        "print(df['mother\\'s height'].value_counts())\n"
      ],
      "metadata": {
        "colab": {
          "base_uri": "https://localhost:8080/"
        },
        "id": "bZWwGQ3JCto3",
        "outputId": "a0c0c93b-6d34-4e78-c1f8-f4876ee69bcf"
      },
      "execution_count": null,
      "outputs": [
        {
          "output_type": "stream",
          "name": "stdout",
          "text": [
            "[1489. 1556. 1552. 1520. 1444. 1522. 1524. 1578. 1505. 1645. 1497. 1677.\n",
            " 1573. 1574. 1311. 1476. 1586. 1465. 1538. 1475. 1609. 1594. 1392. 1513.\n",
            " 1535. 1511. 1453. 1527. 1577. 1510. 1491. 1404. 1486. 1519. 1493. 1512.\n",
            " 1507. 1467. 1523. 1480. 1496. 1639. 1579. 1521. 1630. 1634. 1532. 1572.\n",
            " 1482. 1563. 1485. 1464. 1461. 1395. 1449. 1427. 1414. 1484. 1501. 1530.\n",
            " 1551. 1626. 1564. 1434. 1537. 1421. 1543. 1555. 1456. 1568. 1602. 1571.\n",
            " 1399. 1481. 1499. 1287. 1435. 1462. 1541. 1514. 1488. 1342. 1593. 1479.\n",
            " 1495. 1416. 1492. 1473. 1545. 1504. 1554. 1643. 1517. 1558. 1412. 1546.\n",
            " 1557. 1439. 1500. 1526. 1459. 1375. 1415. 1436. 1595. 1587. 1539.]\n",
            "[1489. 1556. 1552. 1520. 1444. 1522. 1524. 1578. 1505. 1645. 1497. 1677.\n",
            " 1573. 1574. 1311. 1476. 1586. 1465. 1538. 1475. 1609. 1594. 1392. 1513.\n",
            " 1535. 1511. 1453. 1527. 1577. 1510. 1491. 1404. 1486. 1519. 1493. 1512.\n",
            " 1507. 1467. 1523. 1480. 1496. 1639. 1579. 1521. 1630. 1634. 1532. 1572.\n",
            " 1482. 1563. 1485. 1464. 1461. 1395. 1449. 1427. 1414. 1484. 1501. 1530.\n",
            " 1551. 1626. 1564. 1434. 1537. 1421. 1543. 1555. 1456. 1568. 1602. 1571.\n",
            " 1399. 1481. 1499. 1287. 1435. 1462. 1541. 1514. 1488. 1342. 1593. 1479.\n",
            " 1495. 1416. 1492. 1473. 1545. 1504. 1554. 1643. 1517. 1558. 1412. 1546.\n",
            " 1557. 1439. 1500. 1526. 1459. 1375. 1415. 1436. 1595. 1587. 1539.]\n",
            "Shape of df after dropping rows = (144, 21)\n",
            "mother's height\n",
            "1527.0    3\n",
            "1520.0    3\n",
            "1475.0    3\n",
            "1510.0    3\n",
            "1465.0    3\n",
            "         ..\n",
            "1630.0    1\n",
            "1521.0    1\n",
            "1579.0    1\n",
            "1480.0    1\n",
            "1539.0    1\n",
            "Name: count, Length: 107, dtype: int64\n"
          ]
        }
      ]
    },
    {
      "cell_type": "code",
      "source": [
        "import pandas as pd\n",
        "\n",
        "# Assuming your dataset is stored in a pandas DataFrame called 'df'\n",
        "# with columns 'mothers_height_cm' and 'mothers_weight_kg'\n",
        "\n",
        "# Calculate BMI\n",
        "df['mothers_bmi'] = df['mother\\'s weight'] / ((df['mother\\'s height'] / 100) ** 2)\n",
        "\n",
        "# Round BMI to 1 decimal place\n",
        "df['mothers_bmi'] = df['mothers_bmi'].round(1)\n",
        "\n",
        "\n"
      ],
      "metadata": {
        "id": "UZMkGzgsWkY6"
      },
      "execution_count": null,
      "outputs": []
    },
    {
      "cell_type": "code",
      "source": [
        "\n",
        "\n",
        "# Display the shape of the DataFrame\n",
        "print(\"Shape of DataFrame:\", df.shape)\n",
        "\n",
        "# Display the value counts of the 'mothers_bmi' column\n",
        "print(\"\\nValue counts of 'mothers_bmi' column:\")\n",
        "print(df['mothers_bmi'].value_counts())\n"
      ],
      "metadata": {
        "colab": {
          "base_uri": "https://localhost:8080/"
        },
        "id": "Ip0OKiM_YCAy",
        "outputId": "a38d77d1-1f9f-4e7d-ddd0-72f07fbe8247"
      },
      "execution_count": null,
      "outputs": [
        {
          "output_type": "stream",
          "name": "stdout",
          "text": [
            "Shape of DataFrame: (144, 22)\n",
            "\n",
            "Value counts of 'mothers_bmi' column:\n",
            "mothers_bmi\n",
            "2.2    24\n",
            "2.0    19\n",
            "1.8    16\n",
            "2.1    13\n",
            "2.3    11\n",
            "1.7    11\n",
            "1.9    10\n",
            "2.4     7\n",
            "2.5     6\n",
            "2.8     5\n",
            "2.6     5\n",
            "1.6     5\n",
            "2.7     5\n",
            "2.9     3\n",
            "3.3     1\n",
            "1.5     1\n",
            "3.0     1\n",
            "1.4     1\n",
            "Name: count, dtype: int64\n"
          ]
        }
      ]
    },
    {
      "cell_type": "code",
      "source": [
        "\n",
        "\n",
        "df.shape"
      ],
      "metadata": {
        "colab": {
          "base_uri": "https://localhost:8080/"
        },
        "id": "hwRDNQe6YqZX",
        "outputId": "4490e2a9-9f23-402a-e2ca-85bd7fa4df3e"
      },
      "execution_count": null,
      "outputs": [
        {
          "output_type": "execute_result",
          "data": {
            "text/plain": [
              "(144, 22)"
            ]
          },
          "metadata": {},
          "execution_count": 78
        }
      ]
    },
    {
      "cell_type": "code",
      "source": [
        "df"
      ],
      "metadata": {
        "colab": {
          "base_uri": "https://localhost:8080/",
          "height": 669
        },
        "id": "y6_s2CGWZDth",
        "outputId": "82ecba60-f787-4cf3-bf3b-4530a5823976"
      },
      "execution_count": null,
      "outputs": [
        {
          "output_type": "execute_result",
          "data": {
            "text/plain": [
              "     Source of drinking water Caste Mother's age at first birth wealth index  \\\n",
              "4                    Improved   OBC                       20-29       Middle   \n",
              "19                   Improved    SC                       30-39      Richest   \n",
              "27                   Improved   OBC                       20-29       Richer   \n",
              "47                   Improved   OBC                       20-29      Richest   \n",
              "76                   Improved    SC                       20-29       Poorer   \n",
              "...                       ...   ...                         ...          ...   \n",
              "2268                 Improved    ST                       20-29       Poorer   \n",
              "2276                 Improved   OBC                         <20      Poorest   \n",
              "2283               Unimproved   OBC                       20-29       Richer   \n",
              "2285                 Improved    SC                         <20       Richer   \n",
              "2310               Unimproved   OBC                       20-29       Middle   \n",
              "\n",
              "        v445  mother's height Toilet Facility  number of living children  \\\n",
              "4     2111.0           1489.0        Improved                          2   \n",
              "19    2160.0           1556.0        Improved                          1   \n",
              "27    1999.0           1552.0        Improved                          2   \n",
              "47    2584.0           1520.0        Improved                          1   \n",
              "76    1657.0           1444.0        Improved                          2   \n",
              "...      ...              ...             ...                        ...   \n",
              "2268  2570.0           1519.0        Improved                          3   \n",
              "2276  2738.0           1539.0     No facility                          3   \n",
              "2283  1912.0           1577.0         Unknown                          1   \n",
              "2285  1998.0           1504.0        Improved                          1   \n",
              "2310  2772.0           1475.0         Unknown                          3   \n",
              "\n",
              "     sex of household head Mother's Occupation  ... sex of child  \\\n",
              "4                     Male          unemployed  ...         Male   \n",
              "19                  Female          unemployed  ...         Male   \n",
              "27                    Male           household  ...       Female   \n",
              "47                    Male       self employed  ...       Female   \n",
              "76                    Male          unemployed  ...         Male   \n",
              "...                    ...                 ...  ...          ...   \n",
              "2268                Female          unemployed  ...       Female   \n",
              "2276                  Male          unemployed  ...       Female   \n",
              "2283                  Male          unemployed  ...         Male   \n",
              "2285                  Male          unemployed  ...       Female   \n",
              "2310                Female          unemployed  ...         Male   \n",
              "\n",
              "     currently in union   immunization mother's weight            state  \\\n",
              "4     Currently married  Not immunized           468.0       East_India   \n",
              "19    Currently married  Not immunized           523.0      North_India   \n",
              "27    Currently married  Not immunized           482.0    Central_India   \n",
              "47    Currently married  Not immunized           597.0       East_India   \n",
              "76    Currently married  Not immunized           346.0       East_India   \n",
              "...                 ...            ...             ...              ...   \n",
              "2268  Currently married  Not immunized           593.0  NorthEast_India   \n",
              "2276  Currently married  Not immunized           649.0    Central_India   \n",
              "2283  Currently married  Not immunized           476.0      South_India   \n",
              "2285  Currently married  Not immunized           452.0       West_India   \n",
              "2310  Currently married  Not immunized           603.0       East_India   \n",
              "\n",
              "      index to birth history   Area  Religion months of bf mothers_bmi  \n",
              "4                        1.0  Urban    Muslim          <24         2.1  \n",
              "19                       1.0  Urban     Hindu          <24         2.2  \n",
              "27                       1.0  Rural     Hindu          <24         2.0  \n",
              "47                       1.0  Rural     Hindu          <24         2.6  \n",
              "76                       1.0  Rural     Hindu          <24         1.7  \n",
              "...                      ...    ...       ...          ...         ...  \n",
              "2268                     1.0  Urban    Others          >24         2.6  \n",
              "2276                     1.0  Rural     Hindu          <24         2.7  \n",
              "2283                     1.0  Rural     Hindu          <24         1.9  \n",
              "2285                     1.0  Urban     Hindu          <24         2.0  \n",
              "2310                     1.0  Rural     Hindu          <24         2.8  \n",
              "\n",
              "[144 rows x 22 columns]"
            ],
            "text/html": [
              "\n",
              "  <div id=\"df-3b91ef4b-0820-4597-8a53-32079e0d4f82\" class=\"colab-df-container\">\n",
              "    <div>\n",
              "<style scoped>\n",
              "    .dataframe tbody tr th:only-of-type {\n",
              "        vertical-align: middle;\n",
              "    }\n",
              "\n",
              "    .dataframe tbody tr th {\n",
              "        vertical-align: top;\n",
              "    }\n",
              "\n",
              "    .dataframe thead th {\n",
              "        text-align: right;\n",
              "    }\n",
              "</style>\n",
              "<table border=\"1\" class=\"dataframe\">\n",
              "  <thead>\n",
              "    <tr style=\"text-align: right;\">\n",
              "      <th></th>\n",
              "      <th>Source of drinking water</th>\n",
              "      <th>Caste</th>\n",
              "      <th>Mother's age at first birth</th>\n",
              "      <th>wealth index</th>\n",
              "      <th>v445</th>\n",
              "      <th>mother's height</th>\n",
              "      <th>Toilet Facility</th>\n",
              "      <th>number of living children</th>\n",
              "      <th>sex of household head</th>\n",
              "      <th>Mother's Occupation</th>\n",
              "      <th>...</th>\n",
              "      <th>sex of child</th>\n",
              "      <th>currently in union</th>\n",
              "      <th>immunization</th>\n",
              "      <th>mother's weight</th>\n",
              "      <th>state</th>\n",
              "      <th>index to birth history</th>\n",
              "      <th>Area</th>\n",
              "      <th>Religion</th>\n",
              "      <th>months of bf</th>\n",
              "      <th>mothers_bmi</th>\n",
              "    </tr>\n",
              "  </thead>\n",
              "  <tbody>\n",
              "    <tr>\n",
              "      <th>4</th>\n",
              "      <td>Improved</td>\n",
              "      <td>OBC</td>\n",
              "      <td>20-29</td>\n",
              "      <td>Middle</td>\n",
              "      <td>2111.0</td>\n",
              "      <td>1489.0</td>\n",
              "      <td>Improved</td>\n",
              "      <td>2</td>\n",
              "      <td>Male</td>\n",
              "      <td>unemployed</td>\n",
              "      <td>...</td>\n",
              "      <td>Male</td>\n",
              "      <td>Currently married</td>\n",
              "      <td>Not immunized</td>\n",
              "      <td>468.0</td>\n",
              "      <td>East_India</td>\n",
              "      <td>1.0</td>\n",
              "      <td>Urban</td>\n",
              "      <td>Muslim</td>\n",
              "      <td>&lt;24</td>\n",
              "      <td>2.1</td>\n",
              "    </tr>\n",
              "    <tr>\n",
              "      <th>19</th>\n",
              "      <td>Improved</td>\n",
              "      <td>SC</td>\n",
              "      <td>30-39</td>\n",
              "      <td>Richest</td>\n",
              "      <td>2160.0</td>\n",
              "      <td>1556.0</td>\n",
              "      <td>Improved</td>\n",
              "      <td>1</td>\n",
              "      <td>Female</td>\n",
              "      <td>unemployed</td>\n",
              "      <td>...</td>\n",
              "      <td>Male</td>\n",
              "      <td>Currently married</td>\n",
              "      <td>Not immunized</td>\n",
              "      <td>523.0</td>\n",
              "      <td>North_India</td>\n",
              "      <td>1.0</td>\n",
              "      <td>Urban</td>\n",
              "      <td>Hindu</td>\n",
              "      <td>&lt;24</td>\n",
              "      <td>2.2</td>\n",
              "    </tr>\n",
              "    <tr>\n",
              "      <th>27</th>\n",
              "      <td>Improved</td>\n",
              "      <td>OBC</td>\n",
              "      <td>20-29</td>\n",
              "      <td>Richer</td>\n",
              "      <td>1999.0</td>\n",
              "      <td>1552.0</td>\n",
              "      <td>Improved</td>\n",
              "      <td>2</td>\n",
              "      <td>Male</td>\n",
              "      <td>household</td>\n",
              "      <td>...</td>\n",
              "      <td>Female</td>\n",
              "      <td>Currently married</td>\n",
              "      <td>Not immunized</td>\n",
              "      <td>482.0</td>\n",
              "      <td>Central_India</td>\n",
              "      <td>1.0</td>\n",
              "      <td>Rural</td>\n",
              "      <td>Hindu</td>\n",
              "      <td>&lt;24</td>\n",
              "      <td>2.0</td>\n",
              "    </tr>\n",
              "    <tr>\n",
              "      <th>47</th>\n",
              "      <td>Improved</td>\n",
              "      <td>OBC</td>\n",
              "      <td>20-29</td>\n",
              "      <td>Richest</td>\n",
              "      <td>2584.0</td>\n",
              "      <td>1520.0</td>\n",
              "      <td>Improved</td>\n",
              "      <td>1</td>\n",
              "      <td>Male</td>\n",
              "      <td>self employed</td>\n",
              "      <td>...</td>\n",
              "      <td>Female</td>\n",
              "      <td>Currently married</td>\n",
              "      <td>Not immunized</td>\n",
              "      <td>597.0</td>\n",
              "      <td>East_India</td>\n",
              "      <td>1.0</td>\n",
              "      <td>Rural</td>\n",
              "      <td>Hindu</td>\n",
              "      <td>&lt;24</td>\n",
              "      <td>2.6</td>\n",
              "    </tr>\n",
              "    <tr>\n",
              "      <th>76</th>\n",
              "      <td>Improved</td>\n",
              "      <td>SC</td>\n",
              "      <td>20-29</td>\n",
              "      <td>Poorer</td>\n",
              "      <td>1657.0</td>\n",
              "      <td>1444.0</td>\n",
              "      <td>Improved</td>\n",
              "      <td>2</td>\n",
              "      <td>Male</td>\n",
              "      <td>unemployed</td>\n",
              "      <td>...</td>\n",
              "      <td>Male</td>\n",
              "      <td>Currently married</td>\n",
              "      <td>Not immunized</td>\n",
              "      <td>346.0</td>\n",
              "      <td>East_India</td>\n",
              "      <td>1.0</td>\n",
              "      <td>Rural</td>\n",
              "      <td>Hindu</td>\n",
              "      <td>&lt;24</td>\n",
              "      <td>1.7</td>\n",
              "    </tr>\n",
              "    <tr>\n",
              "      <th>...</th>\n",
              "      <td>...</td>\n",
              "      <td>...</td>\n",
              "      <td>...</td>\n",
              "      <td>...</td>\n",
              "      <td>...</td>\n",
              "      <td>...</td>\n",
              "      <td>...</td>\n",
              "      <td>...</td>\n",
              "      <td>...</td>\n",
              "      <td>...</td>\n",
              "      <td>...</td>\n",
              "      <td>...</td>\n",
              "      <td>...</td>\n",
              "      <td>...</td>\n",
              "      <td>...</td>\n",
              "      <td>...</td>\n",
              "      <td>...</td>\n",
              "      <td>...</td>\n",
              "      <td>...</td>\n",
              "      <td>...</td>\n",
              "      <td>...</td>\n",
              "    </tr>\n",
              "    <tr>\n",
              "      <th>2268</th>\n",
              "      <td>Improved</td>\n",
              "      <td>ST</td>\n",
              "      <td>20-29</td>\n",
              "      <td>Poorer</td>\n",
              "      <td>2570.0</td>\n",
              "      <td>1519.0</td>\n",
              "      <td>Improved</td>\n",
              "      <td>3</td>\n",
              "      <td>Female</td>\n",
              "      <td>unemployed</td>\n",
              "      <td>...</td>\n",
              "      <td>Female</td>\n",
              "      <td>Currently married</td>\n",
              "      <td>Not immunized</td>\n",
              "      <td>593.0</td>\n",
              "      <td>NorthEast_India</td>\n",
              "      <td>1.0</td>\n",
              "      <td>Urban</td>\n",
              "      <td>Others</td>\n",
              "      <td>&gt;24</td>\n",
              "      <td>2.6</td>\n",
              "    </tr>\n",
              "    <tr>\n",
              "      <th>2276</th>\n",
              "      <td>Improved</td>\n",
              "      <td>OBC</td>\n",
              "      <td>&lt;20</td>\n",
              "      <td>Poorest</td>\n",
              "      <td>2738.0</td>\n",
              "      <td>1539.0</td>\n",
              "      <td>No facility</td>\n",
              "      <td>3</td>\n",
              "      <td>Male</td>\n",
              "      <td>unemployed</td>\n",
              "      <td>...</td>\n",
              "      <td>Female</td>\n",
              "      <td>Currently married</td>\n",
              "      <td>Not immunized</td>\n",
              "      <td>649.0</td>\n",
              "      <td>Central_India</td>\n",
              "      <td>1.0</td>\n",
              "      <td>Rural</td>\n",
              "      <td>Hindu</td>\n",
              "      <td>&lt;24</td>\n",
              "      <td>2.7</td>\n",
              "    </tr>\n",
              "    <tr>\n",
              "      <th>2283</th>\n",
              "      <td>Unimproved</td>\n",
              "      <td>OBC</td>\n",
              "      <td>20-29</td>\n",
              "      <td>Richer</td>\n",
              "      <td>1912.0</td>\n",
              "      <td>1577.0</td>\n",
              "      <td>Unknown</td>\n",
              "      <td>1</td>\n",
              "      <td>Male</td>\n",
              "      <td>unemployed</td>\n",
              "      <td>...</td>\n",
              "      <td>Male</td>\n",
              "      <td>Currently married</td>\n",
              "      <td>Not immunized</td>\n",
              "      <td>476.0</td>\n",
              "      <td>South_India</td>\n",
              "      <td>1.0</td>\n",
              "      <td>Rural</td>\n",
              "      <td>Hindu</td>\n",
              "      <td>&lt;24</td>\n",
              "      <td>1.9</td>\n",
              "    </tr>\n",
              "    <tr>\n",
              "      <th>2285</th>\n",
              "      <td>Improved</td>\n",
              "      <td>SC</td>\n",
              "      <td>&lt;20</td>\n",
              "      <td>Richer</td>\n",
              "      <td>1998.0</td>\n",
              "      <td>1504.0</td>\n",
              "      <td>Improved</td>\n",
              "      <td>1</td>\n",
              "      <td>Male</td>\n",
              "      <td>unemployed</td>\n",
              "      <td>...</td>\n",
              "      <td>Female</td>\n",
              "      <td>Currently married</td>\n",
              "      <td>Not immunized</td>\n",
              "      <td>452.0</td>\n",
              "      <td>West_India</td>\n",
              "      <td>1.0</td>\n",
              "      <td>Urban</td>\n",
              "      <td>Hindu</td>\n",
              "      <td>&lt;24</td>\n",
              "      <td>2.0</td>\n",
              "    </tr>\n",
              "    <tr>\n",
              "      <th>2310</th>\n",
              "      <td>Unimproved</td>\n",
              "      <td>OBC</td>\n",
              "      <td>20-29</td>\n",
              "      <td>Middle</td>\n",
              "      <td>2772.0</td>\n",
              "      <td>1475.0</td>\n",
              "      <td>Unknown</td>\n",
              "      <td>3</td>\n",
              "      <td>Female</td>\n",
              "      <td>unemployed</td>\n",
              "      <td>...</td>\n",
              "      <td>Male</td>\n",
              "      <td>Currently married</td>\n",
              "      <td>Not immunized</td>\n",
              "      <td>603.0</td>\n",
              "      <td>East_India</td>\n",
              "      <td>1.0</td>\n",
              "      <td>Rural</td>\n",
              "      <td>Hindu</td>\n",
              "      <td>&lt;24</td>\n",
              "      <td>2.8</td>\n",
              "    </tr>\n",
              "  </tbody>\n",
              "</table>\n",
              "<p>144 rows × 22 columns</p>\n",
              "</div>\n",
              "    <div class=\"colab-df-buttons\">\n",
              "\n",
              "  <div class=\"colab-df-container\">\n",
              "    <button class=\"colab-df-convert\" onclick=\"convertToInteractive('df-3b91ef4b-0820-4597-8a53-32079e0d4f82')\"\n",
              "            title=\"Convert this dataframe to an interactive table.\"\n",
              "            style=\"display:none;\">\n",
              "\n",
              "  <svg xmlns=\"http://www.w3.org/2000/svg\" height=\"24px\" viewBox=\"0 -960 960 960\">\n",
              "    <path d=\"M120-120v-720h720v720H120Zm60-500h600v-160H180v160Zm220 220h160v-160H400v160Zm0 220h160v-160H400v160ZM180-400h160v-160H180v160Zm440 0h160v-160H620v160ZM180-180h160v-160H180v160Zm440 0h160v-160H620v160Z\"/>\n",
              "  </svg>\n",
              "    </button>\n",
              "\n",
              "  <style>\n",
              "    .colab-df-container {\n",
              "      display:flex;\n",
              "      gap: 12px;\n",
              "    }\n",
              "\n",
              "    .colab-df-convert {\n",
              "      background-color: #E8F0FE;\n",
              "      border: none;\n",
              "      border-radius: 50%;\n",
              "      cursor: pointer;\n",
              "      display: none;\n",
              "      fill: #1967D2;\n",
              "      height: 32px;\n",
              "      padding: 0 0 0 0;\n",
              "      width: 32px;\n",
              "    }\n",
              "\n",
              "    .colab-df-convert:hover {\n",
              "      background-color: #E2EBFA;\n",
              "      box-shadow: 0px 1px 2px rgba(60, 64, 67, 0.3), 0px 1px 3px 1px rgba(60, 64, 67, 0.15);\n",
              "      fill: #174EA6;\n",
              "    }\n",
              "\n",
              "    .colab-df-buttons div {\n",
              "      margin-bottom: 4px;\n",
              "    }\n",
              "\n",
              "    [theme=dark] .colab-df-convert {\n",
              "      background-color: #3B4455;\n",
              "      fill: #D2E3FC;\n",
              "    }\n",
              "\n",
              "    [theme=dark] .colab-df-convert:hover {\n",
              "      background-color: #434B5C;\n",
              "      box-shadow: 0px 1px 3px 1px rgba(0, 0, 0, 0.15);\n",
              "      filter: drop-shadow(0px 1px 2px rgba(0, 0, 0, 0.3));\n",
              "      fill: #FFFFFF;\n",
              "    }\n",
              "  </style>\n",
              "\n",
              "    <script>\n",
              "      const buttonEl =\n",
              "        document.querySelector('#df-3b91ef4b-0820-4597-8a53-32079e0d4f82 button.colab-df-convert');\n",
              "      buttonEl.style.display =\n",
              "        google.colab.kernel.accessAllowed ? 'block' : 'none';\n",
              "\n",
              "      async function convertToInteractive(key) {\n",
              "        const element = document.querySelector('#df-3b91ef4b-0820-4597-8a53-32079e0d4f82');\n",
              "        const dataTable =\n",
              "          await google.colab.kernel.invokeFunction('convertToInteractive',\n",
              "                                                    [key], {});\n",
              "        if (!dataTable) return;\n",
              "\n",
              "        const docLinkHtml = 'Like what you see? Visit the ' +\n",
              "          '<a target=\"_blank\" href=https://colab.research.google.com/notebooks/data_table.ipynb>data table notebook</a>'\n",
              "          + ' to learn more about interactive tables.';\n",
              "        element.innerHTML = '';\n",
              "        dataTable['output_type'] = 'display_data';\n",
              "        await google.colab.output.renderOutput(dataTable, element);\n",
              "        const docLink = document.createElement('div');\n",
              "        docLink.innerHTML = docLinkHtml;\n",
              "        element.appendChild(docLink);\n",
              "      }\n",
              "    </script>\n",
              "  </div>\n",
              "\n",
              "\n",
              "<div id=\"df-f97ad443-bfd6-46ad-bd1d-77d536119585\">\n",
              "  <button class=\"colab-df-quickchart\" onclick=\"quickchart('df-f97ad443-bfd6-46ad-bd1d-77d536119585')\"\n",
              "            title=\"Suggest charts\"\n",
              "            style=\"display:none;\">\n",
              "\n",
              "<svg xmlns=\"http://www.w3.org/2000/svg\" height=\"24px\"viewBox=\"0 0 24 24\"\n",
              "     width=\"24px\">\n",
              "    <g>\n",
              "        <path d=\"M19 3H5c-1.1 0-2 .9-2 2v14c0 1.1.9 2 2 2h14c1.1 0 2-.9 2-2V5c0-1.1-.9-2-2-2zM9 17H7v-7h2v7zm4 0h-2V7h2v10zm4 0h-2v-4h2v4z\"/>\n",
              "    </g>\n",
              "</svg>\n",
              "  </button>\n",
              "\n",
              "<style>\n",
              "  .colab-df-quickchart {\n",
              "      --bg-color: #E8F0FE;\n",
              "      --fill-color: #1967D2;\n",
              "      --hover-bg-color: #E2EBFA;\n",
              "      --hover-fill-color: #174EA6;\n",
              "      --disabled-fill-color: #AAA;\n",
              "      --disabled-bg-color: #DDD;\n",
              "  }\n",
              "\n",
              "  [theme=dark] .colab-df-quickchart {\n",
              "      --bg-color: #3B4455;\n",
              "      --fill-color: #D2E3FC;\n",
              "      --hover-bg-color: #434B5C;\n",
              "      --hover-fill-color: #FFFFFF;\n",
              "      --disabled-bg-color: #3B4455;\n",
              "      --disabled-fill-color: #666;\n",
              "  }\n",
              "\n",
              "  .colab-df-quickchart {\n",
              "    background-color: var(--bg-color);\n",
              "    border: none;\n",
              "    border-radius: 50%;\n",
              "    cursor: pointer;\n",
              "    display: none;\n",
              "    fill: var(--fill-color);\n",
              "    height: 32px;\n",
              "    padding: 0;\n",
              "    width: 32px;\n",
              "  }\n",
              "\n",
              "  .colab-df-quickchart:hover {\n",
              "    background-color: var(--hover-bg-color);\n",
              "    box-shadow: 0 1px 2px rgba(60, 64, 67, 0.3), 0 1px 3px 1px rgba(60, 64, 67, 0.15);\n",
              "    fill: var(--button-hover-fill-color);\n",
              "  }\n",
              "\n",
              "  .colab-df-quickchart-complete:disabled,\n",
              "  .colab-df-quickchart-complete:disabled:hover {\n",
              "    background-color: var(--disabled-bg-color);\n",
              "    fill: var(--disabled-fill-color);\n",
              "    box-shadow: none;\n",
              "  }\n",
              "\n",
              "  .colab-df-spinner {\n",
              "    border: 2px solid var(--fill-color);\n",
              "    border-color: transparent;\n",
              "    border-bottom-color: var(--fill-color);\n",
              "    animation:\n",
              "      spin 1s steps(1) infinite;\n",
              "  }\n",
              "\n",
              "  @keyframes spin {\n",
              "    0% {\n",
              "      border-color: transparent;\n",
              "      border-bottom-color: var(--fill-color);\n",
              "      border-left-color: var(--fill-color);\n",
              "    }\n",
              "    20% {\n",
              "      border-color: transparent;\n",
              "      border-left-color: var(--fill-color);\n",
              "      border-top-color: var(--fill-color);\n",
              "    }\n",
              "    30% {\n",
              "      border-color: transparent;\n",
              "      border-left-color: var(--fill-color);\n",
              "      border-top-color: var(--fill-color);\n",
              "      border-right-color: var(--fill-color);\n",
              "    }\n",
              "    40% {\n",
              "      border-color: transparent;\n",
              "      border-right-color: var(--fill-color);\n",
              "      border-top-color: var(--fill-color);\n",
              "    }\n",
              "    60% {\n",
              "      border-color: transparent;\n",
              "      border-right-color: var(--fill-color);\n",
              "    }\n",
              "    80% {\n",
              "      border-color: transparent;\n",
              "      border-right-color: var(--fill-color);\n",
              "      border-bottom-color: var(--fill-color);\n",
              "    }\n",
              "    90% {\n",
              "      border-color: transparent;\n",
              "      border-bottom-color: var(--fill-color);\n",
              "    }\n",
              "  }\n",
              "</style>\n",
              "\n",
              "  <script>\n",
              "    async function quickchart(key) {\n",
              "      const quickchartButtonEl =\n",
              "        document.querySelector('#' + key + ' button');\n",
              "      quickchartButtonEl.disabled = true;  // To prevent multiple clicks.\n",
              "      quickchartButtonEl.classList.add('colab-df-spinner');\n",
              "      try {\n",
              "        const charts = await google.colab.kernel.invokeFunction(\n",
              "            'suggestCharts', [key], {});\n",
              "      } catch (error) {\n",
              "        console.error('Error during call to suggestCharts:', error);\n",
              "      }\n",
              "      quickchartButtonEl.classList.remove('colab-df-spinner');\n",
              "      quickchartButtonEl.classList.add('colab-df-quickchart-complete');\n",
              "    }\n",
              "    (() => {\n",
              "      let quickchartButtonEl =\n",
              "        document.querySelector('#df-f97ad443-bfd6-46ad-bd1d-77d536119585 button');\n",
              "      quickchartButtonEl.style.display =\n",
              "        google.colab.kernel.accessAllowed ? 'block' : 'none';\n",
              "    })();\n",
              "  </script>\n",
              "</div>\n",
              "\n",
              "  <div id=\"id_e3d51378-bbaa-4f19-a0b1-c0cb59be6478\">\n",
              "    <style>\n",
              "      .colab-df-generate {\n",
              "        background-color: #E8F0FE;\n",
              "        border: none;\n",
              "        border-radius: 50%;\n",
              "        cursor: pointer;\n",
              "        display: none;\n",
              "        fill: #1967D2;\n",
              "        height: 32px;\n",
              "        padding: 0 0 0 0;\n",
              "        width: 32px;\n",
              "      }\n",
              "\n",
              "      .colab-df-generate:hover {\n",
              "        background-color: #E2EBFA;\n",
              "        box-shadow: 0px 1px 2px rgba(60, 64, 67, 0.3), 0px 1px 3px 1px rgba(60, 64, 67, 0.15);\n",
              "        fill: #174EA6;\n",
              "      }\n",
              "\n",
              "      [theme=dark] .colab-df-generate {\n",
              "        background-color: #3B4455;\n",
              "        fill: #D2E3FC;\n",
              "      }\n",
              "\n",
              "      [theme=dark] .colab-df-generate:hover {\n",
              "        background-color: #434B5C;\n",
              "        box-shadow: 0px 1px 3px 1px rgba(0, 0, 0, 0.15);\n",
              "        filter: drop-shadow(0px 1px 2px rgba(0, 0, 0, 0.3));\n",
              "        fill: #FFFFFF;\n",
              "      }\n",
              "    </style>\n",
              "    <button class=\"colab-df-generate\" onclick=\"generateWithVariable('df')\"\n",
              "            title=\"Generate code using this dataframe.\"\n",
              "            style=\"display:none;\">\n",
              "\n",
              "  <svg xmlns=\"http://www.w3.org/2000/svg\" height=\"24px\"viewBox=\"0 0 24 24\"\n",
              "       width=\"24px\">\n",
              "    <path d=\"M7,19H8.4L18.45,9,17,7.55,7,17.6ZM5,21V16.75L18.45,3.32a2,2,0,0,1,2.83,0l1.4,1.43a1.91,1.91,0,0,1,.58,1.4,1.91,1.91,0,0,1-.58,1.4L9.25,21ZM18.45,9,17,7.55Zm-12,3A5.31,5.31,0,0,0,4.9,8.1,5.31,5.31,0,0,0,1,6.5,5.31,5.31,0,0,0,4.9,4.9,5.31,5.31,0,0,0,6.5,1,5.31,5.31,0,0,0,8.1,4.9,5.31,5.31,0,0,0,12,6.5,5.46,5.46,0,0,0,6.5,12Z\"/>\n",
              "  </svg>\n",
              "    </button>\n",
              "    <script>\n",
              "      (() => {\n",
              "      const buttonEl =\n",
              "        document.querySelector('#id_e3d51378-bbaa-4f19-a0b1-c0cb59be6478 button.colab-df-generate');\n",
              "      buttonEl.style.display =\n",
              "        google.colab.kernel.accessAllowed ? 'block' : 'none';\n",
              "\n",
              "      buttonEl.onclick = () => {\n",
              "        google.colab.notebook.generateWithVariable('df');\n",
              "      }\n",
              "      })();\n",
              "    </script>\n",
              "  </div>\n",
              "\n",
              "    </div>\n",
              "  </div>\n"
            ],
            "application/vnd.google.colaboratory.intrinsic+json": {
              "type": "dataframe",
              "variable_name": "df"
            }
          },
          "metadata": {},
          "execution_count": 79
        }
      ]
    },
    {
      "cell_type": "code",
      "source": [
        "df.to_csv('preprocessed_data.csv')"
      ],
      "metadata": {
        "id": "20Nv4mumZFH1"
      },
      "execution_count": null,
      "outputs": []
    },
    {
      "cell_type": "code",
      "source": [],
      "metadata": {
        "id": "bwdYrwu4ZZQU"
      },
      "execution_count": null,
      "outputs": []
    }
  ]
}